{
  "nbformat": 4,
  "nbformat_minor": 0,
  "metadata": {
    "colab": {
      "provenance": [],
      "gpuType": "T4"
    },
    "kernelspec": {
      "name": "python3",
      "display_name": "Python 3"
    },
    "language_info": {
      "name": "python"
    },
    "accelerator": "GPU"
  },
  "cells": [
    {
      "cell_type": "code",
      "source": [
        "!pip install ultralytics\n"
      ],
      "metadata": {
        "id": "p9RuZYp3Dx43",
        "colab": {
          "base_uri": "https://localhost:8080/"
        },
        "outputId": "d037e6e9-3c39-43e3-f9e4-e10188a9288c"
      },
      "execution_count": 2,
      "outputs": [
        {
          "output_type": "stream",
          "name": "stdout",
          "text": [
            "Collecting ultralytics\n",
            "  Downloading ultralytics-8.3.127-py3-none-any.whl.metadata (37 kB)\n",
            "Requirement already satisfied: numpy>=1.23.0 in /usr/local/lib/python3.11/dist-packages (from ultralytics) (2.0.2)\n",
            "Requirement already satisfied: matplotlib>=3.3.0 in /usr/local/lib/python3.11/dist-packages (from ultralytics) (3.10.0)\n",
            "Requirement already satisfied: opencv-python>=4.6.0 in /usr/local/lib/python3.11/dist-packages (from ultralytics) (4.11.0.86)\n",
            "Requirement already satisfied: pillow>=7.1.2 in /usr/local/lib/python3.11/dist-packages (from ultralytics) (11.2.1)\n",
            "Requirement already satisfied: pyyaml>=5.3.1 in /usr/local/lib/python3.11/dist-packages (from ultralytics) (6.0.2)\n",
            "Requirement already satisfied: requests>=2.23.0 in /usr/local/lib/python3.11/dist-packages (from ultralytics) (2.32.3)\n",
            "Requirement already satisfied: scipy>=1.4.1 in /usr/local/lib/python3.11/dist-packages (from ultralytics) (1.15.2)\n",
            "Requirement already satisfied: torch>=1.8.0 in /usr/local/lib/python3.11/dist-packages (from ultralytics) (2.6.0+cu124)\n",
            "Requirement already satisfied: torchvision>=0.9.0 in /usr/local/lib/python3.11/dist-packages (from ultralytics) (0.21.0+cu124)\n",
            "Requirement already satisfied: tqdm>=4.64.0 in /usr/local/lib/python3.11/dist-packages (from ultralytics) (4.67.1)\n",
            "Requirement already satisfied: psutil in /usr/local/lib/python3.11/dist-packages (from ultralytics) (5.9.5)\n",
            "Requirement already satisfied: py-cpuinfo in /usr/local/lib/python3.11/dist-packages (from ultralytics) (9.0.0)\n",
            "Requirement already satisfied: pandas>=1.1.4 in /usr/local/lib/python3.11/dist-packages (from ultralytics) (2.2.2)\n",
            "Requirement already satisfied: seaborn>=0.11.0 in /usr/local/lib/python3.11/dist-packages (from ultralytics) (0.13.2)\n",
            "Collecting ultralytics-thop>=2.0.0 (from ultralytics)\n",
            "  Downloading ultralytics_thop-2.0.14-py3-none-any.whl.metadata (9.4 kB)\n",
            "Requirement already satisfied: contourpy>=1.0.1 in /usr/local/lib/python3.11/dist-packages (from matplotlib>=3.3.0->ultralytics) (1.3.2)\n",
            "Requirement already satisfied: cycler>=0.10 in /usr/local/lib/python3.11/dist-packages (from matplotlib>=3.3.0->ultralytics) (0.12.1)\n",
            "Requirement already satisfied: fonttools>=4.22.0 in /usr/local/lib/python3.11/dist-packages (from matplotlib>=3.3.0->ultralytics) (4.57.0)\n",
            "Requirement already satisfied: kiwisolver>=1.3.1 in /usr/local/lib/python3.11/dist-packages (from matplotlib>=3.3.0->ultralytics) (1.4.8)\n",
            "Requirement already satisfied: packaging>=20.0 in /usr/local/lib/python3.11/dist-packages (from matplotlib>=3.3.0->ultralytics) (24.2)\n",
            "Requirement already satisfied: pyparsing>=2.3.1 in /usr/local/lib/python3.11/dist-packages (from matplotlib>=3.3.0->ultralytics) (3.2.3)\n",
            "Requirement already satisfied: python-dateutil>=2.7 in /usr/local/lib/python3.11/dist-packages (from matplotlib>=3.3.0->ultralytics) (2.9.0.post0)\n",
            "Requirement already satisfied: pytz>=2020.1 in /usr/local/lib/python3.11/dist-packages (from pandas>=1.1.4->ultralytics) (2025.2)\n",
            "Requirement already satisfied: tzdata>=2022.7 in /usr/local/lib/python3.11/dist-packages (from pandas>=1.1.4->ultralytics) (2025.2)\n",
            "Requirement already satisfied: charset-normalizer<4,>=2 in /usr/local/lib/python3.11/dist-packages (from requests>=2.23.0->ultralytics) (3.4.1)\n",
            "Requirement already satisfied: idna<4,>=2.5 in /usr/local/lib/python3.11/dist-packages (from requests>=2.23.0->ultralytics) (3.10)\n",
            "Requirement already satisfied: urllib3<3,>=1.21.1 in /usr/local/lib/python3.11/dist-packages (from requests>=2.23.0->ultralytics) (2.4.0)\n",
            "Requirement already satisfied: certifi>=2017.4.17 in /usr/local/lib/python3.11/dist-packages (from requests>=2.23.0->ultralytics) (2025.4.26)\n",
            "Requirement already satisfied: filelock in /usr/local/lib/python3.11/dist-packages (from torch>=1.8.0->ultralytics) (3.18.0)\n",
            "Requirement already satisfied: typing-extensions>=4.10.0 in /usr/local/lib/python3.11/dist-packages (from torch>=1.8.0->ultralytics) (4.13.2)\n",
            "Requirement already satisfied: networkx in /usr/local/lib/python3.11/dist-packages (from torch>=1.8.0->ultralytics) (3.4.2)\n",
            "Requirement already satisfied: jinja2 in /usr/local/lib/python3.11/dist-packages (from torch>=1.8.0->ultralytics) (3.1.6)\n",
            "Requirement already satisfied: fsspec in /usr/local/lib/python3.11/dist-packages (from torch>=1.8.0->ultralytics) (2025.3.2)\n",
            "Collecting nvidia-cuda-nvrtc-cu12==12.4.127 (from torch>=1.8.0->ultralytics)\n",
            "  Downloading nvidia_cuda_nvrtc_cu12-12.4.127-py3-none-manylinux2014_x86_64.whl.metadata (1.5 kB)\n",
            "Collecting nvidia-cuda-runtime-cu12==12.4.127 (from torch>=1.8.0->ultralytics)\n",
            "  Downloading nvidia_cuda_runtime_cu12-12.4.127-py3-none-manylinux2014_x86_64.whl.metadata (1.5 kB)\n",
            "Collecting nvidia-cuda-cupti-cu12==12.4.127 (from torch>=1.8.0->ultralytics)\n",
            "  Downloading nvidia_cuda_cupti_cu12-12.4.127-py3-none-manylinux2014_x86_64.whl.metadata (1.6 kB)\n",
            "Collecting nvidia-cudnn-cu12==9.1.0.70 (from torch>=1.8.0->ultralytics)\n",
            "  Downloading nvidia_cudnn_cu12-9.1.0.70-py3-none-manylinux2014_x86_64.whl.metadata (1.6 kB)\n",
            "Collecting nvidia-cublas-cu12==12.4.5.8 (from torch>=1.8.0->ultralytics)\n",
            "  Downloading nvidia_cublas_cu12-12.4.5.8-py3-none-manylinux2014_x86_64.whl.metadata (1.5 kB)\n",
            "Collecting nvidia-cufft-cu12==11.2.1.3 (from torch>=1.8.0->ultralytics)\n",
            "  Downloading nvidia_cufft_cu12-11.2.1.3-py3-none-manylinux2014_x86_64.whl.metadata (1.5 kB)\n",
            "Collecting nvidia-curand-cu12==10.3.5.147 (from torch>=1.8.0->ultralytics)\n",
            "  Downloading nvidia_curand_cu12-10.3.5.147-py3-none-manylinux2014_x86_64.whl.metadata (1.5 kB)\n",
            "Collecting nvidia-cusolver-cu12==11.6.1.9 (from torch>=1.8.0->ultralytics)\n",
            "  Downloading nvidia_cusolver_cu12-11.6.1.9-py3-none-manylinux2014_x86_64.whl.metadata (1.6 kB)\n",
            "Collecting nvidia-cusparse-cu12==12.3.1.170 (from torch>=1.8.0->ultralytics)\n",
            "  Downloading nvidia_cusparse_cu12-12.3.1.170-py3-none-manylinux2014_x86_64.whl.metadata (1.6 kB)\n",
            "Requirement already satisfied: nvidia-cusparselt-cu12==0.6.2 in /usr/local/lib/python3.11/dist-packages (from torch>=1.8.0->ultralytics) (0.6.2)\n",
            "Requirement already satisfied: nvidia-nccl-cu12==2.21.5 in /usr/local/lib/python3.11/dist-packages (from torch>=1.8.0->ultralytics) (2.21.5)\n",
            "Requirement already satisfied: nvidia-nvtx-cu12==12.4.127 in /usr/local/lib/python3.11/dist-packages (from torch>=1.8.0->ultralytics) (12.4.127)\n",
            "Collecting nvidia-nvjitlink-cu12==12.4.127 (from torch>=1.8.0->ultralytics)\n",
            "  Downloading nvidia_nvjitlink_cu12-12.4.127-py3-none-manylinux2014_x86_64.whl.metadata (1.5 kB)\n",
            "Requirement already satisfied: triton==3.2.0 in /usr/local/lib/python3.11/dist-packages (from torch>=1.8.0->ultralytics) (3.2.0)\n",
            "Requirement already satisfied: sympy==1.13.1 in /usr/local/lib/python3.11/dist-packages (from torch>=1.8.0->ultralytics) (1.13.1)\n",
            "Requirement already satisfied: mpmath<1.4,>=1.1.0 in /usr/local/lib/python3.11/dist-packages (from sympy==1.13.1->torch>=1.8.0->ultralytics) (1.3.0)\n",
            "Requirement already satisfied: six>=1.5 in /usr/local/lib/python3.11/dist-packages (from python-dateutil>=2.7->matplotlib>=3.3.0->ultralytics) (1.17.0)\n",
            "Requirement already satisfied: MarkupSafe>=2.0 in /usr/local/lib/python3.11/dist-packages (from jinja2->torch>=1.8.0->ultralytics) (3.0.2)\n",
            "Downloading ultralytics-8.3.127-py3-none-any.whl (1.0 MB)\n",
            "\u001b[2K   \u001b[90m━━━━━━━━━━━━━━━━━━━━━━━━━━━━━━━━━━━━━━━━\u001b[0m \u001b[32m1.0/1.0 MB\u001b[0m \u001b[31m30.2 MB/s\u001b[0m eta \u001b[36m0:00:00\u001b[0m\n",
            "\u001b[?25hDownloading nvidia_cublas_cu12-12.4.5.8-py3-none-manylinux2014_x86_64.whl (363.4 MB)\n",
            "\u001b[2K   \u001b[90m━━━━━━━━━━━━━━━━━━━━━━━━━━━━━━━━━━━━━━━━\u001b[0m \u001b[32m363.4/363.4 MB\u001b[0m \u001b[31m4.7 MB/s\u001b[0m eta \u001b[36m0:00:00\u001b[0m\n",
            "\u001b[?25hDownloading nvidia_cuda_cupti_cu12-12.4.127-py3-none-manylinux2014_x86_64.whl (13.8 MB)\n",
            "\u001b[2K   \u001b[90m━━━━━━━━━━━━━━━━━━━━━━━━━━━━━━━━━━━━━━━━\u001b[0m \u001b[32m13.8/13.8 MB\u001b[0m \u001b[31m123.8 MB/s\u001b[0m eta \u001b[36m0:00:00\u001b[0m\n",
            "\u001b[?25hDownloading nvidia_cuda_nvrtc_cu12-12.4.127-py3-none-manylinux2014_x86_64.whl (24.6 MB)\n",
            "\u001b[2K   \u001b[90m━━━━━━━━━━━━━━━━━━━━━━━━━━━━━━━━━━━━━━━━\u001b[0m \u001b[32m24.6/24.6 MB\u001b[0m \u001b[31m95.0 MB/s\u001b[0m eta \u001b[36m0:00:00\u001b[0m\n",
            "\u001b[?25hDownloading nvidia_cuda_runtime_cu12-12.4.127-py3-none-manylinux2014_x86_64.whl (883 kB)\n",
            "\u001b[2K   \u001b[90m━━━━━━━━━━━━━━━━━━━━━━━━━━━━━━━━━━━━━━━━\u001b[0m \u001b[32m883.7/883.7 kB\u001b[0m \u001b[31m59.5 MB/s\u001b[0m eta \u001b[36m0:00:00\u001b[0m\n",
            "\u001b[?25hDownloading nvidia_cudnn_cu12-9.1.0.70-py3-none-manylinux2014_x86_64.whl (664.8 MB)\n",
            "\u001b[2K   \u001b[90m━━━━━━━━━━━━━━━━━━━━━━━━━━━━━━━━━━━━━━━━\u001b[0m \u001b[32m664.8/664.8 MB\u001b[0m \u001b[31m2.2 MB/s\u001b[0m eta \u001b[36m0:00:00\u001b[0m\n",
            "\u001b[?25hDownloading nvidia_cufft_cu12-11.2.1.3-py3-none-manylinux2014_x86_64.whl (211.5 MB)\n",
            "\u001b[2K   \u001b[90m━━━━━━━━━━━━━━━━━━━━━━━━━━━━━━━━━━━━━━━━\u001b[0m \u001b[32m211.5/211.5 MB\u001b[0m \u001b[31m5.5 MB/s\u001b[0m eta \u001b[36m0:00:00\u001b[0m\n",
            "\u001b[?25hDownloading nvidia_curand_cu12-10.3.5.147-py3-none-manylinux2014_x86_64.whl (56.3 MB)\n",
            "\u001b[2K   \u001b[90m━━━━━━━━━━━━━━━━━━━━━━━━━━━━━━━━━━━━━━━━\u001b[0m \u001b[32m56.3/56.3 MB\u001b[0m \u001b[31m13.0 MB/s\u001b[0m eta \u001b[36m0:00:00\u001b[0m\n",
            "\u001b[?25hDownloading nvidia_cusolver_cu12-11.6.1.9-py3-none-manylinux2014_x86_64.whl (127.9 MB)\n",
            "\u001b[2K   \u001b[90m━━━━━━━━━━━━━━━━━━━━━━━━━━━━━━━━━━━━━━━━\u001b[0m \u001b[32m127.9/127.9 MB\u001b[0m \u001b[31m7.3 MB/s\u001b[0m eta \u001b[36m0:00:00\u001b[0m\n",
            "\u001b[?25hDownloading nvidia_cusparse_cu12-12.3.1.170-py3-none-manylinux2014_x86_64.whl (207.5 MB)\n",
            "\u001b[2K   \u001b[90m━━━━━━━━━━━━━━━━━━━━━━━━━━━━━━━━━━━━━━━━\u001b[0m \u001b[32m207.5/207.5 MB\u001b[0m \u001b[31m5.5 MB/s\u001b[0m eta \u001b[36m0:00:00\u001b[0m\n",
            "\u001b[?25hDownloading nvidia_nvjitlink_cu12-12.4.127-py3-none-manylinux2014_x86_64.whl (21.1 MB)\n",
            "\u001b[2K   \u001b[90m━━━━━━━━━━━━━━━━━━━━━━━━━━━━━━━━━━━━━━━━\u001b[0m \u001b[32m21.1/21.1 MB\u001b[0m \u001b[31m98.0 MB/s\u001b[0m eta \u001b[36m0:00:00\u001b[0m\n",
            "\u001b[?25hDownloading ultralytics_thop-2.0.14-py3-none-any.whl (26 kB)\n",
            "Installing collected packages: nvidia-nvjitlink-cu12, nvidia-curand-cu12, nvidia-cufft-cu12, nvidia-cuda-runtime-cu12, nvidia-cuda-nvrtc-cu12, nvidia-cuda-cupti-cu12, nvidia-cublas-cu12, nvidia-cusparse-cu12, nvidia-cudnn-cu12, nvidia-cusolver-cu12, ultralytics-thop, ultralytics\n",
            "  Attempting uninstall: nvidia-nvjitlink-cu12\n",
            "    Found existing installation: nvidia-nvjitlink-cu12 12.5.82\n",
            "    Uninstalling nvidia-nvjitlink-cu12-12.5.82:\n",
            "      Successfully uninstalled nvidia-nvjitlink-cu12-12.5.82\n",
            "  Attempting uninstall: nvidia-curand-cu12\n",
            "    Found existing installation: nvidia-curand-cu12 10.3.6.82\n",
            "    Uninstalling nvidia-curand-cu12-10.3.6.82:\n",
            "      Successfully uninstalled nvidia-curand-cu12-10.3.6.82\n",
            "  Attempting uninstall: nvidia-cufft-cu12\n",
            "    Found existing installation: nvidia-cufft-cu12 11.2.3.61\n",
            "    Uninstalling nvidia-cufft-cu12-11.2.3.61:\n",
            "      Successfully uninstalled nvidia-cufft-cu12-11.2.3.61\n",
            "  Attempting uninstall: nvidia-cuda-runtime-cu12\n",
            "    Found existing installation: nvidia-cuda-runtime-cu12 12.5.82\n",
            "    Uninstalling nvidia-cuda-runtime-cu12-12.5.82:\n",
            "      Successfully uninstalled nvidia-cuda-runtime-cu12-12.5.82\n",
            "  Attempting uninstall: nvidia-cuda-nvrtc-cu12\n",
            "    Found existing installation: nvidia-cuda-nvrtc-cu12 12.5.82\n",
            "    Uninstalling nvidia-cuda-nvrtc-cu12-12.5.82:\n",
            "      Successfully uninstalled nvidia-cuda-nvrtc-cu12-12.5.82\n",
            "  Attempting uninstall: nvidia-cuda-cupti-cu12\n",
            "    Found existing installation: nvidia-cuda-cupti-cu12 12.5.82\n",
            "    Uninstalling nvidia-cuda-cupti-cu12-12.5.82:\n",
            "      Successfully uninstalled nvidia-cuda-cupti-cu12-12.5.82\n",
            "  Attempting uninstall: nvidia-cublas-cu12\n",
            "    Found existing installation: nvidia-cublas-cu12 12.5.3.2\n",
            "    Uninstalling nvidia-cublas-cu12-12.5.3.2:\n",
            "      Successfully uninstalled nvidia-cublas-cu12-12.5.3.2\n",
            "  Attempting uninstall: nvidia-cusparse-cu12\n",
            "    Found existing installation: nvidia-cusparse-cu12 12.5.1.3\n",
            "    Uninstalling nvidia-cusparse-cu12-12.5.1.3:\n",
            "      Successfully uninstalled nvidia-cusparse-cu12-12.5.1.3\n",
            "  Attempting uninstall: nvidia-cudnn-cu12\n",
            "    Found existing installation: nvidia-cudnn-cu12 9.3.0.75\n",
            "    Uninstalling nvidia-cudnn-cu12-9.3.0.75:\n",
            "      Successfully uninstalled nvidia-cudnn-cu12-9.3.0.75\n",
            "  Attempting uninstall: nvidia-cusolver-cu12\n",
            "    Found existing installation: nvidia-cusolver-cu12 11.6.3.83\n",
            "    Uninstalling nvidia-cusolver-cu12-11.6.3.83:\n",
            "      Successfully uninstalled nvidia-cusolver-cu12-11.6.3.83\n",
            "Successfully installed nvidia-cublas-cu12-12.4.5.8 nvidia-cuda-cupti-cu12-12.4.127 nvidia-cuda-nvrtc-cu12-12.4.127 nvidia-cuda-runtime-cu12-12.4.127 nvidia-cudnn-cu12-9.1.0.70 nvidia-cufft-cu12-11.2.1.3 nvidia-curand-cu12-10.3.5.147 nvidia-cusolver-cu12-11.6.1.9 nvidia-cusparse-cu12-12.3.1.170 nvidia-nvjitlink-cu12-12.4.127 ultralytics-8.3.127 ultralytics-thop-2.0.14\n"
          ]
        }
      ]
    },
    {
      "cell_type": "code",
      "source": [
        "import os\n",
        "\n",
        "for root, dirs, files in os.walk(\"/content\"):\n",
        "    for name in dirs:\n",
        "        print(os.path.join(root, name))\n"
      ],
      "metadata": {
        "colab": {
          "base_uri": "https://localhost:8080/"
        },
        "id": "uRKbTCFFGbIz",
        "outputId": "0b3c960c-ac94-4e91-a381-af5d0019f555"
      },
      "execution_count": 3,
      "outputs": [
        {
          "output_type": "stream",
          "name": "stdout",
          "text": [
            "/content/.config\n",
            "/content/sample_data\n",
            "/content/.config/configurations\n",
            "/content/.config/logs\n",
            "/content/.config/logs/2025.05.02\n"
          ]
        }
      ]
    },
    {
      "cell_type": "markdown",
      "source": [
        "**Load Dataset**\n"
      ],
      "metadata": {
        "id": "strisLs7vH0g"
      }
    },
    {
      "cell_type": "code",
      "source": [
        "import zipfile\n",
        "import os\n",
        "\n",
        "zip_path = \"/content/Supermarket Empty Shelf Detector.v4i.yolov8.zip\"\n",
        "extract_to = \"/content/shelves_dataset\"\n",
        "\n",
        "# Re-extract\n",
        "with zipfile.ZipFile(zip_path, 'r') as zip_ref:\n",
        "    zip_ref.extractall(extract_to)\n",
        "\n",
        "print(\"✅ Dataset extracted to:\", extract_to)\n",
        "\n"
      ],
      "metadata": {
        "colab": {
          "base_uri": "https://localhost:8080/"
        },
        "id": "NqVG64-4GnsR",
        "outputId": "42832c2a-cdf2-4ec0-c132-eeb5242e5d5b"
      },
      "execution_count": 6,
      "outputs": [
        {
          "output_type": "stream",
          "name": "stdout",
          "text": [
            "✅ Dataset extracted to: /content/shelves_dataset\n"
          ]
        }
      ]
    },
    {
      "cell_type": "code",
      "source": [
        "import os\n",
        "\n",
        "for root, dirs, files in os.walk(\"/content/shelves_dataset\"):\n",
        "    for name in dirs:\n",
        "        print(os.path.join(root, name))\n"
      ],
      "metadata": {
        "colab": {
          "base_uri": "https://localhost:8080/"
        },
        "id": "i2-1YksYHWd-",
        "outputId": "6ce17a2f-eaa1-4dd4-fea6-30ac3353c83d"
      },
      "execution_count": 8,
      "outputs": [
        {
          "output_type": "stream",
          "name": "stdout",
          "text": [
            "/content/shelves_dataset/test\n",
            "/content/shelves_dataset/valid\n",
            "/content/shelves_dataset/train\n",
            "/content/shelves_dataset/test/labels\n",
            "/content/shelves_dataset/test/images\n",
            "/content/shelves_dataset/valid/labels\n",
            "/content/shelves_dataset/valid/images\n",
            "/content/shelves_dataset/train/labels\n",
            "/content/shelves_dataset/train/images\n"
          ]
        }
      ]
    },
    {
      "cell_type": "markdown",
      "source": [
        "**Create data.yaml**"
      ],
      "metadata": {
        "id": "OuXWsi5KvPbs"
      }
    },
    {
      "cell_type": "code",
      "source": [
        "yaml_text = \"\"\"\n",
        "train: /content/shelves_dataset/train/images\n",
        "val: /content/shelves_dataset/valid/images\n",
        "\n",
        "nc: 1\n",
        "names: [\"empty_shelf\"]\n",
        "\"\"\"\n",
        "\n",
        "with open(\"/content/data.yaml\", \"w\") as f:\n",
        "    f.write(yaml_text)\n",
        "\n",
        "print(\"✅ Created data.yaml at /content/data.yaml\")\n"
      ],
      "metadata": {
        "colab": {
          "base_uri": "https://localhost:8080/"
        },
        "id": "YONsB628HeLT",
        "outputId": "241243fc-744a-4557-b0a6-6c7532b8f414"
      },
      "execution_count": 9,
      "outputs": [
        {
          "output_type": "stream",
          "name": "stdout",
          "text": [
            "✅ Created data.yaml at /content/data.yaml\n"
          ]
        }
      ]
    },
    {
      "cell_type": "markdown",
      "source": [
        "**Train the YOLOv8 Model**"
      ],
      "metadata": {
        "id": "w5cTOLx_H4Gy"
      }
    },
    {
      "cell_type": "code",
      "source": [
        "from ultralytics import YOLO\n",
        "\n",
        "model = YOLO(\"yolov8n.pt\")\n",
        "model.train(data=\"/content/data.yaml\", epochs=50, imgsz=640)\n"
      ],
      "metadata": {
        "colab": {
          "base_uri": "https://localhost:8080/"
        },
        "id": "lyfx9i4tHzLo",
        "outputId": "47c17c14-8cf5-4bc4-d8dc-720cf6a26589"
      },
      "execution_count": 10,
      "outputs": [
        {
          "output_type": "stream",
          "name": "stdout",
          "text": [
            "Creating new Ultralytics Settings v0.0.6 file ✅ \n",
            "View Ultralytics Settings with 'yolo settings' or at '/root/.config/Ultralytics/settings.json'\n",
            "Update Settings with 'yolo settings key=value', i.e. 'yolo settings runs_dir=path/to/dir'. For help see https://docs.ultralytics.com/quickstart/#ultralytics-settings.\n",
            "Downloading https://github.com/ultralytics/assets/releases/download/v8.3.0/yolov8n.pt to 'yolov8n.pt'...\n"
          ]
        },
        {
          "output_type": "stream",
          "name": "stderr",
          "text": [
            "100%|██████████| 6.25M/6.25M [00:00<00:00, 105MB/s]\n"
          ]
        },
        {
          "output_type": "stream",
          "name": "stdout",
          "text": [
            "Ultralytics 8.3.127 🚀 Python-3.11.12 torch-2.6.0+cu124 CUDA:0 (Tesla T4, 15095MiB)\n",
            "\u001b[34m\u001b[1mengine/trainer: \u001b[0magnostic_nms=False, amp=True, augment=False, auto_augment=randaugment, batch=16, bgr=0.0, box=7.5, cache=False, cfg=None, classes=None, close_mosaic=10, cls=0.5, conf=None, copy_paste=0.0, copy_paste_mode=flip, cos_lr=False, cutmix=0.0, data=/content/data.yaml, degrees=0.0, deterministic=True, device=cuda:0, dfl=1.5, dnn=False, dropout=0.0, dynamic=False, embed=None, epochs=50, erasing=0.4, exist_ok=False, fliplr=0.5, flipud=0.0, format=torchscript, fraction=1.0, freeze=None, half=False, hsv_h=0.015, hsv_s=0.7, hsv_v=0.4, imgsz=640, int8=False, iou=0.7, keras=False, kobj=1.0, line_width=None, lr0=0.01, lrf=0.01, mask_ratio=4, max_det=300, mixup=0.0, mode=train, model=yolov8n.pt, momentum=0.937, mosaic=1.0, multi_scale=False, name=train, nbs=64, nms=False, opset=None, optimize=False, optimizer=auto, overlap_mask=True, patience=100, perspective=0.0, plots=True, pose=12.0, pretrained=True, profile=False, project=None, rect=False, resume=False, retina_masks=False, save=True, save_conf=False, save_crop=False, save_dir=runs/detect/train, save_frames=False, save_json=False, save_period=-1, save_txt=False, scale=0.5, seed=0, shear=0.0, show=False, show_boxes=True, show_conf=True, show_labels=True, simplify=True, single_cls=False, source=None, split=val, stream_buffer=False, task=detect, time=None, tracker=botsort.yaml, translate=0.1, val=True, verbose=True, vid_stride=1, visualize=False, warmup_bias_lr=0.1, warmup_epochs=3.0, warmup_momentum=0.8, weight_decay=0.0005, workers=8, workspace=None\n",
            "Downloading https://ultralytics.com/assets/Arial.ttf to '/root/.config/Ultralytics/Arial.ttf'...\n"
          ]
        },
        {
          "output_type": "stream",
          "name": "stderr",
          "text": [
            "100%|██████████| 755k/755k [00:00<00:00, 21.7MB/s]"
          ]
        },
        {
          "output_type": "stream",
          "name": "stdout",
          "text": [
            "Overriding model.yaml nc=80 with nc=1\n",
            "\n",
            "                   from  n    params  module                                       arguments                     \n",
            "  0                  -1  1       464  ultralytics.nn.modules.conv.Conv             [3, 16, 3, 2]                 \n",
            "  1                  -1  1      4672  ultralytics.nn.modules.conv.Conv             [16, 32, 3, 2]                \n",
            "  2                  -1  1      7360  ultralytics.nn.modules.block.C2f             [32, 32, 1, True]             \n",
            "  3                  -1  1     18560  ultralytics.nn.modules.conv.Conv             [32, 64, 3, 2]                \n",
            "  4                  -1  2     49664  ultralytics.nn.modules.block.C2f             [64, 64, 2, True]             \n",
            "  5                  -1  1     73984  ultralytics.nn.modules.conv.Conv             [64, 128, 3, 2]               \n",
            "  6                  -1  2    197632  ultralytics.nn.modules.block.C2f             [128, 128, 2, True]           \n",
            "  7                  -1  1    295424  ultralytics.nn.modules.conv.Conv             [128, 256, 3, 2]              \n",
            "  8                  -1  1    460288  ultralytics.nn.modules.block.C2f             [256, 256, 1, True]           \n",
            "  9                  -1  1    164608  ultralytics.nn.modules.block.SPPF            [256, 256, 5]                 \n",
            " 10                  -1  1         0  torch.nn.modules.upsampling.Upsample         [None, 2, 'nearest']          \n",
            " 11             [-1, 6]  1         0  ultralytics.nn.modules.conv.Concat           [1]                           \n",
            " 12                  -1  1    148224  ultralytics.nn.modules.block.C2f             [384, 128, 1]                 \n",
            " 13                  -1  1         0  torch.nn.modules.upsampling.Upsample         [None, 2, 'nearest']          \n",
            " 14             [-1, 4]  1         0  ultralytics.nn.modules.conv.Concat           [1]                           \n",
            " 15                  -1  1     37248  ultralytics.nn.modules.block.C2f             [192, 64, 1]                  \n",
            " 16                  -1  1     36992  ultralytics.nn.modules.conv.Conv             [64, 64, 3, 2]                \n",
            " 17            [-1, 12]  1         0  ultralytics.nn.modules.conv.Concat           [1]                           \n",
            " 18                  -1  1    123648  ultralytics.nn.modules.block.C2f             [192, 128, 1]                 \n",
            " 19                  -1  1    147712  ultralytics.nn.modules.conv.Conv             [128, 128, 3, 2]              \n",
            " 20             [-1, 9]  1         0  ultralytics.nn.modules.conv.Concat           [1]                           \n",
            " 21                  -1  1    493056  ultralytics.nn.modules.block.C2f             [384, 256, 1]                 \n"
          ]
        },
        {
          "output_type": "stream",
          "name": "stderr",
          "text": [
            "\n"
          ]
        },
        {
          "output_type": "stream",
          "name": "stdout",
          "text": [
            " 22        [15, 18, 21]  1    751507  ultralytics.nn.modules.head.Detect           [1, [64, 128, 256]]           \n",
            "Model summary: 129 layers, 3,011,043 parameters, 3,011,027 gradients, 8.2 GFLOPs\n",
            "\n",
            "Transferred 319/355 items from pretrained weights\n",
            "Freezing layer 'model.22.dfl.conv.weight'\n",
            "\u001b[34m\u001b[1mAMP: \u001b[0mrunning Automatic Mixed Precision (AMP) checks...\n",
            "Downloading https://github.com/ultralytics/assets/releases/download/v8.3.0/yolo11n.pt to 'yolo11n.pt'...\n"
          ]
        },
        {
          "output_type": "stream",
          "name": "stderr",
          "text": [
            "100%|██████████| 5.35M/5.35M [00:00<00:00, 92.2MB/s]\n"
          ]
        },
        {
          "output_type": "stream",
          "name": "stdout",
          "text": [
            "\u001b[34m\u001b[1mAMP: \u001b[0mchecks passed ✅\n",
            "\u001b[34m\u001b[1mtrain: \u001b[0mFast image access ✅ (ping: 0.0±0.0 ms, read: 1847.3±573.4 MB/s, size: 88.0 KB)\n"
          ]
        },
        {
          "output_type": "stream",
          "name": "stderr",
          "text": [
            "\u001b[34m\u001b[1mtrain: \u001b[0mScanning /content/shelves_dataset/train/labels... 350 images, 0 backgrounds, 0 corrupt: 100%|██████████| 350/350 [00:00<00:00, 2311.73it/s]"
          ]
        },
        {
          "output_type": "stream",
          "name": "stdout",
          "text": [
            "\u001b[34m\u001b[1mtrain: \u001b[0mNew cache created: /content/shelves_dataset/train/labels.cache\n"
          ]
        },
        {
          "output_type": "stream",
          "name": "stderr",
          "text": [
            "\n"
          ]
        },
        {
          "output_type": "stream",
          "name": "stdout",
          "text": [
            "\u001b[34m\u001b[1malbumentations: \u001b[0mBlur(p=0.01, blur_limit=(3, 7)), MedianBlur(p=0.01, blur_limit=(3, 7)), ToGray(p=0.01, method='weighted_average', num_output_channels=3), CLAHE(p=0.01, clip_limit=(1.0, 4.0), tile_grid_size=(8, 8))\n",
            "\u001b[34m\u001b[1mval: \u001b[0mFast image access ✅ (ping: 0.0±0.0 ms, read: 1311.1±921.8 MB/s, size: 86.7 KB)\n"
          ]
        },
        {
          "output_type": "stream",
          "name": "stderr",
          "text": [
            "\u001b[34m\u001b[1mval: \u001b[0mScanning /content/shelves_dataset/valid/labels... 97 images, 0 backgrounds, 0 corrupt: 100%|██████████| 97/97 [00:00<00:00, 688.63it/s]"
          ]
        },
        {
          "output_type": "stream",
          "name": "stdout",
          "text": [
            "\u001b[34m\u001b[1mval: \u001b[0mNew cache created: /content/shelves_dataset/valid/labels.cache\n"
          ]
        },
        {
          "output_type": "stream",
          "name": "stderr",
          "text": [
            "\n"
          ]
        },
        {
          "output_type": "stream",
          "name": "stdout",
          "text": [
            "Plotting labels to runs/detect/train/labels.jpg... \n",
            "\u001b[34m\u001b[1moptimizer:\u001b[0m 'optimizer=auto' found, ignoring 'lr0=0.01' and 'momentum=0.937' and determining best 'optimizer', 'lr0' and 'momentum' automatically... \n",
            "\u001b[34m\u001b[1moptimizer:\u001b[0m AdamW(lr=0.002, momentum=0.9) with parameter groups 57 weight(decay=0.0), 64 weight(decay=0.0005), 63 bias(decay=0.0)\n",
            "Image sizes 640 train, 640 val\n",
            "Using 2 dataloader workers\n",
            "Logging results to \u001b[1mruns/detect/train\u001b[0m\n",
            "Starting training for 50 epochs...\n",
            "\n",
            "      Epoch    GPU_mem   box_loss   cls_loss   dfl_loss  Instances       Size\n"
          ]
        },
        {
          "output_type": "stream",
          "name": "stderr",
          "text": [
            "       1/50      2.14G      2.439      3.289      1.712        137        640: 100%|██████████| 22/22 [00:08<00:00,  2.69it/s]\n",
            "                 Class     Images  Instances      Box(P          R      mAP50  mAP50-95): 100%|██████████| 4/4 [00:02<00:00,  1.74it/s]"
          ]
        },
        {
          "output_type": "stream",
          "name": "stdout",
          "text": [
            "                   all         97        600     0.0144      0.697      0.243      0.121\n"
          ]
        },
        {
          "output_type": "stream",
          "name": "stderr",
          "text": [
            "\n"
          ]
        },
        {
          "output_type": "stream",
          "name": "stdout",
          "text": [
            "\n",
            "      Epoch    GPU_mem   box_loss   cls_loss   dfl_loss  Instances       Size\n"
          ]
        },
        {
          "output_type": "stream",
          "name": "stderr",
          "text": [
            "       2/50      2.54G      1.617      1.811      1.194        114        640: 100%|██████████| 22/22 [00:05<00:00,  4.13it/s]\n",
            "                 Class     Images  Instances      Box(P          R      mAP50  mAP50-95): 100%|██████████| 4/4 [00:01<00:00,  2.71it/s]"
          ]
        },
        {
          "output_type": "stream",
          "name": "stdout",
          "text": [
            "                   all         97        600      0.893      0.236      0.556      0.294\n"
          ]
        },
        {
          "output_type": "stream",
          "name": "stderr",
          "text": [
            "\n"
          ]
        },
        {
          "output_type": "stream",
          "name": "stdout",
          "text": [
            "\n",
            "      Epoch    GPU_mem   box_loss   cls_loss   dfl_loss  Instances       Size\n"
          ]
        },
        {
          "output_type": "stream",
          "name": "stderr",
          "text": [
            "       3/50      2.56G      1.493      1.529      1.146         78        640: 100%|██████████| 22/22 [00:06<00:00,  3.37it/s]\n",
            "                 Class     Images  Instances      Box(P          R      mAP50  mAP50-95): 100%|██████████| 4/4 [00:01<00:00,  3.41it/s]"
          ]
        },
        {
          "output_type": "stream",
          "name": "stdout",
          "text": [
            "                   all         97        600      0.664       0.52      0.561      0.268\n"
          ]
        },
        {
          "output_type": "stream",
          "name": "stderr",
          "text": [
            "\n"
          ]
        },
        {
          "output_type": "stream",
          "name": "stdout",
          "text": [
            "\n",
            "      Epoch    GPU_mem   box_loss   cls_loss   dfl_loss  Instances       Size\n"
          ]
        },
        {
          "output_type": "stream",
          "name": "stderr",
          "text": [
            "       4/50      2.57G      1.481      1.438      1.146        125        640: 100%|██████████| 22/22 [00:05<00:00,  4.23it/s]\n",
            "                 Class     Images  Instances      Box(P          R      mAP50  mAP50-95): 100%|██████████| 4/4 [00:01<00:00,  2.71it/s]"
          ]
        },
        {
          "output_type": "stream",
          "name": "stdout",
          "text": [
            "                   all         97        600      0.721      0.563      0.584      0.311\n"
          ]
        },
        {
          "output_type": "stream",
          "name": "stderr",
          "text": [
            "\n"
          ]
        },
        {
          "output_type": "stream",
          "name": "stdout",
          "text": [
            "\n",
            "      Epoch    GPU_mem   box_loss   cls_loss   dfl_loss  Instances       Size\n"
          ]
        },
        {
          "output_type": "stream",
          "name": "stderr",
          "text": [
            "       5/50      2.59G      1.434      1.341      1.113        101        640: 100%|██████████| 22/22 [00:05<00:00,  3.78it/s]\n",
            "                 Class     Images  Instances      Box(P          R      mAP50  mAP50-95): 100%|██████████| 4/4 [00:01<00:00,  2.90it/s]"
          ]
        },
        {
          "output_type": "stream",
          "name": "stdout",
          "text": [
            "                   all         97        600      0.706      0.538      0.581        0.3\n"
          ]
        },
        {
          "output_type": "stream",
          "name": "stderr",
          "text": [
            "\n"
          ]
        },
        {
          "output_type": "stream",
          "name": "stdout",
          "text": [
            "\n",
            "      Epoch    GPU_mem   box_loss   cls_loss   dfl_loss  Instances       Size\n"
          ]
        },
        {
          "output_type": "stream",
          "name": "stderr",
          "text": [
            "       6/50      2.61G      1.416      1.291      1.113        153        640: 100%|██████████| 22/22 [00:05<00:00,  4.07it/s]\n",
            "                 Class     Images  Instances      Box(P          R      mAP50  mAP50-95): 100%|██████████| 4/4 [00:02<00:00,  1.61it/s]"
          ]
        },
        {
          "output_type": "stream",
          "name": "stdout",
          "text": [
            "                   all         97        600      0.702      0.548      0.628      0.337\n"
          ]
        },
        {
          "output_type": "stream",
          "name": "stderr",
          "text": [
            "\n"
          ]
        },
        {
          "output_type": "stream",
          "name": "stdout",
          "text": [
            "\n",
            "      Epoch    GPU_mem   box_loss   cls_loss   dfl_loss  Instances       Size\n"
          ]
        },
        {
          "output_type": "stream",
          "name": "stderr",
          "text": [
            "       7/50      2.62G      1.397      1.278      1.096        138        640: 100%|██████████| 22/22 [00:05<00:00,  4.22it/s]\n",
            "                 Class     Images  Instances      Box(P          R      mAP50  mAP50-95): 100%|██████████| 4/4 [00:01<00:00,  3.30it/s]"
          ]
        },
        {
          "output_type": "stream",
          "name": "stdout",
          "text": [
            "                   all         97        600      0.577      0.587      0.552      0.286\n"
          ]
        },
        {
          "output_type": "stream",
          "name": "stderr",
          "text": [
            "\n"
          ]
        },
        {
          "output_type": "stream",
          "name": "stdout",
          "text": [
            "\n",
            "      Epoch    GPU_mem   box_loss   cls_loss   dfl_loss  Instances       Size\n"
          ]
        },
        {
          "output_type": "stream",
          "name": "stderr",
          "text": [
            "       8/50      2.64G      1.392      1.243      1.094        185        640: 100%|██████████| 22/22 [00:06<00:00,  3.37it/s]\n",
            "                 Class     Images  Instances      Box(P          R      mAP50  mAP50-95): 100%|██████████| 4/4 [00:01<00:00,  3.70it/s]"
          ]
        },
        {
          "output_type": "stream",
          "name": "stdout",
          "text": [
            "                   all         97        600      0.665      0.604      0.654      0.368\n"
          ]
        },
        {
          "output_type": "stream",
          "name": "stderr",
          "text": [
            "\n"
          ]
        },
        {
          "output_type": "stream",
          "name": "stdout",
          "text": [
            "\n",
            "      Epoch    GPU_mem   box_loss   cls_loss   dfl_loss  Instances       Size\n"
          ]
        },
        {
          "output_type": "stream",
          "name": "stderr",
          "text": [
            "       9/50      2.66G      1.333      1.177      1.085         76        640: 100%|██████████| 22/22 [00:05<00:00,  4.18it/s]\n",
            "                 Class     Images  Instances      Box(P          R      mAP50  mAP50-95): 100%|██████████| 4/4 [00:01<00:00,  3.51it/s]"
          ]
        },
        {
          "output_type": "stream",
          "name": "stdout",
          "text": [
            "                   all         97        600        0.7      0.638      0.662      0.371\n"
          ]
        },
        {
          "output_type": "stream",
          "name": "stderr",
          "text": [
            "\n"
          ]
        },
        {
          "output_type": "stream",
          "name": "stdout",
          "text": [
            "\n",
            "      Epoch    GPU_mem   box_loss   cls_loss   dfl_loss  Instances       Size\n"
          ]
        },
        {
          "output_type": "stream",
          "name": "stderr",
          "text": [
            "      10/50      2.68G       1.37        1.2      1.088        136        640: 100%|██████████| 22/22 [00:06<00:00,  3.46it/s]\n",
            "                 Class     Images  Instances      Box(P          R      mAP50  mAP50-95): 100%|██████████| 4/4 [00:01<00:00,  3.20it/s]"
          ]
        },
        {
          "output_type": "stream",
          "name": "stdout",
          "text": [
            "                   all         97        600      0.761      0.632      0.717      0.432\n"
          ]
        },
        {
          "output_type": "stream",
          "name": "stderr",
          "text": [
            "\n"
          ]
        },
        {
          "output_type": "stream",
          "name": "stdout",
          "text": [
            "\n",
            "      Epoch    GPU_mem   box_loss   cls_loss   dfl_loss  Instances       Size\n"
          ]
        },
        {
          "output_type": "stream",
          "name": "stderr",
          "text": [
            "      11/50      2.69G      1.304      1.117      1.069         87        640: 100%|██████████| 22/22 [00:05<00:00,  4.06it/s]\n",
            "                 Class     Images  Instances      Box(P          R      mAP50  mAP50-95): 100%|██████████| 4/4 [00:01<00:00,  2.81it/s]"
          ]
        },
        {
          "output_type": "stream",
          "name": "stdout",
          "text": [
            "                   all         97        600      0.762      0.682      0.753      0.467\n"
          ]
        },
        {
          "output_type": "stream",
          "name": "stderr",
          "text": [
            "\n"
          ]
        },
        {
          "output_type": "stream",
          "name": "stdout",
          "text": [
            "\n",
            "      Epoch    GPU_mem   box_loss   cls_loss   dfl_loss  Instances       Size\n"
          ]
        },
        {
          "output_type": "stream",
          "name": "stderr",
          "text": [
            "      12/50      2.71G      1.306      1.099      1.068        149        640: 100%|██████████| 22/22 [00:07<00:00,  2.95it/s]\n",
            "                 Class     Images  Instances      Box(P          R      mAP50  mAP50-95): 100%|██████████| 4/4 [00:01<00:00,  3.32it/s]"
          ]
        },
        {
          "output_type": "stream",
          "name": "stdout",
          "text": [
            "                   all         97        600      0.783      0.687      0.778      0.456\n"
          ]
        },
        {
          "output_type": "stream",
          "name": "stderr",
          "text": [
            "\n"
          ]
        },
        {
          "output_type": "stream",
          "name": "stdout",
          "text": [
            "\n",
            "      Epoch    GPU_mem   box_loss   cls_loss   dfl_loss  Instances       Size\n"
          ]
        },
        {
          "output_type": "stream",
          "name": "stderr",
          "text": [
            "      13/50      2.73G      1.331        1.1       1.07        128        640: 100%|██████████| 22/22 [00:06<00:00,  3.56it/s]\n",
            "                 Class     Images  Instances      Box(P          R      mAP50  mAP50-95): 100%|██████████| 4/4 [00:01<00:00,  2.94it/s]"
          ]
        },
        {
          "output_type": "stream",
          "name": "stdout",
          "text": [
            "                   all         97        600      0.752      0.703      0.779       0.48\n"
          ]
        },
        {
          "output_type": "stream",
          "name": "stderr",
          "text": [
            "\n"
          ]
        },
        {
          "output_type": "stream",
          "name": "stdout",
          "text": [
            "\n",
            "      Epoch    GPU_mem   box_loss   cls_loss   dfl_loss  Instances       Size\n"
          ]
        },
        {
          "output_type": "stream",
          "name": "stderr",
          "text": [
            "      14/50      2.74G      1.251      1.051      1.036        118        640: 100%|██████████| 22/22 [00:05<00:00,  4.31it/s]\n",
            "                 Class     Images  Instances      Box(P          R      mAP50  mAP50-95): 100%|██████████| 4/4 [00:01<00:00,  3.10it/s]"
          ]
        },
        {
          "output_type": "stream",
          "name": "stdout",
          "text": [
            "                   all         97        600      0.759      0.688      0.764      0.469\n"
          ]
        },
        {
          "output_type": "stream",
          "name": "stderr",
          "text": [
            "\n"
          ]
        },
        {
          "output_type": "stream",
          "name": "stdout",
          "text": [
            "\n",
            "      Epoch    GPU_mem   box_loss   cls_loss   dfl_loss  Instances       Size\n"
          ]
        },
        {
          "output_type": "stream",
          "name": "stderr",
          "text": [
            "      15/50      2.76G      1.253      1.027      1.039        138        640: 100%|██████████| 22/22 [00:06<00:00,  3.57it/s]\n",
            "                 Class     Images  Instances      Box(P          R      mAP50  mAP50-95): 100%|██████████| 4/4 [00:01<00:00,  3.22it/s]"
          ]
        },
        {
          "output_type": "stream",
          "name": "stdout",
          "text": [
            "                   all         97        600      0.802      0.615      0.693      0.406\n"
          ]
        },
        {
          "output_type": "stream",
          "name": "stderr",
          "text": [
            "\n"
          ]
        },
        {
          "output_type": "stream",
          "name": "stdout",
          "text": [
            "\n",
            "      Epoch    GPU_mem   box_loss   cls_loss   dfl_loss  Instances       Size\n"
          ]
        },
        {
          "output_type": "stream",
          "name": "stderr",
          "text": [
            "      16/50      2.78G      1.258      1.011      1.037        116        640: 100%|██████████| 22/22 [00:05<00:00,  4.24it/s]\n",
            "                 Class     Images  Instances      Box(P          R      mAP50  mAP50-95): 100%|██████████| 4/4 [00:01<00:00,  3.44it/s]"
          ]
        },
        {
          "output_type": "stream",
          "name": "stdout",
          "text": [
            "                   all         97        600      0.792      0.663       0.75      0.424\n"
          ]
        },
        {
          "output_type": "stream",
          "name": "stderr",
          "text": [
            "\n"
          ]
        },
        {
          "output_type": "stream",
          "name": "stdout",
          "text": [
            "\n",
            "      Epoch    GPU_mem   box_loss   cls_loss   dfl_loss  Instances       Size\n"
          ]
        },
        {
          "output_type": "stream",
          "name": "stderr",
          "text": [
            "      17/50       2.8G      1.239      1.003       1.04        107        640: 100%|██████████| 22/22 [00:06<00:00,  3.52it/s]\n",
            "                 Class     Images  Instances      Box(P          R      mAP50  mAP50-95): 100%|██████████| 4/4 [00:01<00:00,  3.29it/s]"
          ]
        },
        {
          "output_type": "stream",
          "name": "stdout",
          "text": [
            "                   all         97        600       0.82      0.673      0.774      0.468\n"
          ]
        },
        {
          "output_type": "stream",
          "name": "stderr",
          "text": [
            "\n"
          ]
        },
        {
          "output_type": "stream",
          "name": "stdout",
          "text": [
            "\n",
            "      Epoch    GPU_mem   box_loss   cls_loss   dfl_loss  Instances       Size\n"
          ]
        },
        {
          "output_type": "stream",
          "name": "stderr",
          "text": [
            "      18/50      2.81G      1.217      0.968       1.03        149        640: 100%|██████████| 22/22 [00:05<00:00,  4.06it/s]\n",
            "                 Class     Images  Instances      Box(P          R      mAP50  mAP50-95): 100%|██████████| 4/4 [00:01<00:00,  2.11it/s]"
          ]
        },
        {
          "output_type": "stream",
          "name": "stdout",
          "text": [
            "                   all         97        600      0.723      0.685      0.742      0.436\n"
          ]
        },
        {
          "output_type": "stream",
          "name": "stderr",
          "text": [
            "\n"
          ]
        },
        {
          "output_type": "stream",
          "name": "stdout",
          "text": [
            "\n",
            "      Epoch    GPU_mem   box_loss   cls_loss   dfl_loss  Instances       Size\n"
          ]
        },
        {
          "output_type": "stream",
          "name": "stderr",
          "text": [
            "      19/50      2.83G      1.212     0.9579      1.025         99        640: 100%|██████████| 22/22 [00:05<00:00,  4.09it/s]\n",
            "                 Class     Images  Instances      Box(P          R      mAP50  mAP50-95): 100%|██████████| 4/4 [00:01<00:00,  3.57it/s]"
          ]
        },
        {
          "output_type": "stream",
          "name": "stdout",
          "text": [
            "                   all         97        600      0.813      0.692      0.799      0.491\n"
          ]
        },
        {
          "output_type": "stream",
          "name": "stderr",
          "text": [
            "\n"
          ]
        },
        {
          "output_type": "stream",
          "name": "stdout",
          "text": [
            "\n",
            "      Epoch    GPU_mem   box_loss   cls_loss   dfl_loss  Instances       Size\n"
          ]
        },
        {
          "output_type": "stream",
          "name": "stderr",
          "text": [
            "      20/50      2.85G      1.208     0.9505      1.022        116        640: 100%|██████████| 22/22 [00:06<00:00,  3.60it/s]\n",
            "                 Class     Images  Instances      Box(P          R      mAP50  mAP50-95): 100%|██████████| 4/4 [00:01<00:00,  2.73it/s]"
          ]
        },
        {
          "output_type": "stream",
          "name": "stdout",
          "text": [
            "                   all         97        600      0.777      0.682      0.786      0.511\n"
          ]
        },
        {
          "output_type": "stream",
          "name": "stderr",
          "text": [
            "\n"
          ]
        },
        {
          "output_type": "stream",
          "name": "stdout",
          "text": [
            "\n",
            "      Epoch    GPU_mem   box_loss   cls_loss   dfl_loss  Instances       Size\n"
          ]
        },
        {
          "output_type": "stream",
          "name": "stderr",
          "text": [
            "      21/50      2.87G      1.157     0.9265     0.9985        142        640: 100%|██████████| 22/22 [00:05<00:00,  4.22it/s]\n",
            "                 Class     Images  Instances      Box(P          R      mAP50  mAP50-95): 100%|██████████| 4/4 [00:01<00:00,  3.69it/s]"
          ]
        },
        {
          "output_type": "stream",
          "name": "stdout",
          "text": [
            "                   all         97        600       0.79      0.729      0.807      0.533\n"
          ]
        },
        {
          "output_type": "stream",
          "name": "stderr",
          "text": [
            "\n"
          ]
        },
        {
          "output_type": "stream",
          "name": "stdout",
          "text": [
            "\n",
            "      Epoch    GPU_mem   box_loss   cls_loss   dfl_loss  Instances       Size\n"
          ]
        },
        {
          "output_type": "stream",
          "name": "stderr",
          "text": [
            "      22/50      2.88G      1.144     0.8937     0.9932        118        640: 100%|██████████| 22/22 [00:06<00:00,  3.17it/s]\n",
            "                 Class     Images  Instances      Box(P          R      mAP50  mAP50-95): 100%|██████████| 4/4 [00:01<00:00,  3.73it/s]"
          ]
        },
        {
          "output_type": "stream",
          "name": "stdout",
          "text": [
            "                   all         97        600      0.825       0.76      0.835      0.529\n"
          ]
        },
        {
          "output_type": "stream",
          "name": "stderr",
          "text": [
            "\n"
          ]
        },
        {
          "output_type": "stream",
          "name": "stdout",
          "text": [
            "\n",
            "      Epoch    GPU_mem   box_loss   cls_loss   dfl_loss  Instances       Size\n"
          ]
        },
        {
          "output_type": "stream",
          "name": "stderr",
          "text": [
            "      23/50       2.9G      1.165     0.9109      1.006        177        640: 100%|██████████| 22/22 [00:05<00:00,  4.24it/s]\n",
            "                 Class     Images  Instances      Box(P          R      mAP50  mAP50-95): 100%|██████████| 4/4 [00:01<00:00,  2.97it/s]"
          ]
        },
        {
          "output_type": "stream",
          "name": "stdout",
          "text": [
            "                   all         97        600      0.822      0.727      0.815      0.511\n"
          ]
        },
        {
          "output_type": "stream",
          "name": "stderr",
          "text": [
            "\n"
          ]
        },
        {
          "output_type": "stream",
          "name": "stdout",
          "text": [
            "\n",
            "      Epoch    GPU_mem   box_loss   cls_loss   dfl_loss  Instances       Size\n"
          ]
        },
        {
          "output_type": "stream",
          "name": "stderr",
          "text": [
            "      24/50      2.91G      1.147     0.8996     0.9907        113        640: 100%|██████████| 22/22 [00:06<00:00,  3.49it/s]\n",
            "                 Class     Images  Instances      Box(P          R      mAP50  mAP50-95): 100%|██████████| 4/4 [00:01<00:00,  3.59it/s]"
          ]
        },
        {
          "output_type": "stream",
          "name": "stdout",
          "text": [
            "                   all         97        600      0.816      0.735      0.826      0.522\n"
          ]
        },
        {
          "output_type": "stream",
          "name": "stderr",
          "text": [
            "\n"
          ]
        },
        {
          "output_type": "stream",
          "name": "stdout",
          "text": [
            "\n",
            "      Epoch    GPU_mem   box_loss   cls_loss   dfl_loss  Instances       Size\n"
          ]
        },
        {
          "output_type": "stream",
          "name": "stderr",
          "text": [
            "      25/50      2.93G      1.145     0.8715      1.003        114        640: 100%|██████████| 22/22 [00:05<00:00,  4.21it/s]\n",
            "                 Class     Images  Instances      Box(P          R      mAP50  mAP50-95): 100%|██████████| 4/4 [00:02<00:00,  1.92it/s]"
          ]
        },
        {
          "output_type": "stream",
          "name": "stdout",
          "text": [
            "                   all         97        600       0.82      0.737      0.817      0.533\n"
          ]
        },
        {
          "output_type": "stream",
          "name": "stderr",
          "text": [
            "\n"
          ]
        },
        {
          "output_type": "stream",
          "name": "stdout",
          "text": [
            "\n",
            "      Epoch    GPU_mem   box_loss   cls_loss   dfl_loss  Instances       Size\n"
          ]
        },
        {
          "output_type": "stream",
          "name": "stderr",
          "text": [
            "      26/50      2.95G      1.088     0.8386     0.9844         84        640: 100%|██████████| 22/22 [00:05<00:00,  3.82it/s]\n",
            "                 Class     Images  Instances      Box(P          R      mAP50  mAP50-95): 100%|██████████| 4/4 [00:01<00:00,  3.19it/s]"
          ]
        },
        {
          "output_type": "stream",
          "name": "stdout",
          "text": [
            "                   all         97        600      0.777       0.73       0.81      0.523\n"
          ]
        },
        {
          "output_type": "stream",
          "name": "stderr",
          "text": [
            "\n"
          ]
        },
        {
          "output_type": "stream",
          "name": "stdout",
          "text": [
            "\n",
            "      Epoch    GPU_mem   box_loss   cls_loss   dfl_loss  Instances       Size\n"
          ]
        },
        {
          "output_type": "stream",
          "name": "stderr",
          "text": [
            "      27/50      2.97G      1.121     0.8326     0.9953         98        640: 100%|██████████| 22/22 [00:06<00:00,  3.48it/s]\n",
            "                 Class     Images  Instances      Box(P          R      mAP50  mAP50-95): 100%|██████████| 4/4 [00:01<00:00,  3.55it/s]"
          ]
        },
        {
          "output_type": "stream",
          "name": "stdout",
          "text": [
            "                   all         97        600      0.807      0.677      0.798      0.521\n"
          ]
        },
        {
          "output_type": "stream",
          "name": "stderr",
          "text": [
            "\n"
          ]
        },
        {
          "output_type": "stream",
          "name": "stdout",
          "text": [
            "\n",
            "      Epoch    GPU_mem   box_loss   cls_loss   dfl_loss  Instances       Size\n"
          ]
        },
        {
          "output_type": "stream",
          "name": "stderr",
          "text": [
            "      28/50      2.98G      1.094     0.8314     0.9793        134        640: 100%|██████████| 22/22 [00:05<00:00,  4.17it/s]\n",
            "                 Class     Images  Instances      Box(P          R      mAP50  mAP50-95): 100%|██████████| 4/4 [00:01<00:00,  3.87it/s]"
          ]
        },
        {
          "output_type": "stream",
          "name": "stdout",
          "text": [
            "                   all         97        600       0.83      0.722       0.81      0.512\n"
          ]
        },
        {
          "output_type": "stream",
          "name": "stderr",
          "text": [
            "\n"
          ]
        },
        {
          "output_type": "stream",
          "name": "stdout",
          "text": [
            "\n",
            "      Epoch    GPU_mem   box_loss   cls_loss   dfl_loss  Instances       Size\n"
          ]
        },
        {
          "output_type": "stream",
          "name": "stderr",
          "text": [
            "      29/50         3G      1.079     0.7956     0.9782        101        640: 100%|██████████| 22/22 [00:06<00:00,  3.53it/s]\n",
            "                 Class     Images  Instances      Box(P          R      mAP50  mAP50-95): 100%|██████████| 4/4 [00:01<00:00,  3.41it/s]"
          ]
        },
        {
          "output_type": "stream",
          "name": "stdout",
          "text": [
            "                   all         97        600       0.81      0.805      0.842      0.558\n"
          ]
        },
        {
          "output_type": "stream",
          "name": "stderr",
          "text": [
            "\n"
          ]
        },
        {
          "output_type": "stream",
          "name": "stdout",
          "text": [
            "\n",
            "      Epoch    GPU_mem   box_loss   cls_loss   dfl_loss  Instances       Size\n"
          ]
        },
        {
          "output_type": "stream",
          "name": "stderr",
          "text": [
            "      30/50      3.02G      1.078     0.7963     0.9737        118        640: 100%|██████████| 22/22 [00:05<00:00,  4.03it/s]\n",
            "                 Class     Images  Instances      Box(P          R      mAP50  mAP50-95): 100%|██████████| 4/4 [00:01<00:00,  3.39it/s]"
          ]
        },
        {
          "output_type": "stream",
          "name": "stdout",
          "text": [
            "                   all         97        600      0.817      0.702      0.807      0.527\n"
          ]
        },
        {
          "output_type": "stream",
          "name": "stderr",
          "text": [
            "\n"
          ]
        },
        {
          "output_type": "stream",
          "name": "stdout",
          "text": [
            "\n",
            "      Epoch    GPU_mem   box_loss   cls_loss   dfl_loss  Instances       Size\n"
          ]
        },
        {
          "output_type": "stream",
          "name": "stderr",
          "text": [
            "      31/50      3.04G      1.077     0.7803     0.9709        101        640: 100%|██████████| 22/22 [00:06<00:00,  3.61it/s]\n",
            "                 Class     Images  Instances      Box(P          R      mAP50  mAP50-95): 100%|██████████| 4/4 [00:01<00:00,  3.12it/s]"
          ]
        },
        {
          "output_type": "stream",
          "name": "stdout",
          "text": [
            "                   all         97        600      0.778      0.726      0.798      0.528\n"
          ]
        },
        {
          "output_type": "stream",
          "name": "stderr",
          "text": [
            "\n"
          ]
        },
        {
          "output_type": "stream",
          "name": "stdout",
          "text": [
            "\n",
            "      Epoch    GPU_mem   box_loss   cls_loss   dfl_loss  Instances       Size\n"
          ]
        },
        {
          "output_type": "stream",
          "name": "stderr",
          "text": [
            "      32/50      3.05G      1.082     0.7736     0.9658         89        640: 100%|██████████| 22/22 [00:05<00:00,  4.15it/s]\n",
            "                 Class     Images  Instances      Box(P          R      mAP50  mAP50-95): 100%|██████████| 4/4 [00:01<00:00,  2.15it/s]"
          ]
        },
        {
          "output_type": "stream",
          "name": "stdout",
          "text": [
            "                   all         97        600      0.864      0.778      0.856      0.574\n"
          ]
        },
        {
          "output_type": "stream",
          "name": "stderr",
          "text": [
            "\n"
          ]
        },
        {
          "output_type": "stream",
          "name": "stdout",
          "text": [
            "\n",
            "      Epoch    GPU_mem   box_loss   cls_loss   dfl_loss  Instances       Size\n"
          ]
        },
        {
          "output_type": "stream",
          "name": "stderr",
          "text": [
            "      33/50      3.07G      1.051     0.7364     0.9533         94        640: 100%|██████████| 22/22 [00:05<00:00,  4.23it/s]\n",
            "                 Class     Images  Instances      Box(P          R      mAP50  mAP50-95): 100%|██████████| 4/4 [00:01<00:00,  3.51it/s]"
          ]
        },
        {
          "output_type": "stream",
          "name": "stdout",
          "text": [
            "                   all         97        600      0.842      0.808      0.876      0.592\n"
          ]
        },
        {
          "output_type": "stream",
          "name": "stderr",
          "text": [
            "\n"
          ]
        },
        {
          "output_type": "stream",
          "name": "stdout",
          "text": [
            "\n",
            "      Epoch    GPU_mem   box_loss   cls_loss   dfl_loss  Instances       Size\n"
          ]
        },
        {
          "output_type": "stream",
          "name": "stderr",
          "text": [
            "      34/50      3.09G      1.022     0.7328     0.9527        139        640: 100%|██████████| 22/22 [00:06<00:00,  3.44it/s]\n",
            "                 Class     Images  Instances      Box(P          R      mAP50  mAP50-95): 100%|██████████| 4/4 [00:01<00:00,  3.54it/s]"
          ]
        },
        {
          "output_type": "stream",
          "name": "stdout",
          "text": [
            "                   all         97        600      0.858      0.774      0.867      0.574\n"
          ]
        },
        {
          "output_type": "stream",
          "name": "stderr",
          "text": [
            "\n"
          ]
        },
        {
          "output_type": "stream",
          "name": "stdout",
          "text": [
            "\n",
            "      Epoch    GPU_mem   box_loss   cls_loss   dfl_loss  Instances       Size\n"
          ]
        },
        {
          "output_type": "stream",
          "name": "stderr",
          "text": [
            "      35/50       3.1G      1.023     0.7301     0.9544         94        640: 100%|██████████| 22/22 [00:05<00:00,  4.31it/s]\n",
            "                 Class     Images  Instances      Box(P          R      mAP50  mAP50-95): 100%|██████████| 4/4 [00:01<00:00,  3.51it/s]"
          ]
        },
        {
          "output_type": "stream",
          "name": "stdout",
          "text": [
            "                   all         97        600      0.857      0.782      0.861      0.581\n"
          ]
        },
        {
          "output_type": "stream",
          "name": "stderr",
          "text": [
            "\n"
          ]
        },
        {
          "output_type": "stream",
          "name": "stdout",
          "text": [
            "\n",
            "      Epoch    GPU_mem   box_loss   cls_loss   dfl_loss  Instances       Size\n"
          ]
        },
        {
          "output_type": "stream",
          "name": "stderr",
          "text": [
            "      36/50      3.12G      1.008     0.7038     0.9452        152        640: 100%|██████████| 22/22 [00:06<00:00,  3.52it/s]\n",
            "                 Class     Images  Instances      Box(P          R      mAP50  mAP50-95): 100%|██████████| 4/4 [00:01<00:00,  3.39it/s]"
          ]
        },
        {
          "output_type": "stream",
          "name": "stdout",
          "text": [
            "                   all         97        600      0.833        0.8      0.858      0.572\n"
          ]
        },
        {
          "output_type": "stream",
          "name": "stderr",
          "text": [
            "\n"
          ]
        },
        {
          "output_type": "stream",
          "name": "stdout",
          "text": [
            "\n",
            "      Epoch    GPU_mem   box_loss   cls_loss   dfl_loss  Instances       Size\n"
          ]
        },
        {
          "output_type": "stream",
          "name": "stderr",
          "text": [
            "      37/50      3.14G      1.016     0.7213      0.949        119        640: 100%|██████████| 22/22 [00:05<00:00,  4.25it/s]\n",
            "                 Class     Images  Instances      Box(P          R      mAP50  mAP50-95): 100%|██████████| 4/4 [00:01<00:00,  3.26it/s]"
          ]
        },
        {
          "output_type": "stream",
          "name": "stdout",
          "text": [
            "                   all         97        600      0.823       0.79      0.852      0.594\n"
          ]
        },
        {
          "output_type": "stream",
          "name": "stderr",
          "text": [
            "\n"
          ]
        },
        {
          "output_type": "stream",
          "name": "stdout",
          "text": [
            "\n",
            "      Epoch    GPU_mem   box_loss   cls_loss   dfl_loss  Instances       Size\n"
          ]
        },
        {
          "output_type": "stream",
          "name": "stderr",
          "text": [
            "      38/50      3.15G     0.9818     0.6835      0.937        155        640: 100%|██████████| 22/22 [00:06<00:00,  3.43it/s]\n",
            "                 Class     Images  Instances      Box(P          R      mAP50  mAP50-95): 100%|██████████| 4/4 [00:01<00:00,  3.66it/s]"
          ]
        },
        {
          "output_type": "stream",
          "name": "stdout",
          "text": [
            "                   all         97        600      0.838      0.823      0.867      0.594\n"
          ]
        },
        {
          "output_type": "stream",
          "name": "stderr",
          "text": [
            "\n"
          ]
        },
        {
          "output_type": "stream",
          "name": "stdout",
          "text": [
            "\n",
            "      Epoch    GPU_mem   box_loss   cls_loss   dfl_loss  Instances       Size\n"
          ]
        },
        {
          "output_type": "stream",
          "name": "stderr",
          "text": [
            "      39/50      3.17G      1.001     0.6951      0.953         99        640: 100%|██████████| 22/22 [00:05<00:00,  4.19it/s]\n",
            "                 Class     Images  Instances      Box(P          R      mAP50  mAP50-95): 100%|██████████| 4/4 [00:01<00:00,  3.02it/s]"
          ]
        },
        {
          "output_type": "stream",
          "name": "stdout",
          "text": [
            "                   all         97        600      0.845      0.792      0.858      0.598\n"
          ]
        },
        {
          "output_type": "stream",
          "name": "stderr",
          "text": [
            "\n"
          ]
        },
        {
          "output_type": "stream",
          "name": "stdout",
          "text": [
            "\n",
            "      Epoch    GPU_mem   box_loss   cls_loss   dfl_loss  Instances       Size\n"
          ]
        },
        {
          "output_type": "stream",
          "name": "stderr",
          "text": [
            "      40/50      3.19G      1.004     0.6905     0.9424        147        640: 100%|██████████| 22/22 [00:06<00:00,  3.60it/s]\n",
            "                 Class     Images  Instances      Box(P          R      mAP50  mAP50-95): 100%|██████████| 4/4 [00:01<00:00,  3.34it/s]"
          ]
        },
        {
          "output_type": "stream",
          "name": "stdout",
          "text": [
            "                   all         97        600      0.895      0.782      0.878      0.608\n"
          ]
        },
        {
          "output_type": "stream",
          "name": "stderr",
          "text": [
            "\n"
          ]
        },
        {
          "output_type": "stream",
          "name": "stdout",
          "text": [
            "Closing dataloader mosaic\n",
            "\u001b[34m\u001b[1malbumentations: \u001b[0mBlur(p=0.01, blur_limit=(3, 7)), MedianBlur(p=0.01, blur_limit=(3, 7)), ToGray(p=0.01, method='weighted_average', num_output_channels=3), CLAHE(p=0.01, clip_limit=(1.0, 4.0), tile_grid_size=(8, 8))\n",
            "\n",
            "      Epoch    GPU_mem   box_loss   cls_loss   dfl_loss  Instances       Size\n"
          ]
        },
        {
          "output_type": "stream",
          "name": "stderr",
          "text": [
            "      41/50      3.21G     0.9882     0.7242     0.9513        108        640: 100%|██████████| 22/22 [00:07<00:00,  2.85it/s]\n",
            "                 Class     Images  Instances      Box(P          R      mAP50  mAP50-95): 100%|██████████| 4/4 [00:01<00:00,  3.72it/s]"
          ]
        },
        {
          "output_type": "stream",
          "name": "stdout",
          "text": [
            "                   all         97        600      0.906      0.805      0.888      0.599\n"
          ]
        },
        {
          "output_type": "stream",
          "name": "stderr",
          "text": [
            "\n"
          ]
        },
        {
          "output_type": "stream",
          "name": "stdout",
          "text": [
            "\n",
            "      Epoch    GPU_mem   box_loss   cls_loss   dfl_loss  Instances       Size\n"
          ]
        },
        {
          "output_type": "stream",
          "name": "stderr",
          "text": [
            "      42/50      3.22G     0.9436     0.6448     0.9341         67        640: 100%|██████████| 22/22 [00:05<00:00,  4.39it/s]\n",
            "                 Class     Images  Instances      Box(P          R      mAP50  mAP50-95): 100%|██████████| 4/4 [00:01<00:00,  3.11it/s]"
          ]
        },
        {
          "output_type": "stream",
          "name": "stdout",
          "text": [
            "                   all         97        600      0.883      0.815      0.891      0.616\n"
          ]
        },
        {
          "output_type": "stream",
          "name": "stderr",
          "text": [
            "\n"
          ]
        },
        {
          "output_type": "stream",
          "name": "stdout",
          "text": [
            "\n",
            "      Epoch    GPU_mem   box_loss   cls_loss   dfl_loss  Instances       Size\n"
          ]
        },
        {
          "output_type": "stream",
          "name": "stderr",
          "text": [
            "      43/50      3.24G     0.9301     0.6306     0.9342         75        640: 100%|██████████| 22/22 [00:06<00:00,  3.55it/s]\n",
            "                 Class     Images  Instances      Box(P          R      mAP50  mAP50-95): 100%|██████████| 4/4 [00:01<00:00,  3.60it/s]"
          ]
        },
        {
          "output_type": "stream",
          "name": "stdout",
          "text": [
            "                   all         97        600       0.89      0.825      0.897      0.621\n"
          ]
        },
        {
          "output_type": "stream",
          "name": "stderr",
          "text": [
            "\n"
          ]
        },
        {
          "output_type": "stream",
          "name": "stdout",
          "text": [
            "\n",
            "      Epoch    GPU_mem   box_loss   cls_loss   dfl_loss  Instances       Size\n"
          ]
        },
        {
          "output_type": "stream",
          "name": "stderr",
          "text": [
            "      44/50      3.26G     0.9082      0.615     0.9252         67        640: 100%|██████████| 22/22 [00:05<00:00,  4.31it/s]\n",
            "                 Class     Images  Instances      Box(P          R      mAP50  mAP50-95): 100%|██████████| 4/4 [00:01<00:00,  3.64it/s]"
          ]
        },
        {
          "output_type": "stream",
          "name": "stdout",
          "text": [
            "                   all         97        600      0.909       0.83        0.9      0.623\n"
          ]
        },
        {
          "output_type": "stream",
          "name": "stderr",
          "text": [
            "\n"
          ]
        },
        {
          "output_type": "stream",
          "name": "stdout",
          "text": [
            "\n",
            "      Epoch    GPU_mem   box_loss   cls_loss   dfl_loss  Instances       Size\n"
          ]
        },
        {
          "output_type": "stream",
          "name": "stderr",
          "text": [
            "      45/50      3.27G     0.8909     0.5939     0.9156         71        640: 100%|██████████| 22/22 [00:06<00:00,  3.65it/s]\n",
            "                 Class     Images  Instances      Box(P          R      mAP50  mAP50-95): 100%|██████████| 4/4 [00:01<00:00,  3.55it/s]"
          ]
        },
        {
          "output_type": "stream",
          "name": "stdout",
          "text": [
            "                   all         97        600      0.899      0.829      0.892      0.616\n"
          ]
        },
        {
          "output_type": "stream",
          "name": "stderr",
          "text": [
            "\n"
          ]
        },
        {
          "output_type": "stream",
          "name": "stdout",
          "text": [
            "\n",
            "      Epoch    GPU_mem   box_loss   cls_loss   dfl_loss  Instances       Size\n"
          ]
        },
        {
          "output_type": "stream",
          "name": "stderr",
          "text": [
            "      46/50      3.29G     0.8758     0.5774     0.9061         55        640: 100%|██████████| 22/22 [00:05<00:00,  4.30it/s]\n",
            "                 Class     Images  Instances      Box(P          R      mAP50  mAP50-95): 100%|██████████| 4/4 [00:01<00:00,  3.45it/s]"
          ]
        },
        {
          "output_type": "stream",
          "name": "stdout",
          "text": [
            "                   all         97        600      0.889      0.832       0.89      0.622\n"
          ]
        },
        {
          "output_type": "stream",
          "name": "stderr",
          "text": [
            "\n"
          ]
        },
        {
          "output_type": "stream",
          "name": "stdout",
          "text": [
            "\n",
            "      Epoch    GPU_mem   box_loss   cls_loss   dfl_loss  Instances       Size\n"
          ]
        },
        {
          "output_type": "stream",
          "name": "stderr",
          "text": [
            "      47/50      3.31G     0.8759     0.5721     0.9136         66        640: 100%|██████████| 22/22 [00:05<00:00,  3.87it/s]\n",
            "                 Class     Images  Instances      Box(P          R      mAP50  mAP50-95): 100%|██████████| 4/4 [00:01<00:00,  3.59it/s]"
          ]
        },
        {
          "output_type": "stream",
          "name": "stdout",
          "text": [
            "                   all         97        600      0.912      0.832      0.892      0.622\n"
          ]
        },
        {
          "output_type": "stream",
          "name": "stderr",
          "text": [
            "\n"
          ]
        },
        {
          "output_type": "stream",
          "name": "stdout",
          "text": [
            "\n",
            "      Epoch    GPU_mem   box_loss   cls_loss   dfl_loss  Instances       Size\n"
          ]
        },
        {
          "output_type": "stream",
          "name": "stderr",
          "text": [
            "      48/50      3.32G     0.8597     0.5722     0.9063         69        640: 100%|██████████| 22/22 [00:05<00:00,  4.37it/s]\n",
            "                 Class     Images  Instances      Box(P          R      mAP50  mAP50-95): 100%|██████████| 4/4 [00:01<00:00,  2.21it/s]"
          ]
        },
        {
          "output_type": "stream",
          "name": "stdout",
          "text": [
            "                   all         97        600      0.924      0.813      0.894      0.634\n"
          ]
        },
        {
          "output_type": "stream",
          "name": "stderr",
          "text": [
            "\n"
          ]
        },
        {
          "output_type": "stream",
          "name": "stdout",
          "text": [
            "\n",
            "      Epoch    GPU_mem   box_loss   cls_loss   dfl_loss  Instances       Size\n"
          ]
        },
        {
          "output_type": "stream",
          "name": "stderr",
          "text": [
            "      49/50      3.34G     0.8481     0.5613     0.9083         70        640: 100%|██████████| 22/22 [00:05<00:00,  4.25it/s]\n",
            "                 Class     Images  Instances      Box(P          R      mAP50  mAP50-95): 100%|██████████| 4/4 [00:01<00:00,  3.81it/s]"
          ]
        },
        {
          "output_type": "stream",
          "name": "stdout",
          "text": [
            "                   all         97        600      0.923      0.805        0.9      0.629\n"
          ]
        },
        {
          "output_type": "stream",
          "name": "stderr",
          "text": [
            "\n"
          ]
        },
        {
          "output_type": "stream",
          "name": "stdout",
          "text": [
            "\n",
            "      Epoch    GPU_mem   box_loss   cls_loss   dfl_loss  Instances       Size\n"
          ]
        },
        {
          "output_type": "stream",
          "name": "stderr",
          "text": [
            "      50/50      3.36G      0.857     0.5601     0.9063         71        640: 100%|██████████| 22/22 [00:05<00:00,  4.31it/s]\n",
            "                 Class     Images  Instances      Box(P          R      mAP50  mAP50-95): 100%|██████████| 4/4 [00:02<00:00,  1.99it/s]"
          ]
        },
        {
          "output_type": "stream",
          "name": "stdout",
          "text": [
            "                   all         97        600       0.92      0.817      0.902      0.639\n"
          ]
        },
        {
          "output_type": "stream",
          "name": "stderr",
          "text": [
            "\n"
          ]
        },
        {
          "output_type": "stream",
          "name": "stdout",
          "text": [
            "\n",
            "50 epochs completed in 0.103 hours.\n",
            "Optimizer stripped from runs/detect/train/weights/last.pt, 6.2MB\n",
            "Optimizer stripped from runs/detect/train/weights/best.pt, 6.2MB\n",
            "\n",
            "Validating runs/detect/train/weights/best.pt...\n",
            "Ultralytics 8.3.127 🚀 Python-3.11.12 torch-2.6.0+cu124 CUDA:0 (Tesla T4, 15095MiB)\n",
            "Model summary (fused): 72 layers, 3,005,843 parameters, 0 gradients, 8.1 GFLOPs\n"
          ]
        },
        {
          "output_type": "stream",
          "name": "stderr",
          "text": [
            "                 Class     Images  Instances      Box(P          R      mAP50  mAP50-95): 100%|██████████| 4/4 [00:02<00:00,  1.63it/s]\n"
          ]
        },
        {
          "output_type": "stream",
          "name": "stdout",
          "text": [
            "                   all         97        600      0.922      0.817      0.902      0.639\n",
            "Speed: 0.4ms preprocess, 3.1ms inference, 0.0ms loss, 5.0ms postprocess per image\n",
            "Results saved to \u001b[1mruns/detect/train\u001b[0m\n"
          ]
        },
        {
          "output_type": "execute_result",
          "data": {
            "text/plain": [
              "ultralytics.utils.metrics.DetMetrics object with attributes:\n",
              "\n",
              "ap_class_index: array([0])\n",
              "box: ultralytics.utils.metrics.Metric object\n",
              "confusion_matrix: <ultralytics.utils.metrics.ConfusionMatrix object at 0x7e5723667a50>\n",
              "curves: ['Precision-Recall(B)', 'F1-Confidence(B)', 'Precision-Confidence(B)', 'Recall-Confidence(B)']\n",
              "curves_results: [[array([          0,    0.001001,    0.002002,    0.003003,    0.004004,    0.005005,    0.006006,    0.007007,    0.008008,    0.009009,     0.01001,    0.011011,    0.012012,    0.013013,    0.014014,    0.015015,    0.016016,    0.017017,    0.018018,    0.019019,     0.02002,    0.021021,    0.022022,    0.023023,\n",
              "          0.024024,    0.025025,    0.026026,    0.027027,    0.028028,    0.029029,     0.03003,    0.031031,    0.032032,    0.033033,    0.034034,    0.035035,    0.036036,    0.037037,    0.038038,    0.039039,     0.04004,    0.041041,    0.042042,    0.043043,    0.044044,    0.045045,    0.046046,    0.047047,\n",
              "          0.048048,    0.049049,     0.05005,    0.051051,    0.052052,    0.053053,    0.054054,    0.055055,    0.056056,    0.057057,    0.058058,    0.059059,     0.06006,    0.061061,    0.062062,    0.063063,    0.064064,    0.065065,    0.066066,    0.067067,    0.068068,    0.069069,     0.07007,    0.071071,\n",
              "          0.072072,    0.073073,    0.074074,    0.075075,    0.076076,    0.077077,    0.078078,    0.079079,     0.08008,    0.081081,    0.082082,    0.083083,    0.084084,    0.085085,    0.086086,    0.087087,    0.088088,    0.089089,     0.09009,    0.091091,    0.092092,    0.093093,    0.094094,    0.095095,\n",
              "          0.096096,    0.097097,    0.098098,    0.099099,      0.1001,      0.1011,      0.1021,      0.1031,      0.1041,     0.10511,     0.10611,     0.10711,     0.10811,     0.10911,     0.11011,     0.11111,     0.11211,     0.11311,     0.11411,     0.11512,     0.11612,     0.11712,     0.11812,     0.11912,\n",
              "           0.12012,     0.12112,     0.12212,     0.12312,     0.12412,     0.12513,     0.12613,     0.12713,     0.12813,     0.12913,     0.13013,     0.13113,     0.13213,     0.13313,     0.13413,     0.13514,     0.13614,     0.13714,     0.13814,     0.13914,     0.14014,     0.14114,     0.14214,     0.14314,\n",
              "           0.14414,     0.14515,     0.14615,     0.14715,     0.14815,     0.14915,     0.15015,     0.15115,     0.15215,     0.15315,     0.15415,     0.15516,     0.15616,     0.15716,     0.15816,     0.15916,     0.16016,     0.16116,     0.16216,     0.16316,     0.16416,     0.16517,     0.16617,     0.16717,\n",
              "           0.16817,     0.16917,     0.17017,     0.17117,     0.17217,     0.17317,     0.17417,     0.17518,     0.17618,     0.17718,     0.17818,     0.17918,     0.18018,     0.18118,     0.18218,     0.18318,     0.18418,     0.18519,     0.18619,     0.18719,     0.18819,     0.18919,     0.19019,     0.19119,\n",
              "           0.19219,     0.19319,     0.19419,      0.1952,      0.1962,      0.1972,      0.1982,      0.1992,      0.2002,      0.2012,      0.2022,      0.2032,      0.2042,     0.20521,     0.20621,     0.20721,     0.20821,     0.20921,     0.21021,     0.21121,     0.21221,     0.21321,     0.21421,     0.21522,\n",
              "           0.21622,     0.21722,     0.21822,     0.21922,     0.22022,     0.22122,     0.22222,     0.22322,     0.22422,     0.22523,     0.22623,     0.22723,     0.22823,     0.22923,     0.23023,     0.23123,     0.23223,     0.23323,     0.23423,     0.23524,     0.23624,     0.23724,     0.23824,     0.23924,\n",
              "           0.24024,     0.24124,     0.24224,     0.24324,     0.24424,     0.24525,     0.24625,     0.24725,     0.24825,     0.24925,     0.25025,     0.25125,     0.25225,     0.25325,     0.25425,     0.25526,     0.25626,     0.25726,     0.25826,     0.25926,     0.26026,     0.26126,     0.26226,     0.26326,\n",
              "           0.26426,     0.26527,     0.26627,     0.26727,     0.26827,     0.26927,     0.27027,     0.27127,     0.27227,     0.27327,     0.27427,     0.27528,     0.27628,     0.27728,     0.27828,     0.27928,     0.28028,     0.28128,     0.28228,     0.28328,     0.28428,     0.28529,     0.28629,     0.28729,\n",
              "           0.28829,     0.28929,     0.29029,     0.29129,     0.29229,     0.29329,     0.29429,      0.2953,      0.2963,      0.2973,      0.2983,      0.2993,      0.3003,      0.3013,      0.3023,      0.3033,      0.3043,     0.30531,     0.30631,     0.30731,     0.30831,     0.30931,     0.31031,     0.31131,\n",
              "           0.31231,     0.31331,     0.31431,     0.31532,     0.31632,     0.31732,     0.31832,     0.31932,     0.32032,     0.32132,     0.32232,     0.32332,     0.32432,     0.32533,     0.32633,     0.32733,     0.32833,     0.32933,     0.33033,     0.33133,     0.33233,     0.33333,     0.33433,     0.33534,\n",
              "           0.33634,     0.33734,     0.33834,     0.33934,     0.34034,     0.34134,     0.34234,     0.34334,     0.34434,     0.34535,     0.34635,     0.34735,     0.34835,     0.34935,     0.35035,     0.35135,     0.35235,     0.35335,     0.35435,     0.35536,     0.35636,     0.35736,     0.35836,     0.35936,\n",
              "           0.36036,     0.36136,     0.36236,     0.36336,     0.36436,     0.36537,     0.36637,     0.36737,     0.36837,     0.36937,     0.37037,     0.37137,     0.37237,     0.37337,     0.37437,     0.37538,     0.37638,     0.37738,     0.37838,     0.37938,     0.38038,     0.38138,     0.38238,     0.38338,\n",
              "           0.38438,     0.38539,     0.38639,     0.38739,     0.38839,     0.38939,     0.39039,     0.39139,     0.39239,     0.39339,     0.39439,      0.3954,      0.3964,      0.3974,      0.3984,      0.3994,      0.4004,      0.4014,      0.4024,      0.4034,      0.4044,     0.40541,     0.40641,     0.40741,\n",
              "           0.40841,     0.40941,     0.41041,     0.41141,     0.41241,     0.41341,     0.41441,     0.41542,     0.41642,     0.41742,     0.41842,     0.41942,     0.42042,     0.42142,     0.42242,     0.42342,     0.42442,     0.42543,     0.42643,     0.42743,     0.42843,     0.42943,     0.43043,     0.43143,\n",
              "           0.43243,     0.43343,     0.43443,     0.43544,     0.43644,     0.43744,     0.43844,     0.43944,     0.44044,     0.44144,     0.44244,     0.44344,     0.44444,     0.44545,     0.44645,     0.44745,     0.44845,     0.44945,     0.45045,     0.45145,     0.45245,     0.45345,     0.45445,     0.45546,\n",
              "           0.45646,     0.45746,     0.45846,     0.45946,     0.46046,     0.46146,     0.46246,     0.46346,     0.46446,     0.46547,     0.46647,     0.46747,     0.46847,     0.46947,     0.47047,     0.47147,     0.47247,     0.47347,     0.47447,     0.47548,     0.47648,     0.47748,     0.47848,     0.47948,\n",
              "           0.48048,     0.48148,     0.48248,     0.48348,     0.48448,     0.48549,     0.48649,     0.48749,     0.48849,     0.48949,     0.49049,     0.49149,     0.49249,     0.49349,     0.49449,      0.4955,      0.4965,      0.4975,      0.4985,      0.4995,      0.5005,      0.5015,      0.5025,      0.5035,\n",
              "            0.5045,     0.50551,     0.50651,     0.50751,     0.50851,     0.50951,     0.51051,     0.51151,     0.51251,     0.51351,     0.51451,     0.51552,     0.51652,     0.51752,     0.51852,     0.51952,     0.52052,     0.52152,     0.52252,     0.52352,     0.52452,     0.52553,     0.52653,     0.52753,\n",
              "           0.52853,     0.52953,     0.53053,     0.53153,     0.53253,     0.53353,     0.53453,     0.53554,     0.53654,     0.53754,     0.53854,     0.53954,     0.54054,     0.54154,     0.54254,     0.54354,     0.54454,     0.54555,     0.54655,     0.54755,     0.54855,     0.54955,     0.55055,     0.55155,\n",
              "           0.55255,     0.55355,     0.55455,     0.55556,     0.55656,     0.55756,     0.55856,     0.55956,     0.56056,     0.56156,     0.56256,     0.56356,     0.56456,     0.56557,     0.56657,     0.56757,     0.56857,     0.56957,     0.57057,     0.57157,     0.57257,     0.57357,     0.57457,     0.57558,\n",
              "           0.57658,     0.57758,     0.57858,     0.57958,     0.58058,     0.58158,     0.58258,     0.58358,     0.58458,     0.58559,     0.58659,     0.58759,     0.58859,     0.58959,     0.59059,     0.59159,     0.59259,     0.59359,     0.59459,      0.5956,      0.5966,      0.5976,      0.5986,      0.5996,\n",
              "            0.6006,      0.6016,      0.6026,      0.6036,      0.6046,     0.60561,     0.60661,     0.60761,     0.60861,     0.60961,     0.61061,     0.61161,     0.61261,     0.61361,     0.61461,     0.61562,     0.61662,     0.61762,     0.61862,     0.61962,     0.62062,     0.62162,     0.62262,     0.62362,\n",
              "           0.62462,     0.62563,     0.62663,     0.62763,     0.62863,     0.62963,     0.63063,     0.63163,     0.63263,     0.63363,     0.63463,     0.63564,     0.63664,     0.63764,     0.63864,     0.63964,     0.64064,     0.64164,     0.64264,     0.64364,     0.64464,     0.64565,     0.64665,     0.64765,\n",
              "           0.64865,     0.64965,     0.65065,     0.65165,     0.65265,     0.65365,     0.65465,     0.65566,     0.65666,     0.65766,     0.65866,     0.65966,     0.66066,     0.66166,     0.66266,     0.66366,     0.66466,     0.66567,     0.66667,     0.66767,     0.66867,     0.66967,     0.67067,     0.67167,\n",
              "           0.67267,     0.67367,     0.67467,     0.67568,     0.67668,     0.67768,     0.67868,     0.67968,     0.68068,     0.68168,     0.68268,     0.68368,     0.68468,     0.68569,     0.68669,     0.68769,     0.68869,     0.68969,     0.69069,     0.69169,     0.69269,     0.69369,     0.69469,      0.6957,\n",
              "            0.6967,      0.6977,      0.6987,      0.6997,      0.7007,      0.7017,      0.7027,      0.7037,      0.7047,     0.70571,     0.70671,     0.70771,     0.70871,     0.70971,     0.71071,     0.71171,     0.71271,     0.71371,     0.71471,     0.71572,     0.71672,     0.71772,     0.71872,     0.71972,\n",
              "           0.72072,     0.72172,     0.72272,     0.72372,     0.72472,     0.72573,     0.72673,     0.72773,     0.72873,     0.72973,     0.73073,     0.73173,     0.73273,     0.73373,     0.73473,     0.73574,     0.73674,     0.73774,     0.73874,     0.73974,     0.74074,     0.74174,     0.74274,     0.74374,\n",
              "           0.74474,     0.74575,     0.74675,     0.74775,     0.74875,     0.74975,     0.75075,     0.75175,     0.75275,     0.75375,     0.75475,     0.75576,     0.75676,     0.75776,     0.75876,     0.75976,     0.76076,     0.76176,     0.76276,     0.76376,     0.76476,     0.76577,     0.76677,     0.76777,\n",
              "           0.76877,     0.76977,     0.77077,     0.77177,     0.77277,     0.77377,     0.77477,     0.77578,     0.77678,     0.77778,     0.77878,     0.77978,     0.78078,     0.78178,     0.78278,     0.78378,     0.78478,     0.78579,     0.78679,     0.78779,     0.78879,     0.78979,     0.79079,     0.79179,\n",
              "           0.79279,     0.79379,     0.79479,      0.7958,      0.7968,      0.7978,      0.7988,      0.7998,      0.8008,      0.8018,      0.8028,      0.8038,      0.8048,     0.80581,     0.80681,     0.80781,     0.80881,     0.80981,     0.81081,     0.81181,     0.81281,     0.81381,     0.81481,     0.81582,\n",
              "           0.81682,     0.81782,     0.81882,     0.81982,     0.82082,     0.82182,     0.82282,     0.82382,     0.82482,     0.82583,     0.82683,     0.82783,     0.82883,     0.82983,     0.83083,     0.83183,     0.83283,     0.83383,     0.83483,     0.83584,     0.83684,     0.83784,     0.83884,     0.83984,\n",
              "           0.84084,     0.84184,     0.84284,     0.84384,     0.84484,     0.84585,     0.84685,     0.84785,     0.84885,     0.84985,     0.85085,     0.85185,     0.85285,     0.85385,     0.85485,     0.85586,     0.85686,     0.85786,     0.85886,     0.85986,     0.86086,     0.86186,     0.86286,     0.86386,\n",
              "           0.86486,     0.86587,     0.86687,     0.86787,     0.86887,     0.86987,     0.87087,     0.87187,     0.87287,     0.87387,     0.87487,     0.87588,     0.87688,     0.87788,     0.87888,     0.87988,     0.88088,     0.88188,     0.88288,     0.88388,     0.88488,     0.88589,     0.88689,     0.88789,\n",
              "           0.88889,     0.88989,     0.89089,     0.89189,     0.89289,     0.89389,     0.89489,      0.8959,      0.8969,      0.8979,      0.8989,      0.8999,      0.9009,      0.9019,      0.9029,      0.9039,      0.9049,     0.90591,     0.90691,     0.90791,     0.90891,     0.90991,     0.91091,     0.91191,\n",
              "           0.91291,     0.91391,     0.91491,     0.91592,     0.91692,     0.91792,     0.91892,     0.91992,     0.92092,     0.92192,     0.92292,     0.92392,     0.92492,     0.92593,     0.92693,     0.92793,     0.92893,     0.92993,     0.93093,     0.93193,     0.93293,     0.93393,     0.93493,     0.93594,\n",
              "           0.93694,     0.93794,     0.93894,     0.93994,     0.94094,     0.94194,     0.94294,     0.94394,     0.94494,     0.94595,     0.94695,     0.94795,     0.94895,     0.94995,     0.95095,     0.95195,     0.95295,     0.95395,     0.95495,     0.95596,     0.95696,     0.95796,     0.95896,     0.95996,\n",
              "           0.96096,     0.96196,     0.96296,     0.96396,     0.96496,     0.96597,     0.96697,     0.96797,     0.96897,     0.96997,     0.97097,     0.97197,     0.97297,     0.97397,     0.97497,     0.97598,     0.97698,     0.97798,     0.97898,     0.97998,     0.98098,     0.98198,     0.98298,     0.98398,\n",
              "           0.98498,     0.98599,     0.98699,     0.98799,     0.98899,     0.98999,     0.99099,     0.99199,     0.99299,     0.99399,     0.99499,       0.996,       0.997,       0.998,       0.999,           1]), array([[          1,           1,           1,           1,           1,           1,           1,           1,           1,           1,           1,           1,           1,           1,           1,           1,           1,           1,           1,           1,           1,           1,           1,\n",
              "                  1,           1,           1,           1,           1,           1,           1,           1,           1,           1,           1,           1,           1,           1,           1,           1,           1,           1,           1,           1,           1,           1,           1,\n",
              "                  1,           1,           1,           1,           1,           1,           1,           1,           1,           1,           1,           1,           1,           1,           1,           1,           1,           1,           1,           1,           1,           1,           1,\n",
              "                  1,           1,           1,           1,           1,           1,           1,           1,           1,           1,           1,           1,           1,           1,           1,     0.98925,     0.98925,     0.98925,     0.98925,     0.98925,     0.98925,     0.98925,     0.98925,\n",
              "            0.98925,     0.98925,     0.98925,     0.98925,     0.98925,     0.98925,     0.98925,     0.98925,     0.98925,     0.98925,     0.98925,     0.98925,     0.98925,     0.98925,     0.98925,     0.98925,     0.98925,     0.98925,     0.98925,     0.98925,     0.98925,     0.98925,     0.98925,\n",
              "            0.98925,     0.98925,     0.98925,     0.98925,     0.98925,     0.98925,     0.98925,     0.98925,     0.98925,     0.98925,     0.98925,     0.98925,     0.98925,     0.98925,     0.98925,     0.98925,     0.98925,     0.98925,     0.98925,     0.98925,     0.98925,     0.98925,     0.98925,\n",
              "            0.98925,     0.98925,     0.98925,     0.98925,     0.98925,     0.98925,     0.98925,     0.98925,     0.98925,     0.98925,     0.98925,     0.98925,     0.98925,     0.98925,     0.98925,     0.98925,     0.98925,     0.98925,     0.98925,     0.98925,     0.98925,     0.98925,     0.98925,\n",
              "            0.98925,     0.98925,     0.98925,     0.98925,     0.98925,     0.98925,     0.98925,     0.98925,     0.98925,     0.98925,     0.98925,     0.98925,     0.98925,     0.98925,     0.98925,     0.98925,     0.98925,     0.98925,     0.98925,     0.98925,     0.98925,     0.98925,     0.98925,\n",
              "            0.98925,     0.98925,     0.98925,     0.98925,     0.98925,     0.98925,     0.98925,     0.98925,     0.98925,     0.98925,     0.98925,     0.98925,     0.98925,     0.98925,     0.98925,     0.98925,     0.98925,     0.98925,     0.98925,     0.98925,     0.98925,     0.98925,     0.98925,\n",
              "            0.98925,     0.98925,     0.98925,     0.98925,     0.98925,     0.98925,     0.98925,     0.98925,     0.98925,     0.98925,     0.98925,     0.98925,     0.98925,     0.98925,     0.98925,     0.98925,     0.98925,     0.98925,     0.98925,     0.98925,     0.98925,     0.98925,     0.98925,\n",
              "            0.98925,     0.98925,     0.98925,     0.98925,     0.98925,     0.98925,     0.98925,     0.98925,     0.98925,     0.98925,     0.98925,     0.98925,     0.98925,     0.98925,     0.98925,     0.98925,     0.98925,     0.98925,     0.98925,     0.98925,     0.98925,     0.98925,     0.98925,\n",
              "            0.98925,     0.98925,     0.98925,     0.98925,     0.98925,     0.98925,     0.98925,     0.98925,     0.98925,     0.98925,     0.98925,     0.98925,     0.98925,     0.98925,     0.98925,     0.98925,     0.98925,     0.98925,     0.98925,     0.98925,     0.98925,     0.98925,     0.98925,\n",
              "            0.98925,     0.98925,     0.98925,     0.98925,     0.98925,     0.98925,     0.98925,     0.98925,     0.98925,     0.98925,     0.98925,     0.98925,     0.98925,     0.98925,     0.98925,     0.98925,     0.98925,     0.98925,     0.98925,     0.98925,     0.98925,     0.98925,     0.98925,\n",
              "            0.98925,     0.98925,     0.98925,     0.98925,     0.98925,     0.98925,     0.98925,     0.98925,     0.98621,     0.98621,     0.98621,     0.98621,     0.98621,     0.98621,     0.98621,     0.98621,     0.98621,     0.98621,     0.98621,     0.98621,     0.98621,     0.98621,     0.98621,\n",
              "            0.98621,     0.98621,     0.98621,     0.98621,     0.98621,     0.98621,     0.98621,     0.98621,     0.98621,     0.98621,     0.98621,     0.98621,     0.98621,     0.98621,     0.98621,     0.98621,     0.98621,     0.98621,     0.98621,     0.98621,     0.98621,     0.98621,     0.98621,\n",
              "            0.98621,     0.98621,     0.98621,     0.98621,     0.98621,     0.98621,     0.98621,     0.98621,     0.98621,     0.98621,     0.98621,     0.98621,     0.98621,     0.98621,     0.98621,     0.98621,     0.98621,     0.98621,     0.98621,     0.98621,     0.98621,     0.98621,     0.98621,\n",
              "            0.98621,     0.98621,     0.98621,     0.98621,     0.98621,     0.98621,     0.98621,     0.98621,     0.98621,     0.98621,     0.98621,     0.98621,     0.98621,     0.98621,     0.98621,     0.98621,     0.98621,     0.98621,     0.98621,     0.98621,     0.98621,     0.98621,     0.98621,\n",
              "            0.98621,     0.98621,     0.98621,     0.98621,     0.98621,     0.98621,     0.98621,     0.98621,     0.98621,     0.98621,     0.98621,     0.98621,     0.98621,     0.98621,     0.98621,     0.98621,     0.98621,     0.98621,     0.98621,     0.98621,     0.98621,     0.98621,     0.98621,\n",
              "            0.98621,     0.98621,     0.98621,     0.98621,     0.98621,     0.98621,     0.98621,     0.98621,     0.98621,     0.98621,     0.98621,     0.98621,     0.98621,     0.98621,     0.98621,     0.98621,     0.98621,     0.98621,     0.98621,     0.98621,     0.98621,     0.98621,     0.98621,\n",
              "            0.98621,     0.98621,     0.98621,     0.98621,     0.98621,     0.98621,     0.98621,     0.98621,     0.98621,     0.98621,     0.98621,     0.98621,     0.98621,     0.98621,     0.98621,     0.98621,     0.98621,     0.98621,     0.98621,     0.98621,     0.98621,     0.98621,     0.98621,\n",
              "            0.98621,     0.98621,     0.98621,     0.98621,     0.98621,     0.98621,     0.98621,     0.98621,     0.98621,     0.98621,     0.98621,     0.98621,     0.98621,     0.98621,     0.98621,     0.98621,     0.98621,      0.9822,      0.9822,      0.9822,      0.9822,      0.9822,      0.9822,\n",
              "             0.9822,      0.9822,      0.9822,      0.9822,      0.9822,      0.9822,      0.9822,      0.9822,      0.9822,      0.9822,      0.9822,      0.9822,      0.9822,      0.9822,      0.9822,      0.9822,      0.9822,      0.9822,      0.9822,      0.9822,      0.9822,      0.9822,      0.9822,\n",
              "             0.9822,      0.9822,      0.9822,      0.9822,      0.9822,      0.9822,      0.9822,      0.9822,      0.9822,      0.9822,      0.9822,      0.9822,      0.9822,      0.9822,      0.9822,      0.9822,      0.9822,      0.9822,      0.9822,      0.9822,      0.9822,      0.9822,      0.9822,\n",
              "             0.9822,      0.9822,      0.9822,      0.9822,      0.9822,      0.9822,      0.9822,      0.9822,      0.9822,      0.9822,      0.9822,      0.9822,      0.9822,      0.9822,      0.9822,      0.9822,      0.9822,      0.9822,      0.9822,      0.9822,      0.9822,      0.9822,      0.9822,\n",
              "              0.975,       0.975,       0.975,       0.975,       0.975,       0.975,       0.975,       0.975,       0.975,       0.975,       0.975,       0.975,       0.975,       0.975,       0.975,       0.975,       0.975,       0.975,       0.975,       0.975,       0.975,       0.975,       0.975,\n",
              "              0.975,       0.975,       0.975,       0.975,       0.975,       0.975,       0.975,       0.975,       0.975,       0.975,     0.97143,     0.97143,     0.97143,     0.97143,     0.97143,     0.97143,     0.97143,     0.97143,     0.97143,     0.97143,     0.97143,     0.97143,     0.97143,\n",
              "            0.97143,     0.97143,     0.97143,     0.97143,     0.97143,     0.97143,     0.97143,     0.97143,     0.97143,     0.97143,     0.97143,     0.97143,     0.97143,     0.97143,     0.97143,     0.97143,     0.97143,     0.97143,     0.97143,     0.97143,     0.97143,     0.97143,     0.97143,\n",
              "            0.97143,     0.97143,     0.96939,     0.96939,     0.96939,     0.96939,     0.96939,     0.96939,     0.96939,     0.96939,     0.96939,     0.96939,     0.96734,     0.96734,     0.96734,     0.96734,     0.96734,     0.96734,     0.96734,     0.96734,     0.96734,     0.96517,     0.96517,\n",
              "            0.96517,     0.96517,     0.96517,     0.96107,     0.96107,     0.96107,     0.96107,     0.96107,     0.96107,     0.96107,     0.96107,     0.96107,     0.96107,     0.96107,     0.95933,     0.95933,     0.95933,     0.95933,     0.95933,     0.95933,     0.95933,     0.95933,     0.95933,\n",
              "            0.95933,     0.95815,     0.95815,     0.95815,     0.95815,     0.95815,     0.95815,     0.95815,     0.95815,     0.95815,     0.95815,     0.95815,     0.95815,     0.95815,     0.95815,     0.95815,     0.95815,     0.95815,     0.95815,     0.95815,     0.95815,     0.95815,     0.95815,\n",
              "            0.95815,     0.95815,     0.95815,     0.95815,     0.95815,     0.95815,     0.95815,     0.95815,     0.95815,     0.95815,     0.95815,     0.95815,     0.95815,     0.95815,     0.95815,     0.95815,     0.95815,     0.95815,     0.95815,     0.95815,     0.95815,     0.95815,     0.95815,\n",
              "            0.95815,     0.95815,     0.95815,     0.95815,     0.95815,     0.95815,     0.95815,     0.95815,     0.95815,     0.95815,     0.95815,     0.95815,      0.9568,      0.9568,      0.9568,      0.9568,      0.9568,      0.9568,      0.9568,      0.9568,      0.9568,      0.9568,      0.9568,\n",
              "             0.9568,      0.9568,     0.95503,     0.95503,     0.95503,     0.95503,     0.95503,     0.95319,     0.95319,     0.95319,     0.95148,     0.95148,     0.95148,     0.95148,     0.95148,        0.95,        0.95,        0.95,        0.95,        0.95,        0.95,        0.95,        0.95,\n",
              "               0.95,     0.94639,     0.94639,     0.94639,     0.94639,     0.94639,     0.94456,     0.94094,     0.94094,     0.94094,     0.94094,     0.93915,     0.93861,     0.93861,     0.93861,     0.93861,     0.93861,     0.93861,     0.93861,     0.93861,     0.93861,     0.93861,     0.93861,\n",
              "            0.93861,     0.93861,     0.93861,     0.93861,     0.93861,     0.93861,     0.93861,     0.93861,     0.92982,     0.92982,     0.92982,     0.92982,     0.92982,     0.92898,     0.92898,     0.92898,     0.92898,     0.92898,     0.92898,     0.92898,     0.92898,     0.92898,     0.92898,\n",
              "            0.92898,     0.92748,     0.92748,     0.92748,     0.92748,     0.92439,     0.92439,     0.92439,     0.92439,     0.92439,     0.92279,     0.91264,     0.91264,     0.90959,     0.90959,     0.90959,     0.90809,     0.90809,     0.90328,     0.90328,     0.89228,     0.89228,     0.89228,\n",
              "            0.88948,     0.88948,     0.88948,      0.8836,      0.8836,      0.8836,      0.8836,     0.87456,     0.85544,     0.85544,      0.8521,      0.8521,      0.8521,      0.8521,      0.8521,      0.8521,      0.8521,     0.84884,     0.84884,     0.84884,     0.84884,     0.84884,     0.84884,\n",
              "            0.84768,     0.84768,      0.8415,      0.8415,      0.8415,      0.8415,      0.8415,     0.84039,     0.84039,      0.8272,     0.82512,     0.82512,     0.82512,     0.82512,     0.82306,     0.82306,     0.82306,     0.82205,     0.82205,     0.82104,     0.82031,     0.82031,     0.82031,\n",
              "            0.82031,     0.80704,     0.80704,     0.80704,     0.80611,     0.80611,     0.80395,      0.8009,      0.8009,      0.8009,      0.8009,     0.77924,     0.77924,     0.77924,     0.77729,     0.77729,      0.7632,     0.76062,     0.76062,     0.76062,     0.76062,     0.73497,     0.73433,\n",
              "            0.73433,     0.71904,     0.71904,     0.71656,     0.69935,     0.69935,     0.69349,     0.69349,     0.69036,     0.66871,     0.66871,     0.66102,     0.66102,     0.60913,     0.60154,     0.60154,     0.58386,     0.58386,     0.58386,     0.58061,     0.58061,     0.57741,     0.57741,\n",
              "            0.57529,     0.57529,     0.57529,     0.55779,     0.55779,       0.557,       0.557,       0.557,     0.55689,     0.55689,     0.50451,      0.4766,      0.4766,     0.46173,     0.46173,     0.45765,      0.4544,      0.4544,     0.44984,     0.44984,     0.44984,     0.41771,     0.41771,\n",
              "            0.37295,     0.37295,     0.37295,     0.37068,     0.37068,     0.36445,     0.36445,     0.36094,     0.35616,     0.35616,      0.3559,      0.3559,     0.34392,     0.32745,     0.32745,     0.31876,     0.31876,     0.30289,     0.28292,     0.28292,     0.23068,     0.23068,     0.17319,\n",
              "             0.1116,      0.1116,     0.10363,     0.10363,    0.096348,    0.073636,    0.071006,    0.068376,    0.065747,    0.063117,    0.060487,    0.057857,    0.055227,    0.052597,    0.049967,    0.047337,    0.044708,    0.042078,    0.039448,    0.036818,    0.034188,    0.031558,    0.028928,\n",
              "           0.026299,    0.023669,    0.021039,    0.018409,    0.015779,    0.013149,    0.010519,   0.0078896,   0.0052597,   0.0026299,           0]]), 'Recall', 'Precision'], [array([          0,    0.001001,    0.002002,    0.003003,    0.004004,    0.005005,    0.006006,    0.007007,    0.008008,    0.009009,     0.01001,    0.011011,    0.012012,    0.013013,    0.014014,    0.015015,    0.016016,    0.017017,    0.018018,    0.019019,     0.02002,    0.021021,    0.022022,    0.023023,\n",
              "          0.024024,    0.025025,    0.026026,    0.027027,    0.028028,    0.029029,     0.03003,    0.031031,    0.032032,    0.033033,    0.034034,    0.035035,    0.036036,    0.037037,    0.038038,    0.039039,     0.04004,    0.041041,    0.042042,    0.043043,    0.044044,    0.045045,    0.046046,    0.047047,\n",
              "          0.048048,    0.049049,     0.05005,    0.051051,    0.052052,    0.053053,    0.054054,    0.055055,    0.056056,    0.057057,    0.058058,    0.059059,     0.06006,    0.061061,    0.062062,    0.063063,    0.064064,    0.065065,    0.066066,    0.067067,    0.068068,    0.069069,     0.07007,    0.071071,\n",
              "          0.072072,    0.073073,    0.074074,    0.075075,    0.076076,    0.077077,    0.078078,    0.079079,     0.08008,    0.081081,    0.082082,    0.083083,    0.084084,    0.085085,    0.086086,    0.087087,    0.088088,    0.089089,     0.09009,    0.091091,    0.092092,    0.093093,    0.094094,    0.095095,\n",
              "          0.096096,    0.097097,    0.098098,    0.099099,      0.1001,      0.1011,      0.1021,      0.1031,      0.1041,     0.10511,     0.10611,     0.10711,     0.10811,     0.10911,     0.11011,     0.11111,     0.11211,     0.11311,     0.11411,     0.11512,     0.11612,     0.11712,     0.11812,     0.11912,\n",
              "           0.12012,     0.12112,     0.12212,     0.12312,     0.12412,     0.12513,     0.12613,     0.12713,     0.12813,     0.12913,     0.13013,     0.13113,     0.13213,     0.13313,     0.13413,     0.13514,     0.13614,     0.13714,     0.13814,     0.13914,     0.14014,     0.14114,     0.14214,     0.14314,\n",
              "           0.14414,     0.14515,     0.14615,     0.14715,     0.14815,     0.14915,     0.15015,     0.15115,     0.15215,     0.15315,     0.15415,     0.15516,     0.15616,     0.15716,     0.15816,     0.15916,     0.16016,     0.16116,     0.16216,     0.16316,     0.16416,     0.16517,     0.16617,     0.16717,\n",
              "           0.16817,     0.16917,     0.17017,     0.17117,     0.17217,     0.17317,     0.17417,     0.17518,     0.17618,     0.17718,     0.17818,     0.17918,     0.18018,     0.18118,     0.18218,     0.18318,     0.18418,     0.18519,     0.18619,     0.18719,     0.18819,     0.18919,     0.19019,     0.19119,\n",
              "           0.19219,     0.19319,     0.19419,      0.1952,      0.1962,      0.1972,      0.1982,      0.1992,      0.2002,      0.2012,      0.2022,      0.2032,      0.2042,     0.20521,     0.20621,     0.20721,     0.20821,     0.20921,     0.21021,     0.21121,     0.21221,     0.21321,     0.21421,     0.21522,\n",
              "           0.21622,     0.21722,     0.21822,     0.21922,     0.22022,     0.22122,     0.22222,     0.22322,     0.22422,     0.22523,     0.22623,     0.22723,     0.22823,     0.22923,     0.23023,     0.23123,     0.23223,     0.23323,     0.23423,     0.23524,     0.23624,     0.23724,     0.23824,     0.23924,\n",
              "           0.24024,     0.24124,     0.24224,     0.24324,     0.24424,     0.24525,     0.24625,     0.24725,     0.24825,     0.24925,     0.25025,     0.25125,     0.25225,     0.25325,     0.25425,     0.25526,     0.25626,     0.25726,     0.25826,     0.25926,     0.26026,     0.26126,     0.26226,     0.26326,\n",
              "           0.26426,     0.26527,     0.26627,     0.26727,     0.26827,     0.26927,     0.27027,     0.27127,     0.27227,     0.27327,     0.27427,     0.27528,     0.27628,     0.27728,     0.27828,     0.27928,     0.28028,     0.28128,     0.28228,     0.28328,     0.28428,     0.28529,     0.28629,     0.28729,\n",
              "           0.28829,     0.28929,     0.29029,     0.29129,     0.29229,     0.29329,     0.29429,      0.2953,      0.2963,      0.2973,      0.2983,      0.2993,      0.3003,      0.3013,      0.3023,      0.3033,      0.3043,     0.30531,     0.30631,     0.30731,     0.30831,     0.30931,     0.31031,     0.31131,\n",
              "           0.31231,     0.31331,     0.31431,     0.31532,     0.31632,     0.31732,     0.31832,     0.31932,     0.32032,     0.32132,     0.32232,     0.32332,     0.32432,     0.32533,     0.32633,     0.32733,     0.32833,     0.32933,     0.33033,     0.33133,     0.33233,     0.33333,     0.33433,     0.33534,\n",
              "           0.33634,     0.33734,     0.33834,     0.33934,     0.34034,     0.34134,     0.34234,     0.34334,     0.34434,     0.34535,     0.34635,     0.34735,     0.34835,     0.34935,     0.35035,     0.35135,     0.35235,     0.35335,     0.35435,     0.35536,     0.35636,     0.35736,     0.35836,     0.35936,\n",
              "           0.36036,     0.36136,     0.36236,     0.36336,     0.36436,     0.36537,     0.36637,     0.36737,     0.36837,     0.36937,     0.37037,     0.37137,     0.37237,     0.37337,     0.37437,     0.37538,     0.37638,     0.37738,     0.37838,     0.37938,     0.38038,     0.38138,     0.38238,     0.38338,\n",
              "           0.38438,     0.38539,     0.38639,     0.38739,     0.38839,     0.38939,     0.39039,     0.39139,     0.39239,     0.39339,     0.39439,      0.3954,      0.3964,      0.3974,      0.3984,      0.3994,      0.4004,      0.4014,      0.4024,      0.4034,      0.4044,     0.40541,     0.40641,     0.40741,\n",
              "           0.40841,     0.40941,     0.41041,     0.41141,     0.41241,     0.41341,     0.41441,     0.41542,     0.41642,     0.41742,     0.41842,     0.41942,     0.42042,     0.42142,     0.42242,     0.42342,     0.42442,     0.42543,     0.42643,     0.42743,     0.42843,     0.42943,     0.43043,     0.43143,\n",
              "           0.43243,     0.43343,     0.43443,     0.43544,     0.43644,     0.43744,     0.43844,     0.43944,     0.44044,     0.44144,     0.44244,     0.44344,     0.44444,     0.44545,     0.44645,     0.44745,     0.44845,     0.44945,     0.45045,     0.45145,     0.45245,     0.45345,     0.45445,     0.45546,\n",
              "           0.45646,     0.45746,     0.45846,     0.45946,     0.46046,     0.46146,     0.46246,     0.46346,     0.46446,     0.46547,     0.46647,     0.46747,     0.46847,     0.46947,     0.47047,     0.47147,     0.47247,     0.47347,     0.47447,     0.47548,     0.47648,     0.47748,     0.47848,     0.47948,\n",
              "           0.48048,     0.48148,     0.48248,     0.48348,     0.48448,     0.48549,     0.48649,     0.48749,     0.48849,     0.48949,     0.49049,     0.49149,     0.49249,     0.49349,     0.49449,      0.4955,      0.4965,      0.4975,      0.4985,      0.4995,      0.5005,      0.5015,      0.5025,      0.5035,\n",
              "            0.5045,     0.50551,     0.50651,     0.50751,     0.50851,     0.50951,     0.51051,     0.51151,     0.51251,     0.51351,     0.51451,     0.51552,     0.51652,     0.51752,     0.51852,     0.51952,     0.52052,     0.52152,     0.52252,     0.52352,     0.52452,     0.52553,     0.52653,     0.52753,\n",
              "           0.52853,     0.52953,     0.53053,     0.53153,     0.53253,     0.53353,     0.53453,     0.53554,     0.53654,     0.53754,     0.53854,     0.53954,     0.54054,     0.54154,     0.54254,     0.54354,     0.54454,     0.54555,     0.54655,     0.54755,     0.54855,     0.54955,     0.55055,     0.55155,\n",
              "           0.55255,     0.55355,     0.55455,     0.55556,     0.55656,     0.55756,     0.55856,     0.55956,     0.56056,     0.56156,     0.56256,     0.56356,     0.56456,     0.56557,     0.56657,     0.56757,     0.56857,     0.56957,     0.57057,     0.57157,     0.57257,     0.57357,     0.57457,     0.57558,\n",
              "           0.57658,     0.57758,     0.57858,     0.57958,     0.58058,     0.58158,     0.58258,     0.58358,     0.58458,     0.58559,     0.58659,     0.58759,     0.58859,     0.58959,     0.59059,     0.59159,     0.59259,     0.59359,     0.59459,      0.5956,      0.5966,      0.5976,      0.5986,      0.5996,\n",
              "            0.6006,      0.6016,      0.6026,      0.6036,      0.6046,     0.60561,     0.60661,     0.60761,     0.60861,     0.60961,     0.61061,     0.61161,     0.61261,     0.61361,     0.61461,     0.61562,     0.61662,     0.61762,     0.61862,     0.61962,     0.62062,     0.62162,     0.62262,     0.62362,\n",
              "           0.62462,     0.62563,     0.62663,     0.62763,     0.62863,     0.62963,     0.63063,     0.63163,     0.63263,     0.63363,     0.63463,     0.63564,     0.63664,     0.63764,     0.63864,     0.63964,     0.64064,     0.64164,     0.64264,     0.64364,     0.64464,     0.64565,     0.64665,     0.64765,\n",
              "           0.64865,     0.64965,     0.65065,     0.65165,     0.65265,     0.65365,     0.65465,     0.65566,     0.65666,     0.65766,     0.65866,     0.65966,     0.66066,     0.66166,     0.66266,     0.66366,     0.66466,     0.66567,     0.66667,     0.66767,     0.66867,     0.66967,     0.67067,     0.67167,\n",
              "           0.67267,     0.67367,     0.67467,     0.67568,     0.67668,     0.67768,     0.67868,     0.67968,     0.68068,     0.68168,     0.68268,     0.68368,     0.68468,     0.68569,     0.68669,     0.68769,     0.68869,     0.68969,     0.69069,     0.69169,     0.69269,     0.69369,     0.69469,      0.6957,\n",
              "            0.6967,      0.6977,      0.6987,      0.6997,      0.7007,      0.7017,      0.7027,      0.7037,      0.7047,     0.70571,     0.70671,     0.70771,     0.70871,     0.70971,     0.71071,     0.71171,     0.71271,     0.71371,     0.71471,     0.71572,     0.71672,     0.71772,     0.71872,     0.71972,\n",
              "           0.72072,     0.72172,     0.72272,     0.72372,     0.72472,     0.72573,     0.72673,     0.72773,     0.72873,     0.72973,     0.73073,     0.73173,     0.73273,     0.73373,     0.73473,     0.73574,     0.73674,     0.73774,     0.73874,     0.73974,     0.74074,     0.74174,     0.74274,     0.74374,\n",
              "           0.74474,     0.74575,     0.74675,     0.74775,     0.74875,     0.74975,     0.75075,     0.75175,     0.75275,     0.75375,     0.75475,     0.75576,     0.75676,     0.75776,     0.75876,     0.75976,     0.76076,     0.76176,     0.76276,     0.76376,     0.76476,     0.76577,     0.76677,     0.76777,\n",
              "           0.76877,     0.76977,     0.77077,     0.77177,     0.77277,     0.77377,     0.77477,     0.77578,     0.77678,     0.77778,     0.77878,     0.77978,     0.78078,     0.78178,     0.78278,     0.78378,     0.78478,     0.78579,     0.78679,     0.78779,     0.78879,     0.78979,     0.79079,     0.79179,\n",
              "           0.79279,     0.79379,     0.79479,      0.7958,      0.7968,      0.7978,      0.7988,      0.7998,      0.8008,      0.8018,      0.8028,      0.8038,      0.8048,     0.80581,     0.80681,     0.80781,     0.80881,     0.80981,     0.81081,     0.81181,     0.81281,     0.81381,     0.81481,     0.81582,\n",
              "           0.81682,     0.81782,     0.81882,     0.81982,     0.82082,     0.82182,     0.82282,     0.82382,     0.82482,     0.82583,     0.82683,     0.82783,     0.82883,     0.82983,     0.83083,     0.83183,     0.83283,     0.83383,     0.83483,     0.83584,     0.83684,     0.83784,     0.83884,     0.83984,\n",
              "           0.84084,     0.84184,     0.84284,     0.84384,     0.84484,     0.84585,     0.84685,     0.84785,     0.84885,     0.84985,     0.85085,     0.85185,     0.85285,     0.85385,     0.85485,     0.85586,     0.85686,     0.85786,     0.85886,     0.85986,     0.86086,     0.86186,     0.86286,     0.86386,\n",
              "           0.86486,     0.86587,     0.86687,     0.86787,     0.86887,     0.86987,     0.87087,     0.87187,     0.87287,     0.87387,     0.87487,     0.87588,     0.87688,     0.87788,     0.87888,     0.87988,     0.88088,     0.88188,     0.88288,     0.88388,     0.88488,     0.88589,     0.88689,     0.88789,\n",
              "           0.88889,     0.88989,     0.89089,     0.89189,     0.89289,     0.89389,     0.89489,      0.8959,      0.8969,      0.8979,      0.8989,      0.8999,      0.9009,      0.9019,      0.9029,      0.9039,      0.9049,     0.90591,     0.90691,     0.90791,     0.90891,     0.90991,     0.91091,     0.91191,\n",
              "           0.91291,     0.91391,     0.91491,     0.91592,     0.91692,     0.91792,     0.91892,     0.91992,     0.92092,     0.92192,     0.92292,     0.92392,     0.92492,     0.92593,     0.92693,     0.92793,     0.92893,     0.92993,     0.93093,     0.93193,     0.93293,     0.93393,     0.93493,     0.93594,\n",
              "           0.93694,     0.93794,     0.93894,     0.93994,     0.94094,     0.94194,     0.94294,     0.94394,     0.94494,     0.94595,     0.94695,     0.94795,     0.94895,     0.94995,     0.95095,     0.95195,     0.95295,     0.95395,     0.95495,     0.95596,     0.95696,     0.95796,     0.95896,     0.95996,\n",
              "           0.96096,     0.96196,     0.96296,     0.96396,     0.96496,     0.96597,     0.96697,     0.96797,     0.96897,     0.96997,     0.97097,     0.97197,     0.97297,     0.97397,     0.97497,     0.97598,     0.97698,     0.97798,     0.97898,     0.97998,     0.98098,     0.98198,     0.98298,     0.98398,\n",
              "           0.98498,     0.98599,     0.98699,     0.98799,     0.98899,     0.98999,     0.99099,     0.99199,     0.99299,     0.99399,     0.99499,       0.996,       0.997,       0.998,       0.999,           1]), array([[    0.13828,     0.13828,     0.22984,     0.29999,     0.35412,     0.39551,     0.43071,     0.46017,     0.48363,     0.50477,     0.51933,     0.53067,     0.54191,     0.55539,     0.56916,     0.57866,      0.5873,     0.59529,     0.60404,     0.61033,     0.61446,     0.61972,     0.62695,\n",
              "            0.63366,     0.64036,     0.64688,     0.65387,     0.65883,     0.66203,     0.66617,     0.67061,     0.67558,     0.68083,     0.68728,     0.69232,     0.69618,     0.69791,     0.70207,     0.70679,     0.70843,     0.70783,     0.70841,     0.70932,     0.71083,     0.71299,     0.71218,\n",
              "            0.71284,     0.71442,     0.71694,     0.71965,     0.72312,     0.72467,     0.72708,     0.72915,     0.73049,     0.73303,     0.73393,     0.73658,      0.7389,     0.74243,     0.74434,     0.74666,     0.74756,     0.74815,     0.74842,     0.74877,     0.75006,     0.75037,     0.75078,\n",
              "             0.7514,     0.75311,     0.75388,     0.75498,     0.75715,     0.75806,     0.75897,     0.75975,     0.76023,     0.76204,     0.76231,     0.76311,     0.76532,     0.76543,     0.76659,     0.76854,     0.77023,     0.77007,     0.77184,     0.77224,     0.77253,     0.77328,     0.77443,\n",
              "            0.77628,     0.77662,     0.77703,     0.77739,     0.77776,     0.77849,     0.77938,     0.78003,     0.78096,     0.78184,     0.78287,     0.78345,     0.78483,     0.78494,     0.78517,     0.78543,     0.78655,       0.787,     0.78743,     0.78786,     0.78813,     0.78824,     0.78844,\n",
              "            0.79015,     0.79078,     0.79131,     0.79277,     0.79342,     0.79623,     0.79669,     0.79742,     0.79761,      0.7978,     0.79801,     0.79831,     0.79781,     0.79892,     0.79908,     0.79924,     0.79939,     0.79892,      0.7995,     0.80061,     0.80165,      0.8021,     0.80272,\n",
              "            0.80331,     0.80347,     0.80363,     0.80379,     0.80499,     0.80804,     0.80715,      0.8074,     0.81012,     0.81043,     0.81189,     0.81379,     0.81404,     0.81506,     0.81575,     0.81621,     0.81873,     0.81941,     0.81971,     0.82064,     0.82094,     0.82233,     0.82122,\n",
              "            0.82098,     0.82074,     0.82124,     0.82155,     0.82194,     0.82215,     0.82158,     0.82254,       0.823,     0.82358,     0.82423,     0.82664,     0.82682,     0.82701,      0.8272,     0.82795,     0.82802,     0.82809,     0.82816,     0.82823,      0.8283,     0.82837,     0.82844,\n",
              "            0.82851,     0.82904,     0.82918,     0.82929,     0.82891,     0.82854,     0.82921,     0.82949,        0.83,     0.83168,     0.83221,     0.83434,      0.8347,     0.83602,     0.83699,     0.83712,     0.83725,     0.83738,     0.83751,     0.83794,     0.83845,     0.84027,     0.84062,\n",
              "            0.84041,     0.83946,     0.83911,     0.83937,     0.83963,     0.83995,     0.84029,     0.84056,     0.84081,     0.84012,     0.84029,     0.84046,     0.84064,     0.84078,     0.84087,     0.84095,     0.84103,     0.84111,     0.84119,     0.84128,     0.84136,     0.84142,     0.84126,\n",
              "            0.84109,     0.84093,     0.84076,      0.8406,     0.83942,     0.83962,     0.83981,     0.84001,     0.84024,     0.84047,     0.84209,     0.84259,     0.84294,     0.84325,     0.84392,     0.84543,     0.84556,     0.84569,     0.84583,     0.84596,     0.84609,     0.84633,     0.84656,\n",
              "            0.84579,     0.84516,     0.84544,     0.84518,     0.84493,     0.84467,     0.84486,     0.84352,     0.84392,     0.84455,     0.84391,     0.84359,      0.8435,      0.8434,     0.84331,     0.84322,     0.84312,     0.84303,     0.84293,     0.84284,     0.84274,     0.84298,     0.84351,\n",
              "            0.84357,     0.84328,      0.8435,     0.84372,     0.84429,     0.84463,     0.84477,     0.84491,     0.84505,     0.84519,     0.84744,     0.84816,     0.84857,     0.84877,      0.8489,     0.84902,     0.84915,     0.84927,      0.8494,     0.84957,     0.84974,     0.84991,     0.85008,\n",
              "            0.84986,     0.84963,     0.84941,     0.84918,     0.84931,     0.84953,     0.84976,     0.84966,     0.84938,      0.8491,     0.84764,     0.84718,      0.8476,     0.84983,     0.85049,     0.85032,     0.85016,        0.85,     0.84983,     0.84967,     0.84971,     0.84992,     0.84911,\n",
              "            0.84875,     0.84839,     0.84714,     0.84686,     0.84657,     0.84788,     0.84802,     0.84816,      0.8483,     0.84844,     0.84655,     0.84636,     0.84617,     0.84598,     0.84579,     0.84557,     0.84521,     0.84485,     0.84487,     0.84529,     0.84591,     0.84601,     0.84611,\n",
              "            0.84621,     0.84631,     0.84641,     0.84651,     0.84707,     0.84869,     0.84885,       0.849,     0.84916,     0.84931,     0.85021,     0.85042,     0.85063,     0.85084,     0.85192,     0.85229,     0.85236,     0.85243,      0.8525,     0.85256,     0.85263,      0.8527,     0.85277,\n",
              "            0.85283,      0.8529,     0.85297,     0.85376,     0.85384,     0.85392,       0.854,     0.85408,     0.85416,     0.85423,     0.85431,     0.85439,     0.85447,     0.85467,     0.85487,     0.85507,     0.85514,     0.85499,     0.85483,     0.85468,     0.85453,     0.85437,     0.85423,\n",
              "            0.85568,     0.85575,     0.85582,      0.8559,     0.85597,     0.85604,     0.85611,     0.85618,     0.85625,     0.85632,      0.8564,       0.857,     0.85776,     0.85777,      0.8572,      0.8567,     0.85764,     0.85791,     0.85817,     0.85836,     0.85855,     0.85874,      0.8589,\n",
              "            0.85899,     0.85909,     0.85919,     0.85929,     0.85939,     0.85948,     0.85958,     0.85785,     0.85812,     0.85839,     0.85854,     0.85869,     0.85885,       0.859,     0.85901,     0.85851,     0.85805,     0.85771,     0.85737,     0.85739,     0.85791,     0.85799,     0.85807,\n",
              "            0.85815,     0.85823,      0.8583,     0.85838,     0.85846,     0.85854,     0.85862,     0.85943,     0.85949,     0.85956,     0.85963,     0.85969,     0.85976,     0.85982,     0.85989,     0.85995,     0.86002,     0.86008,     0.86018,     0.86033,     0.86049,     0.86064,     0.86079,\n",
              "            0.86125,     0.86202,     0.86209,     0.86158,     0.86184,     0.86336,     0.86318,     0.86284,      0.8625,     0.86167,     0.86149,      0.8616,     0.86171,     0.86182,     0.86193,     0.86204,     0.86215,     0.86287,     0.86268,     0.86242,     0.86216,     0.86193,     0.86232,\n",
              "            0.86345,     0.86361,     0.86376,     0.86392,     0.86407,     0.86428,     0.86467,     0.86503,     0.86529,     0.86555,     0.86598,      0.8664,     0.86614,     0.86589,     0.86563,     0.86602,     0.86551,     0.86516,     0.86499,     0.86482,     0.86465,     0.86447,      0.8643,\n",
              "            0.86357,     0.86405,     0.86412,     0.86419,     0.86426,     0.86433,     0.86441,     0.86448,     0.86455,     0.86462,     0.86469,     0.86476,     0.86444,      0.8641,     0.86376,     0.86364,     0.86353,     0.86341,      0.8633,     0.86318,     0.86306,     0.86295,     0.86283,\n",
              "            0.86293,     0.86245,     0.86224,     0.86203,     0.86182,     0.86161,     0.86129,     0.86076,     0.86035,     0.86009,     0.85983,     0.85957,     0.85926,     0.85891,     0.85856,     0.85677,     0.85662,     0.85701,     0.85697,      0.8567,     0.85644,     0.85618,     0.85571,\n",
              "            0.85518,     0.85495,     0.85479,     0.85463,     0.85446,      0.8543,     0.85414,     0.85492,     0.85512,     0.85531,     0.85551,     0.85682,     0.85721,     0.85732,     0.85744,     0.85755,     0.85767,     0.85778,     0.85789,     0.85771,     0.85745,     0.85718,     0.85692,\n",
              "            0.85679,     0.85668,     0.85656,     0.85645,     0.85634,     0.85623,     0.85612,       0.856,     0.85589,     0.85553,       0.855,     0.85308,     0.85258,     0.85237,     0.85216,     0.85194,     0.85173,     0.85149,     0.85126,     0.85102,     0.85078,     0.84952,     0.84934,\n",
              "            0.84916,     0.84898,      0.8488,     0.84862,     0.84689,     0.84654,     0.84671,     0.84689,     0.84707,     0.84717,     0.84695,     0.84674,     0.84652,      0.8463,     0.84628,     0.84667,     0.84568,     0.84513,     0.84552,     0.84605,     0.84594,     0.84578,     0.84562,\n",
              "            0.84547,     0.84531,     0.84516,     0.84477,     0.84361,     0.84306,      0.8442,     0.84318,     0.84291,     0.84263,     0.84236,     0.84215,     0.84197,     0.84179,      0.8416,     0.84142,     0.84124,     0.83911,     0.83917,     0.83928,     0.83939,     0.83949,      0.8396,\n",
              "            0.83971,     0.83981,     0.83805,     0.83747,     0.83715,     0.83684,     0.83681,     0.83614,     0.83558,     0.83574,     0.83301,     0.83245,     0.82918,     0.82804,      0.8255,     0.82493,     0.82505,     0.82534,     0.82518,     0.82501,     0.82485,     0.82469,     0.82452,\n",
              "            0.82436,     0.82391,     0.82334,     0.82285,     0.82239,     0.82193,     0.82147,     0.82101,     0.81954,     0.81921,     0.81888,     0.81861,      0.8184,     0.81819,     0.81798,     0.81777,     0.81754,     0.81721,     0.81688,     0.81655,     0.81509,     0.81393,     0.81286,\n",
              "            0.81208,     0.80951,     0.80937,     0.80923,     0.80909,     0.80896,     0.80882,     0.80868,     0.80854,     0.80606,     0.80582,     0.80559,     0.80535,     0.80511,     0.80454,     0.80383,     0.80356,      0.8033,     0.80304,     0.80277,     0.80119,     0.80072,     0.79615,\n",
              "            0.79473,     0.79067,     0.79027,     0.78987,      0.7869,     0.78629,      0.7873,     0.78757,     0.78659,     0.78578,     0.78472,      0.7835,     0.78278,     0.78237,     0.78196,     0.78009,      0.7796,      0.7791,     0.77867,     0.77826,     0.77784,     0.77614,     0.77564,\n",
              "            0.77484,     0.77436,     0.77419,     0.77391,     0.77363,     0.77335,      0.7713,     0.77106,     0.77016,     0.76902,     0.76859,     0.76817,     0.76766,     0.76681,     0.76557,      0.7654,     0.75962,      0.7593,     0.75898,     0.75865,     0.75675,     0.75646,     0.75617,\n",
              "            0.75588,     0.75558,     0.75472,     0.75385,     0.74911,      0.7478,     0.74372,     0.74222,     0.74004,     0.73915,     0.73622,     0.73588,     0.73555,     0.73521,     0.73277,     0.73048,      0.7298,     0.73072,     0.73098,     0.73124,     0.72847,      0.7282,     0.72793,\n",
              "            0.72765,     0.72738,     0.72295,     0.72135,     0.72013,      0.7156,      0.7147,     0.71401,     0.70901,     0.70783,     0.70713,     0.70543,     0.70594,     0.70646,     0.70247,     0.70034,     0.69938,     0.69897,     0.69857,      0.6939,     0.69095,     0.68939,     0.68881,\n",
              "            0.68811,     0.68673,     0.68576,     0.68341,     0.67902,      0.6781,     0.67736,     0.67593,     0.67273,     0.67051,     0.66902,     0.66458,     0.66354,     0.66311,     0.66268,     0.66222,     0.66064,     0.65696,     0.65094,     0.64971,     0.64861,     0.64529,     0.64207,\n",
              "            0.64256,     0.63696,     0.63463,      0.6341,     0.63358,     0.62829,     0.62455,     0.62038,     0.61493,     0.61261,     0.61153,     0.60883,     0.60662,     0.60339,         0.6,      0.5934,     0.58342,     0.57531,     0.57416,     0.56975,     0.56067,     0.55308,     0.55219,\n",
              "            0.55053,     0.54169,     0.53957,     0.53676,     0.53585,     0.53412,     0.53051,     0.52867,     0.52684,     0.51589,     0.50856,     0.50486,      0.5036,     0.49706,     0.49255,     0.48494,     0.47792,     0.47694,     0.47379,     0.47062,     0.46963,     0.46739,     0.46293,\n",
              "             0.4527,     0.45066,     0.43261,     0.42517,     0.42411,     0.41788,     0.41088,     0.40721,     0.39006,     0.38477,      0.3727,     0.37012,     0.35817,     0.35205,     0.33207,     0.33049,     0.32598,     0.31066,     0.30507,     0.29499,     0.29008,     0.27853,     0.27545,\n",
              "              0.269,     0.26276,      0.2576,     0.25588,     0.24482,     0.24307,     0.22393,     0.22092,     0.21515,     0.21008,      0.2038,      0.1964,     0.19118,     0.18978,     0.17493,     0.16931,     0.16118,     0.15926,      0.1538,      0.1521,     0.14271,      0.1413,     0.14011,\n",
              "            0.13071,     0.12192,     0.11891,     0.11263,     0.10539,    0.096954,     0.09419,    0.083991,    0.079543,     0.07744,    0.073039,    0.071981,    0.070922,    0.063972,     0.06237,    0.057418,    0.055266,    0.050529,    0.048351,    0.047421,     0.04649,    0.042311,    0.040126,\n",
              "           0.037936,    0.035808,    0.034159,    0.032227,     0.02944,    0.028836,    0.028233,    0.027629,    0.027025,     0.02642,    0.025213,     0.02388,    0.022414,    0.020743,    0.018823,    0.016586,     0.01571,    0.014869,    0.014027,   0.0099153,   0.0094319,   0.0089483,   0.0084644,\n",
              "          0.0079803,    0.007496,   0.0070114,           0,           0,           0,           0,           0,           0,           0,           0,           0,           0,           0,           0,           0,           0,           0,           0,           0,           0,           0,           0,\n",
              "                  0,           0,           0,           0,           0,           0,           0,           0,           0,           0,           0]]), 'Confidence', 'F1'], [array([          0,    0.001001,    0.002002,    0.003003,    0.004004,    0.005005,    0.006006,    0.007007,    0.008008,    0.009009,     0.01001,    0.011011,    0.012012,    0.013013,    0.014014,    0.015015,    0.016016,    0.017017,    0.018018,    0.019019,     0.02002,    0.021021,    0.022022,    0.023023,\n",
              "          0.024024,    0.025025,    0.026026,    0.027027,    0.028028,    0.029029,     0.03003,    0.031031,    0.032032,    0.033033,    0.034034,    0.035035,    0.036036,    0.037037,    0.038038,    0.039039,     0.04004,    0.041041,    0.042042,    0.043043,    0.044044,    0.045045,    0.046046,    0.047047,\n",
              "          0.048048,    0.049049,     0.05005,    0.051051,    0.052052,    0.053053,    0.054054,    0.055055,    0.056056,    0.057057,    0.058058,    0.059059,     0.06006,    0.061061,    0.062062,    0.063063,    0.064064,    0.065065,    0.066066,    0.067067,    0.068068,    0.069069,     0.07007,    0.071071,\n",
              "          0.072072,    0.073073,    0.074074,    0.075075,    0.076076,    0.077077,    0.078078,    0.079079,     0.08008,    0.081081,    0.082082,    0.083083,    0.084084,    0.085085,    0.086086,    0.087087,    0.088088,    0.089089,     0.09009,    0.091091,    0.092092,    0.093093,    0.094094,    0.095095,\n",
              "          0.096096,    0.097097,    0.098098,    0.099099,      0.1001,      0.1011,      0.1021,      0.1031,      0.1041,     0.10511,     0.10611,     0.10711,     0.10811,     0.10911,     0.11011,     0.11111,     0.11211,     0.11311,     0.11411,     0.11512,     0.11612,     0.11712,     0.11812,     0.11912,\n",
              "           0.12012,     0.12112,     0.12212,     0.12312,     0.12412,     0.12513,     0.12613,     0.12713,     0.12813,     0.12913,     0.13013,     0.13113,     0.13213,     0.13313,     0.13413,     0.13514,     0.13614,     0.13714,     0.13814,     0.13914,     0.14014,     0.14114,     0.14214,     0.14314,\n",
              "           0.14414,     0.14515,     0.14615,     0.14715,     0.14815,     0.14915,     0.15015,     0.15115,     0.15215,     0.15315,     0.15415,     0.15516,     0.15616,     0.15716,     0.15816,     0.15916,     0.16016,     0.16116,     0.16216,     0.16316,     0.16416,     0.16517,     0.16617,     0.16717,\n",
              "           0.16817,     0.16917,     0.17017,     0.17117,     0.17217,     0.17317,     0.17417,     0.17518,     0.17618,     0.17718,     0.17818,     0.17918,     0.18018,     0.18118,     0.18218,     0.18318,     0.18418,     0.18519,     0.18619,     0.18719,     0.18819,     0.18919,     0.19019,     0.19119,\n",
              "           0.19219,     0.19319,     0.19419,      0.1952,      0.1962,      0.1972,      0.1982,      0.1992,      0.2002,      0.2012,      0.2022,      0.2032,      0.2042,     0.20521,     0.20621,     0.20721,     0.20821,     0.20921,     0.21021,     0.21121,     0.21221,     0.21321,     0.21421,     0.21522,\n",
              "           0.21622,     0.21722,     0.21822,     0.21922,     0.22022,     0.22122,     0.22222,     0.22322,     0.22422,     0.22523,     0.22623,     0.22723,     0.22823,     0.22923,     0.23023,     0.23123,     0.23223,     0.23323,     0.23423,     0.23524,     0.23624,     0.23724,     0.23824,     0.23924,\n",
              "           0.24024,     0.24124,     0.24224,     0.24324,     0.24424,     0.24525,     0.24625,     0.24725,     0.24825,     0.24925,     0.25025,     0.25125,     0.25225,     0.25325,     0.25425,     0.25526,     0.25626,     0.25726,     0.25826,     0.25926,     0.26026,     0.26126,     0.26226,     0.26326,\n",
              "           0.26426,     0.26527,     0.26627,     0.26727,     0.26827,     0.26927,     0.27027,     0.27127,     0.27227,     0.27327,     0.27427,     0.27528,     0.27628,     0.27728,     0.27828,     0.27928,     0.28028,     0.28128,     0.28228,     0.28328,     0.28428,     0.28529,     0.28629,     0.28729,\n",
              "           0.28829,     0.28929,     0.29029,     0.29129,     0.29229,     0.29329,     0.29429,      0.2953,      0.2963,      0.2973,      0.2983,      0.2993,      0.3003,      0.3013,      0.3023,      0.3033,      0.3043,     0.30531,     0.30631,     0.30731,     0.30831,     0.30931,     0.31031,     0.31131,\n",
              "           0.31231,     0.31331,     0.31431,     0.31532,     0.31632,     0.31732,     0.31832,     0.31932,     0.32032,     0.32132,     0.32232,     0.32332,     0.32432,     0.32533,     0.32633,     0.32733,     0.32833,     0.32933,     0.33033,     0.33133,     0.33233,     0.33333,     0.33433,     0.33534,\n",
              "           0.33634,     0.33734,     0.33834,     0.33934,     0.34034,     0.34134,     0.34234,     0.34334,     0.34434,     0.34535,     0.34635,     0.34735,     0.34835,     0.34935,     0.35035,     0.35135,     0.35235,     0.35335,     0.35435,     0.35536,     0.35636,     0.35736,     0.35836,     0.35936,\n",
              "           0.36036,     0.36136,     0.36236,     0.36336,     0.36436,     0.36537,     0.36637,     0.36737,     0.36837,     0.36937,     0.37037,     0.37137,     0.37237,     0.37337,     0.37437,     0.37538,     0.37638,     0.37738,     0.37838,     0.37938,     0.38038,     0.38138,     0.38238,     0.38338,\n",
              "           0.38438,     0.38539,     0.38639,     0.38739,     0.38839,     0.38939,     0.39039,     0.39139,     0.39239,     0.39339,     0.39439,      0.3954,      0.3964,      0.3974,      0.3984,      0.3994,      0.4004,      0.4014,      0.4024,      0.4034,      0.4044,     0.40541,     0.40641,     0.40741,\n",
              "           0.40841,     0.40941,     0.41041,     0.41141,     0.41241,     0.41341,     0.41441,     0.41542,     0.41642,     0.41742,     0.41842,     0.41942,     0.42042,     0.42142,     0.42242,     0.42342,     0.42442,     0.42543,     0.42643,     0.42743,     0.42843,     0.42943,     0.43043,     0.43143,\n",
              "           0.43243,     0.43343,     0.43443,     0.43544,     0.43644,     0.43744,     0.43844,     0.43944,     0.44044,     0.44144,     0.44244,     0.44344,     0.44444,     0.44545,     0.44645,     0.44745,     0.44845,     0.44945,     0.45045,     0.45145,     0.45245,     0.45345,     0.45445,     0.45546,\n",
              "           0.45646,     0.45746,     0.45846,     0.45946,     0.46046,     0.46146,     0.46246,     0.46346,     0.46446,     0.46547,     0.46647,     0.46747,     0.46847,     0.46947,     0.47047,     0.47147,     0.47247,     0.47347,     0.47447,     0.47548,     0.47648,     0.47748,     0.47848,     0.47948,\n",
              "           0.48048,     0.48148,     0.48248,     0.48348,     0.48448,     0.48549,     0.48649,     0.48749,     0.48849,     0.48949,     0.49049,     0.49149,     0.49249,     0.49349,     0.49449,      0.4955,      0.4965,      0.4975,      0.4985,      0.4995,      0.5005,      0.5015,      0.5025,      0.5035,\n",
              "            0.5045,     0.50551,     0.50651,     0.50751,     0.50851,     0.50951,     0.51051,     0.51151,     0.51251,     0.51351,     0.51451,     0.51552,     0.51652,     0.51752,     0.51852,     0.51952,     0.52052,     0.52152,     0.52252,     0.52352,     0.52452,     0.52553,     0.52653,     0.52753,\n",
              "           0.52853,     0.52953,     0.53053,     0.53153,     0.53253,     0.53353,     0.53453,     0.53554,     0.53654,     0.53754,     0.53854,     0.53954,     0.54054,     0.54154,     0.54254,     0.54354,     0.54454,     0.54555,     0.54655,     0.54755,     0.54855,     0.54955,     0.55055,     0.55155,\n",
              "           0.55255,     0.55355,     0.55455,     0.55556,     0.55656,     0.55756,     0.55856,     0.55956,     0.56056,     0.56156,     0.56256,     0.56356,     0.56456,     0.56557,     0.56657,     0.56757,     0.56857,     0.56957,     0.57057,     0.57157,     0.57257,     0.57357,     0.57457,     0.57558,\n",
              "           0.57658,     0.57758,     0.57858,     0.57958,     0.58058,     0.58158,     0.58258,     0.58358,     0.58458,     0.58559,     0.58659,     0.58759,     0.58859,     0.58959,     0.59059,     0.59159,     0.59259,     0.59359,     0.59459,      0.5956,      0.5966,      0.5976,      0.5986,      0.5996,\n",
              "            0.6006,      0.6016,      0.6026,      0.6036,      0.6046,     0.60561,     0.60661,     0.60761,     0.60861,     0.60961,     0.61061,     0.61161,     0.61261,     0.61361,     0.61461,     0.61562,     0.61662,     0.61762,     0.61862,     0.61962,     0.62062,     0.62162,     0.62262,     0.62362,\n",
              "           0.62462,     0.62563,     0.62663,     0.62763,     0.62863,     0.62963,     0.63063,     0.63163,     0.63263,     0.63363,     0.63463,     0.63564,     0.63664,     0.63764,     0.63864,     0.63964,     0.64064,     0.64164,     0.64264,     0.64364,     0.64464,     0.64565,     0.64665,     0.64765,\n",
              "           0.64865,     0.64965,     0.65065,     0.65165,     0.65265,     0.65365,     0.65465,     0.65566,     0.65666,     0.65766,     0.65866,     0.65966,     0.66066,     0.66166,     0.66266,     0.66366,     0.66466,     0.66567,     0.66667,     0.66767,     0.66867,     0.66967,     0.67067,     0.67167,\n",
              "           0.67267,     0.67367,     0.67467,     0.67568,     0.67668,     0.67768,     0.67868,     0.67968,     0.68068,     0.68168,     0.68268,     0.68368,     0.68468,     0.68569,     0.68669,     0.68769,     0.68869,     0.68969,     0.69069,     0.69169,     0.69269,     0.69369,     0.69469,      0.6957,\n",
              "            0.6967,      0.6977,      0.6987,      0.6997,      0.7007,      0.7017,      0.7027,      0.7037,      0.7047,     0.70571,     0.70671,     0.70771,     0.70871,     0.70971,     0.71071,     0.71171,     0.71271,     0.71371,     0.71471,     0.71572,     0.71672,     0.71772,     0.71872,     0.71972,\n",
              "           0.72072,     0.72172,     0.72272,     0.72372,     0.72472,     0.72573,     0.72673,     0.72773,     0.72873,     0.72973,     0.73073,     0.73173,     0.73273,     0.73373,     0.73473,     0.73574,     0.73674,     0.73774,     0.73874,     0.73974,     0.74074,     0.74174,     0.74274,     0.74374,\n",
              "           0.74474,     0.74575,     0.74675,     0.74775,     0.74875,     0.74975,     0.75075,     0.75175,     0.75275,     0.75375,     0.75475,     0.75576,     0.75676,     0.75776,     0.75876,     0.75976,     0.76076,     0.76176,     0.76276,     0.76376,     0.76476,     0.76577,     0.76677,     0.76777,\n",
              "           0.76877,     0.76977,     0.77077,     0.77177,     0.77277,     0.77377,     0.77477,     0.77578,     0.77678,     0.77778,     0.77878,     0.77978,     0.78078,     0.78178,     0.78278,     0.78378,     0.78478,     0.78579,     0.78679,     0.78779,     0.78879,     0.78979,     0.79079,     0.79179,\n",
              "           0.79279,     0.79379,     0.79479,      0.7958,      0.7968,      0.7978,      0.7988,      0.7998,      0.8008,      0.8018,      0.8028,      0.8038,      0.8048,     0.80581,     0.80681,     0.80781,     0.80881,     0.80981,     0.81081,     0.81181,     0.81281,     0.81381,     0.81481,     0.81582,\n",
              "           0.81682,     0.81782,     0.81882,     0.81982,     0.82082,     0.82182,     0.82282,     0.82382,     0.82482,     0.82583,     0.82683,     0.82783,     0.82883,     0.82983,     0.83083,     0.83183,     0.83283,     0.83383,     0.83483,     0.83584,     0.83684,     0.83784,     0.83884,     0.83984,\n",
              "           0.84084,     0.84184,     0.84284,     0.84384,     0.84484,     0.84585,     0.84685,     0.84785,     0.84885,     0.84985,     0.85085,     0.85185,     0.85285,     0.85385,     0.85485,     0.85586,     0.85686,     0.85786,     0.85886,     0.85986,     0.86086,     0.86186,     0.86286,     0.86386,\n",
              "           0.86486,     0.86587,     0.86687,     0.86787,     0.86887,     0.86987,     0.87087,     0.87187,     0.87287,     0.87387,     0.87487,     0.87588,     0.87688,     0.87788,     0.87888,     0.87988,     0.88088,     0.88188,     0.88288,     0.88388,     0.88488,     0.88589,     0.88689,     0.88789,\n",
              "           0.88889,     0.88989,     0.89089,     0.89189,     0.89289,     0.89389,     0.89489,      0.8959,      0.8969,      0.8979,      0.8989,      0.8999,      0.9009,      0.9019,      0.9029,      0.9039,      0.9049,     0.90591,     0.90691,     0.90791,     0.90891,     0.90991,     0.91091,     0.91191,\n",
              "           0.91291,     0.91391,     0.91491,     0.91592,     0.91692,     0.91792,     0.91892,     0.91992,     0.92092,     0.92192,     0.92292,     0.92392,     0.92492,     0.92593,     0.92693,     0.92793,     0.92893,     0.92993,     0.93093,     0.93193,     0.93293,     0.93393,     0.93493,     0.93594,\n",
              "           0.93694,     0.93794,     0.93894,     0.93994,     0.94094,     0.94194,     0.94294,     0.94394,     0.94494,     0.94595,     0.94695,     0.94795,     0.94895,     0.94995,     0.95095,     0.95195,     0.95295,     0.95395,     0.95495,     0.95596,     0.95696,     0.95796,     0.95896,     0.95996,\n",
              "           0.96096,     0.96196,     0.96296,     0.96396,     0.96496,     0.96597,     0.96697,     0.96797,     0.96897,     0.96997,     0.97097,     0.97197,     0.97297,     0.97397,     0.97497,     0.97598,     0.97698,     0.97798,     0.97898,     0.97998,     0.98098,     0.98198,     0.98298,     0.98398,\n",
              "           0.98498,     0.98599,     0.98699,     0.98799,     0.98899,     0.98999,     0.99099,     0.99199,     0.99299,     0.99399,     0.99499,       0.996,       0.997,       0.998,       0.999,           1]), array([[   0.074438,    0.074438,     0.13042,      0.1776,     0.21685,     0.24884,     0.27736,     0.30258,     0.32343,     0.34283,      0.3571,     0.36841,     0.38014,     0.39355,     0.40752,      0.4175,     0.42672,     0.43521,     0.44462,     0.45224,     0.45759,     0.46386,     0.47201,\n",
              "             0.4801,     0.48782,     0.49543,     0.50417,      0.5101,     0.51395,     0.51895,     0.52435,     0.53046,     0.53696,     0.54504,      0.5514,     0.55691,     0.56096,     0.56636,     0.57252,     0.57467,     0.57518,     0.57594,     0.57715,     0.57982,     0.58337,     0.58363,\n",
              "            0.58452,     0.58665,     0.59006,     0.59374,     0.59847,     0.60118,     0.60465,     0.60752,     0.61013,     0.61368,     0.61495,     0.61868,     0.62196,     0.62698,     0.62971,     0.63303,     0.63432,     0.63518,     0.63557,     0.63607,     0.63794,     0.63838,     0.63898,\n",
              "            0.63988,     0.64236,     0.64349,     0.64509,     0.64826,      0.6496,     0.65093,     0.65209,      0.6528,     0.65547,     0.65586,     0.65705,     0.66033,     0.66138,     0.66312,     0.66604,     0.66858,     0.66924,     0.67191,     0.67252,     0.67296,     0.67411,     0.67585,\n",
              "            0.67868,      0.6792,     0.67983,     0.68038,     0.68094,     0.68207,     0.68343,     0.68444,     0.68586,     0.68723,     0.68881,     0.69017,     0.69284,     0.69335,     0.69434,     0.69474,      0.6965,     0.69721,     0.69789,     0.69857,     0.69899,      0.6993,     0.70047,\n",
              "            0.70318,     0.70418,     0.70502,     0.70735,     0.70838,     0.71287,     0.71361,     0.71479,     0.71509,     0.71538,     0.71573,     0.71621,     0.71625,     0.71826,     0.71851,     0.71876,     0.71902,     0.71931,     0.72026,     0.72207,     0.72376,     0.72449,      0.7255,\n",
              "            0.72647,     0.72673,     0.72699,     0.72724,     0.72922,     0.73424,       0.735,     0.73542,     0.73994,     0.74046,      0.7429,     0.74608,     0.74651,     0.74823,     0.74939,     0.75017,     0.75443,     0.75559,      0.7561,     0.75768,      0.7582,     0.76058,      0.7602,\n",
              "            0.76011,     0.76002,     0.76113,     0.76165,     0.76233,     0.76309,     0.76287,     0.76459,     0.76539,     0.76639,     0.76751,     0.77169,     0.77202,     0.77235,     0.77267,     0.77399,     0.77411,     0.77423,     0.77435,     0.77448,      0.7746,     0.77472,     0.77484,\n",
              "            0.77496,     0.77589,     0.77706,     0.77891,     0.77878,     0.77864,     0.78004,     0.78053,     0.78144,     0.78442,     0.78537,     0.78916,     0.78981,     0.79217,     0.79391,     0.79415,     0.79439,     0.79463,     0.79486,     0.79563,     0.79656,     0.79985,     0.80047,\n",
              "            0.80076,     0.80045,     0.80047,     0.80094,     0.80141,       0.802,     0.80263,     0.80311,     0.80357,      0.8037,     0.80401,     0.80433,     0.80464,     0.80492,     0.80507,     0.80522,     0.80537,     0.80552,     0.80567,     0.80582,     0.80597,      0.8061,     0.80605,\n",
              "              0.806,     0.80594,     0.80589,     0.80584,     0.80662,     0.80699,     0.80735,     0.80772,     0.80814,     0.80857,     0.81156,     0.81249,     0.81314,     0.81372,     0.81497,     0.81779,     0.81804,     0.81829,     0.81854,     0.81879,     0.81904,     0.81947,     0.81991,\n",
              "            0.82002,     0.81982,     0.82099,     0.82091,     0.82083,     0.82076,     0.82262,      0.8226,     0.82385,     0.82511,     0.82492,     0.82482,      0.8248,     0.82477,     0.82474,     0.82471,     0.82468,     0.82466,     0.82463,      0.8246,     0.82457,     0.82509,     0.82611,\n",
              "            0.82705,      0.8272,     0.82762,     0.82804,     0.82915,     0.82979,     0.83006,     0.83034,     0.83061,     0.83089,     0.83524,     0.83664,     0.83744,     0.83784,     0.83808,     0.83832,     0.83856,     0.83881,     0.83906,     0.83939,     0.83972,     0.84005,     0.84038,\n",
              "            0.84033,     0.84027,     0.84021,     0.84014,     0.84048,     0.84092,     0.84135,     0.84145,     0.84138,      0.8413,      0.8409,     0.84112,     0.84193,     0.84636,     0.84768,     0.84764,     0.84759,     0.84755,     0.84751,     0.84746,     0.84776,     0.84875,     0.84854,\n",
              "            0.84844,     0.84835,     0.84802,     0.84794,     0.84787,     0.85079,     0.85107,     0.85135,     0.85163,     0.85191,     0.85159,     0.85154,     0.85149,     0.85144,     0.85139,     0.85133,     0.85124,     0.85115,     0.85152,     0.85236,     0.85536,     0.85557,     0.85577,\n",
              "            0.85598,     0.85618,     0.85639,      0.8566,     0.85773,     0.86107,     0.86139,      0.8617,     0.86202,     0.86234,     0.86419,     0.86463,     0.86506,      0.8655,     0.86775,     0.86851,     0.86865,     0.86879,     0.86893,     0.86907,     0.86921,     0.86935,      0.8695,\n",
              "            0.86964,     0.86978,     0.86992,     0.87157,     0.87174,      0.8719,     0.87206,     0.87223,     0.87239,     0.87255,     0.87272,     0.87288,     0.87305,     0.87346,     0.87388,     0.87429,     0.87455,     0.87452,     0.87448,     0.87445,     0.87441,     0.87438,     0.87436,\n",
              "            0.87741,     0.87756,     0.87771,     0.87786,     0.87801,     0.87816,     0.87831,     0.87847,     0.87862,     0.87877,     0.87892,      0.8802,     0.88179,     0.88342,      0.8833,      0.8832,     0.88529,     0.88587,     0.88642,     0.88682,     0.88722,     0.88763,     0.88797,\n",
              "            0.88818,     0.88839,      0.8886,     0.88881,     0.88902,     0.88922,     0.88943,     0.88954,     0.89014,     0.89071,     0.89104,     0.89136,     0.89169,     0.89202,     0.89226,     0.89216,     0.89207,       0.892,     0.89194,     0.89243,     0.89356,     0.89373,      0.8939,\n",
              "            0.89407,     0.89424,     0.89441,     0.89458,     0.89475,     0.89492,     0.89509,     0.89686,       0.897,     0.89714,     0.89728,     0.89743,     0.89757,     0.89771,     0.89785,     0.89799,     0.89814,     0.89828,     0.89849,     0.89883,     0.89916,      0.8995,     0.89983,\n",
              "            0.90084,     0.90252,     0.90324,     0.90314,     0.90412,     0.90748,     0.90956,      0.9095,     0.90944,      0.9093,     0.90944,     0.90969,     0.90994,     0.91018,     0.91043,     0.91068,     0.91092,     0.91253,      0.9126,     0.91256,     0.91252,     0.91251,     0.91338,\n",
              "            0.91592,     0.91627,     0.91662,     0.91697,     0.91732,     0.91779,     0.91867,     0.91948,     0.92007,     0.92066,     0.92164,     0.92277,     0.92274,      0.9227,     0.92266,     0.92435,     0.92428,     0.92423,     0.92421,     0.92418,     0.92416,     0.92413,     0.92411,\n",
              "              0.924,     0.92582,     0.92599,     0.92615,     0.92632,     0.92648,     0.92665,     0.92681,     0.92698,     0.92714,     0.92731,     0.92747,     0.92744,     0.92739,     0.92734,     0.92733,     0.92731,     0.92729,     0.92728,     0.92726,     0.92725,     0.92723,     0.92722,\n",
              "            0.92763,     0.92884,     0.92881,     0.92878,     0.92875,     0.92873,     0.92868,     0.92861,     0.92856,     0.92852,     0.92849,     0.92845,     0.92841,     0.92836,     0.92831,     0.92807,     0.92859,     0.92952,      0.9298,     0.92977,     0.92973,      0.9297,     0.92963,\n",
              "            0.92956,     0.92953,     0.92951,     0.92949,     0.92947,     0.92944,     0.92942,     0.93146,     0.93193,      0.9324,     0.93287,       0.936,     0.93692,     0.93719,     0.93746,     0.93774,     0.93801,     0.93828,     0.93855,     0.93859,     0.93856,     0.93853,      0.9385,\n",
              "            0.93848,     0.93847,     0.93845,     0.93844,     0.93843,     0.93841,      0.9384,     0.93839,     0.93838,     0.93833,     0.93827,     0.93804,     0.93798,     0.93796,     0.93793,     0.93791,     0.93788,     0.93785,     0.93782,      0.9378,     0.93777,     0.93762,      0.9376,\n",
              "            0.93757,     0.93755,     0.93753,     0.93751,      0.9373,      0.9375,     0.93793,     0.93836,      0.9388,     0.93914,     0.93912,     0.93909,     0.93907,     0.93904,     0.93933,     0.94031,     0.94079,     0.94073,     0.94498,     0.94631,     0.94638,     0.94636,     0.94634,\n",
              "            0.94633,     0.94631,      0.9463,     0.94626,     0.94613,     0.94608,     0.94939,     0.94988,     0.94985,     0.94982,      0.9498,     0.94978,     0.94976,     0.94974,     0.94972,      0.9497,     0.94969,     0.94948,     0.94974,     0.95001,     0.95029,     0.95056,     0.95083,\n",
              "            0.95111,     0.95138,     0.95131,     0.95125,     0.95122,     0.95119,     0.95171,     0.95308,     0.95303,     0.95438,     0.95676,     0.95672,     0.95643,     0.95634,     0.95612,     0.95607,     0.95713,     0.95814,     0.95813,     0.95812,      0.9581,     0.95809,     0.95807,\n",
              "            0.95806,     0.95802,     0.95798,     0.95794,      0.9579,     0.95786,     0.95782,     0.95778,     0.95766,     0.95763,      0.9576,     0.95758,     0.95756,     0.95755,     0.95753,     0.95751,     0.95749,     0.95746,     0.95744,     0.95741,     0.95728,     0.95719,     0.95709,\n",
              "            0.95703,     0.95681,      0.9568,     0.95679,     0.95677,     0.95676,     0.95675,     0.95674,     0.95673,     0.95651,     0.95649,     0.95647,     0.95645,     0.95643,     0.95638,     0.95632,      0.9563,     0.95627,     0.95625,     0.95623,     0.95609,     0.95605,     0.95565,\n",
              "            0.95552,     0.95516,     0.95512,     0.95509,     0.95482,     0.95476,      0.9578,     0.95858,     0.95923,     0.95916,     0.95908,     0.95897,     0.95892,     0.95888,     0.95885,     0.96097,     0.96093,     0.96089,     0.96085,     0.96082,     0.96079,     0.96065,     0.96061,\n",
              "            0.96055,      0.9649,     0.96516,     0.96514,     0.96512,      0.9651,     0.96495,      0.9673,     0.96724,     0.96717,     0.96714,     0.96711,     0.96708,     0.96702,     0.96758,     0.96934,     0.96898,     0.96896,     0.96893,     0.96891,     0.97127,     0.97126,     0.97124,\n",
              "            0.97122,      0.9712,     0.97115,      0.9711,     0.97081,     0.97074,     0.97049,     0.97039,     0.97026,      0.9702,     0.97002,        0.97,     0.96998,     0.96996,     0.96981,     0.96966,     0.96962,     0.97313,     0.97405,     0.97497,     0.97485,     0.97484,     0.97482,\n",
              "            0.97481,      0.9748,     0.97456,     0.97447,     0.97441,     0.97416,     0.97411,     0.97407,      0.9738,     0.97373,     0.97369,     0.97803,     0.98001,     0.98199,     0.98204,     0.98196,     0.98192,      0.9819,     0.98189,      0.9817,     0.98159,     0.98152,      0.9815,\n",
              "            0.98147,     0.98142,     0.98138,     0.98128,      0.9811,     0.98106,     0.98103,     0.98097,     0.98084,     0.98075,     0.98068,     0.98049,     0.98045,     0.98043,     0.98041,     0.98039,     0.98032,     0.98016,     0.97989,     0.97984,     0.97979,     0.97964,     0.98326,\n",
              "            0.98558,     0.98603,     0.98595,     0.98594,     0.98592,     0.98575,     0.98562,     0.98549,      0.9853,     0.98522,     0.98519,     0.98509,     0.98502,      0.9849,     0.98478,     0.98454,     0.98417,     0.98386,     0.98382,     0.98365,     0.98328,     0.98297,     0.98293,\n",
              "            0.98286,     0.98248,     0.98239,     0.98227,     0.98223,     0.98215,     0.98199,      0.9819,     0.98182,      0.9813,     0.98095,     0.98076,      0.9807,     0.98037,     0.98013,     0.97973,     0.97934,     0.97929,     0.97911,     0.97893,     0.97888,     0.98209,     0.98909,\n",
              "            0.98877,     0.98871,     0.98811,     0.98784,     0.98781,     0.98758,     0.98731,     0.98717,     0.98647,     0.98624,      0.9857,     0.98558,       0.985,     0.98469,     0.98359,     0.98349,     0.98323,     0.98225,     0.98188,     0.98116,     0.98079,     0.97988,     0.97962,\n",
              "            0.97907,     0.97851,     0.97802,     0.97786,     0.97674,     0.97655,     0.97433,     0.97394,     0.97318,     0.97247,     0.97155,     0.97039,     0.96952,     0.96928,      0.9665,     0.96532,     0.96348,     0.96302,       0.996,           1,           1,           1,           1,\n",
              "                  1,           1,           1,           1,           1,           1,           1,           1,           1,           1,           1,           1,           1,           1,           1,           1,           1,           1,           1,           1,           1,           1,           1,\n",
              "                  1,           1,           1,           1,           1,           1,           1,           1,           1,           1,           1,           1,           1,           1,           1,           1,           1,           1,           1,           1,           1,           1,           1,\n",
              "                  1,           1,           1,           1,           1,           1,           1,           1,           1,           1,           1,           1,           1,           1,           1,           1,           1,           1,           1,           1,           1,           1,           1,\n",
              "                  1,           1,           1,           1,           1,           1,           1,           1,           1,           1,           1]]), 'Confidence', 'Precision'], [array([          0,    0.001001,    0.002002,    0.003003,    0.004004,    0.005005,    0.006006,    0.007007,    0.008008,    0.009009,     0.01001,    0.011011,    0.012012,    0.013013,    0.014014,    0.015015,    0.016016,    0.017017,    0.018018,    0.019019,     0.02002,    0.021021,    0.022022,    0.023023,\n",
              "          0.024024,    0.025025,    0.026026,    0.027027,    0.028028,    0.029029,     0.03003,    0.031031,    0.032032,    0.033033,    0.034034,    0.035035,    0.036036,    0.037037,    0.038038,    0.039039,     0.04004,    0.041041,    0.042042,    0.043043,    0.044044,    0.045045,    0.046046,    0.047047,\n",
              "          0.048048,    0.049049,     0.05005,    0.051051,    0.052052,    0.053053,    0.054054,    0.055055,    0.056056,    0.057057,    0.058058,    0.059059,     0.06006,    0.061061,    0.062062,    0.063063,    0.064064,    0.065065,    0.066066,    0.067067,    0.068068,    0.069069,     0.07007,    0.071071,\n",
              "          0.072072,    0.073073,    0.074074,    0.075075,    0.076076,    0.077077,    0.078078,    0.079079,     0.08008,    0.081081,    0.082082,    0.083083,    0.084084,    0.085085,    0.086086,    0.087087,    0.088088,    0.089089,     0.09009,    0.091091,    0.092092,    0.093093,    0.094094,    0.095095,\n",
              "          0.096096,    0.097097,    0.098098,    0.099099,      0.1001,      0.1011,      0.1021,      0.1031,      0.1041,     0.10511,     0.10611,     0.10711,     0.10811,     0.10911,     0.11011,     0.11111,     0.11211,     0.11311,     0.11411,     0.11512,     0.11612,     0.11712,     0.11812,     0.11912,\n",
              "           0.12012,     0.12112,     0.12212,     0.12312,     0.12412,     0.12513,     0.12613,     0.12713,     0.12813,     0.12913,     0.13013,     0.13113,     0.13213,     0.13313,     0.13413,     0.13514,     0.13614,     0.13714,     0.13814,     0.13914,     0.14014,     0.14114,     0.14214,     0.14314,\n",
              "           0.14414,     0.14515,     0.14615,     0.14715,     0.14815,     0.14915,     0.15015,     0.15115,     0.15215,     0.15315,     0.15415,     0.15516,     0.15616,     0.15716,     0.15816,     0.15916,     0.16016,     0.16116,     0.16216,     0.16316,     0.16416,     0.16517,     0.16617,     0.16717,\n",
              "           0.16817,     0.16917,     0.17017,     0.17117,     0.17217,     0.17317,     0.17417,     0.17518,     0.17618,     0.17718,     0.17818,     0.17918,     0.18018,     0.18118,     0.18218,     0.18318,     0.18418,     0.18519,     0.18619,     0.18719,     0.18819,     0.18919,     0.19019,     0.19119,\n",
              "           0.19219,     0.19319,     0.19419,      0.1952,      0.1962,      0.1972,      0.1982,      0.1992,      0.2002,      0.2012,      0.2022,      0.2032,      0.2042,     0.20521,     0.20621,     0.20721,     0.20821,     0.20921,     0.21021,     0.21121,     0.21221,     0.21321,     0.21421,     0.21522,\n",
              "           0.21622,     0.21722,     0.21822,     0.21922,     0.22022,     0.22122,     0.22222,     0.22322,     0.22422,     0.22523,     0.22623,     0.22723,     0.22823,     0.22923,     0.23023,     0.23123,     0.23223,     0.23323,     0.23423,     0.23524,     0.23624,     0.23724,     0.23824,     0.23924,\n",
              "           0.24024,     0.24124,     0.24224,     0.24324,     0.24424,     0.24525,     0.24625,     0.24725,     0.24825,     0.24925,     0.25025,     0.25125,     0.25225,     0.25325,     0.25425,     0.25526,     0.25626,     0.25726,     0.25826,     0.25926,     0.26026,     0.26126,     0.26226,     0.26326,\n",
              "           0.26426,     0.26527,     0.26627,     0.26727,     0.26827,     0.26927,     0.27027,     0.27127,     0.27227,     0.27327,     0.27427,     0.27528,     0.27628,     0.27728,     0.27828,     0.27928,     0.28028,     0.28128,     0.28228,     0.28328,     0.28428,     0.28529,     0.28629,     0.28729,\n",
              "           0.28829,     0.28929,     0.29029,     0.29129,     0.29229,     0.29329,     0.29429,      0.2953,      0.2963,      0.2973,      0.2983,      0.2993,      0.3003,      0.3013,      0.3023,      0.3033,      0.3043,     0.30531,     0.30631,     0.30731,     0.30831,     0.30931,     0.31031,     0.31131,\n",
              "           0.31231,     0.31331,     0.31431,     0.31532,     0.31632,     0.31732,     0.31832,     0.31932,     0.32032,     0.32132,     0.32232,     0.32332,     0.32432,     0.32533,     0.32633,     0.32733,     0.32833,     0.32933,     0.33033,     0.33133,     0.33233,     0.33333,     0.33433,     0.33534,\n",
              "           0.33634,     0.33734,     0.33834,     0.33934,     0.34034,     0.34134,     0.34234,     0.34334,     0.34434,     0.34535,     0.34635,     0.34735,     0.34835,     0.34935,     0.35035,     0.35135,     0.35235,     0.35335,     0.35435,     0.35536,     0.35636,     0.35736,     0.35836,     0.35936,\n",
              "           0.36036,     0.36136,     0.36236,     0.36336,     0.36436,     0.36537,     0.36637,     0.36737,     0.36837,     0.36937,     0.37037,     0.37137,     0.37237,     0.37337,     0.37437,     0.37538,     0.37638,     0.37738,     0.37838,     0.37938,     0.38038,     0.38138,     0.38238,     0.38338,\n",
              "           0.38438,     0.38539,     0.38639,     0.38739,     0.38839,     0.38939,     0.39039,     0.39139,     0.39239,     0.39339,     0.39439,      0.3954,      0.3964,      0.3974,      0.3984,      0.3994,      0.4004,      0.4014,      0.4024,      0.4034,      0.4044,     0.40541,     0.40641,     0.40741,\n",
              "           0.40841,     0.40941,     0.41041,     0.41141,     0.41241,     0.41341,     0.41441,     0.41542,     0.41642,     0.41742,     0.41842,     0.41942,     0.42042,     0.42142,     0.42242,     0.42342,     0.42442,     0.42543,     0.42643,     0.42743,     0.42843,     0.42943,     0.43043,     0.43143,\n",
              "           0.43243,     0.43343,     0.43443,     0.43544,     0.43644,     0.43744,     0.43844,     0.43944,     0.44044,     0.44144,     0.44244,     0.44344,     0.44444,     0.44545,     0.44645,     0.44745,     0.44845,     0.44945,     0.45045,     0.45145,     0.45245,     0.45345,     0.45445,     0.45546,\n",
              "           0.45646,     0.45746,     0.45846,     0.45946,     0.46046,     0.46146,     0.46246,     0.46346,     0.46446,     0.46547,     0.46647,     0.46747,     0.46847,     0.46947,     0.47047,     0.47147,     0.47247,     0.47347,     0.47447,     0.47548,     0.47648,     0.47748,     0.47848,     0.47948,\n",
              "           0.48048,     0.48148,     0.48248,     0.48348,     0.48448,     0.48549,     0.48649,     0.48749,     0.48849,     0.48949,     0.49049,     0.49149,     0.49249,     0.49349,     0.49449,      0.4955,      0.4965,      0.4975,      0.4985,      0.4995,      0.5005,      0.5015,      0.5025,      0.5035,\n",
              "            0.5045,     0.50551,     0.50651,     0.50751,     0.50851,     0.50951,     0.51051,     0.51151,     0.51251,     0.51351,     0.51451,     0.51552,     0.51652,     0.51752,     0.51852,     0.51952,     0.52052,     0.52152,     0.52252,     0.52352,     0.52452,     0.52553,     0.52653,     0.52753,\n",
              "           0.52853,     0.52953,     0.53053,     0.53153,     0.53253,     0.53353,     0.53453,     0.53554,     0.53654,     0.53754,     0.53854,     0.53954,     0.54054,     0.54154,     0.54254,     0.54354,     0.54454,     0.54555,     0.54655,     0.54755,     0.54855,     0.54955,     0.55055,     0.55155,\n",
              "           0.55255,     0.55355,     0.55455,     0.55556,     0.55656,     0.55756,     0.55856,     0.55956,     0.56056,     0.56156,     0.56256,     0.56356,     0.56456,     0.56557,     0.56657,     0.56757,     0.56857,     0.56957,     0.57057,     0.57157,     0.57257,     0.57357,     0.57457,     0.57558,\n",
              "           0.57658,     0.57758,     0.57858,     0.57958,     0.58058,     0.58158,     0.58258,     0.58358,     0.58458,     0.58559,     0.58659,     0.58759,     0.58859,     0.58959,     0.59059,     0.59159,     0.59259,     0.59359,     0.59459,      0.5956,      0.5966,      0.5976,      0.5986,      0.5996,\n",
              "            0.6006,      0.6016,      0.6026,      0.6036,      0.6046,     0.60561,     0.60661,     0.60761,     0.60861,     0.60961,     0.61061,     0.61161,     0.61261,     0.61361,     0.61461,     0.61562,     0.61662,     0.61762,     0.61862,     0.61962,     0.62062,     0.62162,     0.62262,     0.62362,\n",
              "           0.62462,     0.62563,     0.62663,     0.62763,     0.62863,     0.62963,     0.63063,     0.63163,     0.63263,     0.63363,     0.63463,     0.63564,     0.63664,     0.63764,     0.63864,     0.63964,     0.64064,     0.64164,     0.64264,     0.64364,     0.64464,     0.64565,     0.64665,     0.64765,\n",
              "           0.64865,     0.64965,     0.65065,     0.65165,     0.65265,     0.65365,     0.65465,     0.65566,     0.65666,     0.65766,     0.65866,     0.65966,     0.66066,     0.66166,     0.66266,     0.66366,     0.66466,     0.66567,     0.66667,     0.66767,     0.66867,     0.66967,     0.67067,     0.67167,\n",
              "           0.67267,     0.67367,     0.67467,     0.67568,     0.67668,     0.67768,     0.67868,     0.67968,     0.68068,     0.68168,     0.68268,     0.68368,     0.68468,     0.68569,     0.68669,     0.68769,     0.68869,     0.68969,     0.69069,     0.69169,     0.69269,     0.69369,     0.69469,      0.6957,\n",
              "            0.6967,      0.6977,      0.6987,      0.6997,      0.7007,      0.7017,      0.7027,      0.7037,      0.7047,     0.70571,     0.70671,     0.70771,     0.70871,     0.70971,     0.71071,     0.71171,     0.71271,     0.71371,     0.71471,     0.71572,     0.71672,     0.71772,     0.71872,     0.71972,\n",
              "           0.72072,     0.72172,     0.72272,     0.72372,     0.72472,     0.72573,     0.72673,     0.72773,     0.72873,     0.72973,     0.73073,     0.73173,     0.73273,     0.73373,     0.73473,     0.73574,     0.73674,     0.73774,     0.73874,     0.73974,     0.74074,     0.74174,     0.74274,     0.74374,\n",
              "           0.74474,     0.74575,     0.74675,     0.74775,     0.74875,     0.74975,     0.75075,     0.75175,     0.75275,     0.75375,     0.75475,     0.75576,     0.75676,     0.75776,     0.75876,     0.75976,     0.76076,     0.76176,     0.76276,     0.76376,     0.76476,     0.76577,     0.76677,     0.76777,\n",
              "           0.76877,     0.76977,     0.77077,     0.77177,     0.77277,     0.77377,     0.77477,     0.77578,     0.77678,     0.77778,     0.77878,     0.77978,     0.78078,     0.78178,     0.78278,     0.78378,     0.78478,     0.78579,     0.78679,     0.78779,     0.78879,     0.78979,     0.79079,     0.79179,\n",
              "           0.79279,     0.79379,     0.79479,      0.7958,      0.7968,      0.7978,      0.7988,      0.7998,      0.8008,      0.8018,      0.8028,      0.8038,      0.8048,     0.80581,     0.80681,     0.80781,     0.80881,     0.80981,     0.81081,     0.81181,     0.81281,     0.81381,     0.81481,     0.81582,\n",
              "           0.81682,     0.81782,     0.81882,     0.81982,     0.82082,     0.82182,     0.82282,     0.82382,     0.82482,     0.82583,     0.82683,     0.82783,     0.82883,     0.82983,     0.83083,     0.83183,     0.83283,     0.83383,     0.83483,     0.83584,     0.83684,     0.83784,     0.83884,     0.83984,\n",
              "           0.84084,     0.84184,     0.84284,     0.84384,     0.84484,     0.84585,     0.84685,     0.84785,     0.84885,     0.84985,     0.85085,     0.85185,     0.85285,     0.85385,     0.85485,     0.85586,     0.85686,     0.85786,     0.85886,     0.85986,     0.86086,     0.86186,     0.86286,     0.86386,\n",
              "           0.86486,     0.86587,     0.86687,     0.86787,     0.86887,     0.86987,     0.87087,     0.87187,     0.87287,     0.87387,     0.87487,     0.87588,     0.87688,     0.87788,     0.87888,     0.87988,     0.88088,     0.88188,     0.88288,     0.88388,     0.88488,     0.88589,     0.88689,     0.88789,\n",
              "           0.88889,     0.88989,     0.89089,     0.89189,     0.89289,     0.89389,     0.89489,      0.8959,      0.8969,      0.8979,      0.8989,      0.8999,      0.9009,      0.9019,      0.9029,      0.9039,      0.9049,     0.90591,     0.90691,     0.90791,     0.90891,     0.90991,     0.91091,     0.91191,\n",
              "           0.91291,     0.91391,     0.91491,     0.91592,     0.91692,     0.91792,     0.91892,     0.91992,     0.92092,     0.92192,     0.92292,     0.92392,     0.92492,     0.92593,     0.92693,     0.92793,     0.92893,     0.92993,     0.93093,     0.93193,     0.93293,     0.93393,     0.93493,     0.93594,\n",
              "           0.93694,     0.93794,     0.93894,     0.93994,     0.94094,     0.94194,     0.94294,     0.94394,     0.94494,     0.94595,     0.94695,     0.94795,     0.94895,     0.94995,     0.95095,     0.95195,     0.95295,     0.95395,     0.95495,     0.95596,     0.95696,     0.95796,     0.95896,     0.95996,\n",
              "           0.96096,     0.96196,     0.96296,     0.96396,     0.96496,     0.96597,     0.96697,     0.96797,     0.96897,     0.96997,     0.97097,     0.97197,     0.97297,     0.97397,     0.97497,     0.97598,     0.97698,     0.97798,     0.97898,     0.97998,     0.98098,     0.98198,     0.98298,     0.98398,\n",
              "           0.98498,     0.98599,     0.98699,     0.98799,     0.98899,     0.98999,     0.99099,     0.99199,     0.99299,     0.99399,     0.99499,       0.996,       0.997,       0.998,       0.999,           1]), array([[    0.97167,     0.97167,     0.96667,       0.965,       0.965,     0.96333,     0.96333,     0.96028,     0.95833,     0.95667,     0.95167,     0.94833,     0.94333,     0.94333,     0.94333,     0.94249,     0.94167,     0.94167,     0.94167,     0.93833,       0.935,     0.93333,     0.93333,\n",
              "            0.93167,     0.93167,     0.93167,        0.93,        0.93,        0.93,        0.93,        0.93,        0.93,        0.93,        0.93,        0.93,     0.92833,     0.92333,     0.92333,     0.92333,     0.92333,        0.92,        0.92,        0.92,     0.91833,     0.91667,     0.91333,\n",
              "            0.91333,     0.91333,     0.91333,     0.91333,     0.91333,     0.91199,     0.91167,     0.91167,        0.91,        0.91,        0.91,        0.91,        0.91,        0.91,        0.91,        0.91,        0.91,        0.91,        0.91,        0.91,        0.91,        0.91,        0.91,\n",
              "               0.91,        0.91,        0.91,        0.91,        0.91,        0.91,        0.91,        0.91,        0.91,        0.91,        0.91,        0.91,        0.91,     0.90833,     0.90833,     0.90833,     0.90833,     0.90667,     0.90667,     0.90667,     0.90667,     0.90667,     0.90667,\n",
              "            0.90667,     0.90667,     0.90667,     0.90667,     0.90667,     0.90667,     0.90667,     0.90667,     0.90667,     0.90667,     0.90667,     0.90588,       0.905,     0.90442,     0.90333,     0.90333,     0.90333,     0.90333,     0.90333,     0.90333,     0.90333,      0.9031,     0.90167,\n",
              "            0.90167,     0.90167,     0.90167,     0.90167,     0.90167,     0.90167,     0.90167,     0.90167,     0.90167,     0.90167,     0.90167,     0.90167,     0.90032,         0.9,         0.9,         0.9,         0.9,     0.89833,     0.89833,     0.89833,     0.89833,     0.89833,     0.89833,\n",
              "            0.89833,     0.89833,     0.89833,     0.89833,     0.89833,     0.89833,       0.895,       0.895,       0.895,       0.895,       0.895,       0.895,       0.895,       0.895,       0.895,       0.895,       0.895,       0.895,       0.895,       0.895,       0.895,       0.895,      0.8929,\n",
              "            0.89246,     0.89202,     0.89167,     0.89167,     0.89167,     0.89112,     0.89007,        0.89,        0.89,        0.89,        0.89,        0.89,        0.89,        0.89,        0.89,        0.89,        0.89,        0.89,        0.89,        0.89,        0.89,        0.89,        0.89,\n",
              "               0.89,        0.89,     0.88879,     0.88663,     0.88595,     0.88526,       0.885,       0.885,       0.885,       0.885,       0.885,       0.885,       0.885,       0.885,       0.885,       0.885,       0.885,       0.885,       0.885,       0.885,       0.885,       0.885,       0.885,\n",
              "            0.88419,     0.88248,     0.88167,     0.88167,     0.88167,     0.88167,     0.88167,     0.88167,     0.88167,        0.88,        0.88,        0.88,        0.88,        0.88,        0.88,        0.88,        0.88,        0.88,        0.88,        0.88,        0.88,     0.87998,     0.87968,\n",
              "            0.87938,     0.87909,     0.87879,     0.87849,       0.875,       0.875,       0.875,       0.875,       0.875,       0.875,       0.875,       0.875,       0.875,       0.875,       0.875,       0.875,       0.875,       0.875,       0.875,       0.875,       0.875,       0.875,       0.875,\n",
              "            0.87324,      0.8721,     0.87139,     0.87093,     0.87047,     0.87002,     0.86833,     0.86554,       0.865,     0.86494,      0.8638,     0.86323,     0.86307,      0.8629,     0.86273,     0.86257,      0.8624,     0.86223,     0.86207,      0.8619,     0.86173,     0.86167,     0.86167,\n",
              "            0.86076,        0.86,        0.86,        0.86,        0.86,        0.86,        0.86,        0.86,        0.86,        0.86,        0.86,        0.86,        0.86,        0.86,        0.86,        0.86,        0.86,        0.86,        0.86,        0.86,        0.86,        0.86,        0.86,\n",
              "            0.85961,     0.85921,     0.85881,     0.85841,     0.85833,     0.85833,     0.85833,     0.85802,     0.85753,     0.85704,     0.85448,     0.85333,     0.85333,     0.85333,     0.85331,     0.85303,     0.85274,     0.85246,     0.85217,     0.85189,     0.85167,     0.85109,     0.84968,\n",
              "            0.84906,     0.84843,     0.84626,     0.84577,     0.84528,       0.845,       0.845,       0.845,       0.845,       0.845,     0.84157,     0.84124,     0.84092,     0.84059,     0.84027,     0.83989,     0.83927,     0.83865,     0.83833,     0.83833,     0.83667,     0.83667,     0.83667,\n",
              "            0.83667,     0.83667,     0.83667,     0.83667,     0.83667,     0.83667,     0.83667,     0.83667,     0.83667,     0.83667,     0.83667,     0.83667,     0.83667,     0.83667,     0.83667,     0.83667,     0.83667,     0.83667,     0.83667,     0.83667,     0.83667,     0.83667,     0.83667,\n",
              "            0.83667,     0.83667,     0.83667,     0.83667,     0.83667,     0.83667,     0.83667,     0.83667,     0.83667,     0.83667,     0.83667,     0.83667,     0.83667,     0.83667,     0.83667,     0.83667,     0.83657,     0.83631,     0.83605,     0.83579,     0.83552,     0.83526,       0.835,\n",
              "              0.835,       0.835,       0.835,       0.835,       0.835,       0.835,       0.835,       0.835,       0.835,       0.835,       0.835,       0.835,       0.835,     0.83357,      0.8326,     0.83174,     0.83167,     0.83167,     0.83167,     0.83167,     0.83167,     0.83167,     0.83167,\n",
              "            0.83167,     0.83167,     0.83167,     0.83167,     0.83167,     0.83167,     0.83167,     0.82833,     0.82833,     0.82833,     0.82833,     0.82833,     0.82833,     0.82833,     0.82816,      0.8273,     0.82652,     0.82595,     0.82538,       0.825,       0.825,       0.825,       0.825,\n",
              "              0.825,       0.825,       0.825,       0.825,       0.825,       0.825,       0.825,       0.825,       0.825,       0.825,       0.825,       0.825,       0.825,       0.825,       0.825,       0.825,       0.825,       0.825,       0.825,       0.825,       0.825,       0.825,       0.825,\n",
              "              0.825,       0.825,     0.82453,     0.82368,     0.82333,     0.82333,      0.8213,     0.82073,     0.82016,     0.81877,     0.81833,     0.81833,     0.81833,     0.81833,     0.81833,     0.81833,     0.81833,     0.81833,     0.81793,     0.81751,     0.81708,     0.81667,     0.81667,\n",
              "            0.81667,     0.81667,     0.81667,     0.81667,     0.81667,     0.81667,     0.81667,     0.81667,     0.81667,     0.81667,     0.81667,     0.81652,     0.81609,     0.81566,     0.81523,     0.81461,     0.81376,     0.81319,     0.81291,     0.81262,     0.81234,     0.81205,     0.81177,\n",
              "            0.81056,        0.81,        0.81,        0.81,        0.81,        0.81,        0.81,        0.81,        0.81,        0.81,        0.81,        0.81,     0.80947,      0.8089,     0.80833,     0.80814,     0.80795,     0.80776,     0.80757,     0.80738,     0.80719,       0.807,     0.80681,\n",
              "            0.80667,     0.80491,     0.80457,     0.80423,     0.80389,     0.80355,     0.80301,     0.80216,     0.80148,     0.80106,     0.80063,      0.8002,      0.7997,     0.79913,     0.79856,     0.79564,       0.795,       0.795,     0.79471,     0.79429,     0.79386,     0.79343,     0.79268,\n",
              "            0.79182,     0.79145,     0.79119,     0.79093,     0.79066,      0.7904,     0.79014,        0.79,        0.79,        0.79,        0.79,        0.79,        0.79,        0.79,        0.79,        0.79,        0.79,        0.79,        0.79,     0.78967,     0.78924,     0.78882,     0.78839,\n",
              "            0.78818,       0.788,     0.78782,     0.78764,     0.78746,     0.78728,      0.7871,     0.78692,     0.78674,     0.78615,      0.7853,     0.78223,     0.78144,      0.7811,     0.78075,     0.78041,     0.78007,      0.7797,     0.77932,     0.77894,     0.77856,     0.77655,     0.77627,\n",
              "            0.77598,      0.7757,     0.77541,     0.77513,     0.77239,     0.77167,     0.77167,     0.77167,     0.77167,      0.7716,     0.77126,     0.77092,     0.77058,     0.77024,        0.77,        0.77,     0.76803,     0.76717,       0.765,       0.765,     0.76477,     0.76453,     0.76428,\n",
              "            0.76404,     0.76379,     0.76355,     0.76295,     0.76113,     0.76028,        0.76,     0.75804,     0.75761,     0.75718,     0.75675,     0.75644,     0.75616,     0.75587,     0.75559,      0.7553,     0.75502,     0.75172,     0.75167,     0.75167,     0.75167,     0.75167,     0.75167,\n",
              "            0.75167,     0.75167,     0.74889,       0.748,     0.74752,     0.74703,     0.74667,     0.74476,      0.7439,     0.74333,     0.73761,     0.73676,     0.73181,      0.7301,     0.72628,     0.72542,       0.725,     0.72487,     0.72463,     0.72438,     0.72414,     0.72389,     0.72365,\n",
              "            0.72341,     0.72274,     0.72188,     0.72116,     0.72047,     0.71979,     0.71911,     0.71842,     0.71624,     0.71575,     0.71527,     0.71486,     0.71455,     0.71424,     0.71393,     0.71362,     0.71329,      0.7128,     0.71231,     0.71183,     0.70968,     0.70797,      0.7064,\n",
              "            0.70526,     0.70151,     0.70131,     0.70111,     0.70091,     0.70071,     0.70051,     0.70031,      0.7001,      0.6965,     0.69616,     0.69582,     0.69548,     0.69514,     0.69431,     0.69328,      0.6929,     0.69252,     0.69214,     0.69176,     0.68949,      0.6888,     0.68227,\n",
              "            0.68026,     0.67452,     0.67395,     0.67338,     0.66921,     0.66836,     0.66833,     0.66833,     0.66662,     0.66548,     0.66401,      0.6623,     0.66131,     0.66074,     0.66017,     0.65652,     0.65584,     0.65515,     0.65456,     0.65399,     0.65342,     0.65109,      0.6504,\n",
              "             0.6493,     0.64667,     0.64631,     0.64593,     0.64555,     0.64517,     0.64239,     0.64101,      0.6398,     0.63825,     0.63768,     0.63711,     0.63642,     0.63528,     0.63333,     0.63235,     0.62466,     0.62423,      0.6238,     0.62338,     0.61984,     0.61947,     0.61909,\n",
              "            0.61871,     0.61831,     0.61717,     0.61603,     0.60984,     0.60813,     0.60285,     0.60092,     0.59812,     0.59698,     0.59323,      0.5928,     0.59238,     0.59195,     0.58885,     0.58594,     0.58509,       0.585,       0.585,       0.585,      0.5815,     0.58116,     0.58082,\n",
              "            0.58048,     0.58014,      0.5746,     0.57262,      0.5711,     0.56551,      0.5644,     0.56355,     0.55743,       0.556,     0.55515,     0.55167,     0.55167,     0.55167,      0.5468,     0.54426,     0.54311,     0.54262,     0.54213,     0.53659,      0.5331,     0.53127,     0.53059,\n",
              "            0.52976,     0.52814,     0.52701,     0.52427,     0.51917,     0.51811,     0.51725,      0.5156,     0.51192,     0.50938,     0.50767,     0.50263,     0.50145,     0.50097,     0.50048,     0.49997,     0.49818,     0.49405,     0.48734,     0.48598,     0.48476,      0.4811,     0.47667,\n",
              "            0.47667,     0.47042,     0.46791,     0.46734,     0.46677,     0.46109,      0.4571,     0.45267,     0.44693,      0.4445,     0.44337,     0.44056,     0.43826,     0.43492,     0.43143,     0.42468,      0.4146,      0.4065,     0.40537,     0.40101,     0.39213,     0.38479,     0.38394,\n",
              "            0.38235,     0.37393,     0.37192,     0.36927,     0.36842,      0.3668,     0.36342,     0.36171,     0.36001,     0.34993,     0.34326,     0.33992,     0.33878,     0.33293,     0.32892,     0.32221,     0.31609,     0.31523,      0.3125,     0.30977,     0.30892,     0.30667,     0.30218,\n",
              "            0.29355,     0.29184,     0.27693,     0.27088,     0.27002,     0.26501,     0.25942,     0.25651,     0.24309,       0.239,      0.2298,     0.22784,     0.21888,     0.21434,     0.19975,     0.19861,     0.19538,      0.1845,     0.18059,     0.17359,     0.17021,     0.16234,     0.16026,\n",
              "            0.15592,     0.15176,     0.14834,      0.1472,     0.13995,     0.13881,      0.1265,     0.12459,     0.12095,     0.11776,     0.11384,     0.10926,     0.10604,     0.10519,     0.09617,    0.092795,    0.087947,    0.086808,    0.083333,    0.082308,     0.07684,    0.076018,    0.075335,\n",
              "           0.069923,     0.06492,    0.063212,    0.059673,    0.055628,    0.050947,    0.049423,    0.043836,    0.041419,     0.04028,    0.037904,    0.037334,    0.036765,    0.033043,    0.032189,    0.029557,    0.028418,    0.025919,    0.024775,    0.024286,    0.023798,    0.021613,    0.020474,\n",
              "           0.019335,     0.01823,    0.017376,    0.016377,     0.01494,    0.014629,    0.014319,    0.014008,    0.013697,    0.013387,    0.012767,    0.012084,    0.011334,     0.01048,   0.0095012,   0.0083623,   0.0079171,     0.00749,   0.0070629,   0.0049824,   0.0047383,   0.0044943,   0.0042502,\n",
              "          0.0040061,   0.0037621,    0.003518,           0,           0,           0,           0,           0,           0,           0,           0,           0,           0,           0,           0,           0,           0,           0,           0,           0,           0,           0,           0,\n",
              "                  0,           0,           0,           0,           0,           0,           0,           0,           0,           0,           0]]), 'Confidence', 'Recall']]\n",
              "fitness: np.float64(0.6656235802587199)\n",
              "keys: ['metrics/precision(B)', 'metrics/recall(B)', 'metrics/mAP50(B)', 'metrics/mAP50-95(B)']\n",
              "maps: array([    0.63938])\n",
              "names: {0: 'empty_shelf'}\n",
              "plot: True\n",
              "results_dict: {'metrics/precision(B)': np.float64(0.9216377642386165), 'metrics/recall(B)': np.float64(0.8166666666666667), 'metrics/mAP50(B)': np.float64(0.9018363402527084), 'metrics/mAP50-95(B)': np.float64(0.6393777180371656), 'fitness': np.float64(0.6656235802587199)}\n",
              "save_dir: PosixPath('runs/detect/train')\n",
              "speed: {'preprocess': 0.3604721649473748, 'inference': 3.0501787113381233, 'loss': 0.0006124639171081145, 'postprocess': 5.035692999999623}\n",
              "task: 'detect'"
            ]
          },
          "metadata": {},
          "execution_count": 10
        }
      ]
    },
    {
      "cell_type": "markdown",
      "source": [
        "**Key Metrics**----Evaluate Model\n",
        "\n",
        "Precision\t0.92-model is good at avoiding false positives\n",
        "\n",
        "Recall\t0.82-It correctly detects most empty shelves\n",
        "\n",
        "mAP@0.50\t0.90-Excellent — high accuracy at IoU 0.50\n",
        "\n",
        "mAP@0.50 0.95-Still strong — good general localization ability"
      ],
      "metadata": {
        "id": "fA5uMc36f9FL"
      }
    },
    {
      "cell_type": "markdown",
      "source": [
        "**Predict on New Image**"
      ],
      "metadata": {
        "id": "mxIs1Dz-vljD"
      }
    },
    {
      "cell_type": "code",
      "source": [
        "from google.colab import files\n",
        "uploaded = files.upload()"
      ],
      "metadata": {
        "colab": {
          "base_uri": "https://localhost:8080/",
          "height": 74
        },
        "id": "bEVQEEladSMj",
        "outputId": "400a3a6b-0977-4fe4-81a5-725f699da3b1"
      },
      "execution_count": 15,
      "outputs": [
        {
          "output_type": "display_data",
          "data": {
            "text/plain": [
              "<IPython.core.display.HTML object>"
            ],
            "text/html": [
              "\n",
              "     <input type=\"file\" id=\"files-4a5780ab-393c-4aeb-8191-81c695ca0b52\" name=\"files[]\" multiple disabled\n",
              "        style=\"border:none\" />\n",
              "     <output id=\"result-4a5780ab-393c-4aeb-8191-81c695ca0b52\">\n",
              "      Upload widget is only available when the cell has been executed in the\n",
              "      current browser session. Please rerun this cell to enable.\n",
              "      </output>\n",
              "      <script>// Copyright 2017 Google LLC\n",
              "//\n",
              "// Licensed under the Apache License, Version 2.0 (the \"License\");\n",
              "// you may not use this file except in compliance with the License.\n",
              "// You may obtain a copy of the License at\n",
              "//\n",
              "//      http://www.apache.org/licenses/LICENSE-2.0\n",
              "//\n",
              "// Unless required by applicable law or agreed to in writing, software\n",
              "// distributed under the License is distributed on an \"AS IS\" BASIS,\n",
              "// WITHOUT WARRANTIES OR CONDITIONS OF ANY KIND, either express or implied.\n",
              "// See the License for the specific language governing permissions and\n",
              "// limitations under the License.\n",
              "\n",
              "/**\n",
              " * @fileoverview Helpers for google.colab Python module.\n",
              " */\n",
              "(function(scope) {\n",
              "function span(text, styleAttributes = {}) {\n",
              "  const element = document.createElement('span');\n",
              "  element.textContent = text;\n",
              "  for (const key of Object.keys(styleAttributes)) {\n",
              "    element.style[key] = styleAttributes[key];\n",
              "  }\n",
              "  return element;\n",
              "}\n",
              "\n",
              "// Max number of bytes which will be uploaded at a time.\n",
              "const MAX_PAYLOAD_SIZE = 100 * 1024;\n",
              "\n",
              "function _uploadFiles(inputId, outputId) {\n",
              "  const steps = uploadFilesStep(inputId, outputId);\n",
              "  const outputElement = document.getElementById(outputId);\n",
              "  // Cache steps on the outputElement to make it available for the next call\n",
              "  // to uploadFilesContinue from Python.\n",
              "  outputElement.steps = steps;\n",
              "\n",
              "  return _uploadFilesContinue(outputId);\n",
              "}\n",
              "\n",
              "// This is roughly an async generator (not supported in the browser yet),\n",
              "// where there are multiple asynchronous steps and the Python side is going\n",
              "// to poll for completion of each step.\n",
              "// This uses a Promise to block the python side on completion of each step,\n",
              "// then passes the result of the previous step as the input to the next step.\n",
              "function _uploadFilesContinue(outputId) {\n",
              "  const outputElement = document.getElementById(outputId);\n",
              "  const steps = outputElement.steps;\n",
              "\n",
              "  const next = steps.next(outputElement.lastPromiseValue);\n",
              "  return Promise.resolve(next.value.promise).then((value) => {\n",
              "    // Cache the last promise value to make it available to the next\n",
              "    // step of the generator.\n",
              "    outputElement.lastPromiseValue = value;\n",
              "    return next.value.response;\n",
              "  });\n",
              "}\n",
              "\n",
              "/**\n",
              " * Generator function which is called between each async step of the upload\n",
              " * process.\n",
              " * @param {string} inputId Element ID of the input file picker element.\n",
              " * @param {string} outputId Element ID of the output display.\n",
              " * @return {!Iterable<!Object>} Iterable of next steps.\n",
              " */\n",
              "function* uploadFilesStep(inputId, outputId) {\n",
              "  const inputElement = document.getElementById(inputId);\n",
              "  inputElement.disabled = false;\n",
              "\n",
              "  const outputElement = document.getElementById(outputId);\n",
              "  outputElement.innerHTML = '';\n",
              "\n",
              "  const pickedPromise = new Promise((resolve) => {\n",
              "    inputElement.addEventListener('change', (e) => {\n",
              "      resolve(e.target.files);\n",
              "    });\n",
              "  });\n",
              "\n",
              "  const cancel = document.createElement('button');\n",
              "  inputElement.parentElement.appendChild(cancel);\n",
              "  cancel.textContent = 'Cancel upload';\n",
              "  const cancelPromise = new Promise((resolve) => {\n",
              "    cancel.onclick = () => {\n",
              "      resolve(null);\n",
              "    };\n",
              "  });\n",
              "\n",
              "  // Wait for the user to pick the files.\n",
              "  const files = yield {\n",
              "    promise: Promise.race([pickedPromise, cancelPromise]),\n",
              "    response: {\n",
              "      action: 'starting',\n",
              "    }\n",
              "  };\n",
              "\n",
              "  cancel.remove();\n",
              "\n",
              "  // Disable the input element since further picks are not allowed.\n",
              "  inputElement.disabled = true;\n",
              "\n",
              "  if (!files) {\n",
              "    return {\n",
              "      response: {\n",
              "        action: 'complete',\n",
              "      }\n",
              "    };\n",
              "  }\n",
              "\n",
              "  for (const file of files) {\n",
              "    const li = document.createElement('li');\n",
              "    li.append(span(file.name, {fontWeight: 'bold'}));\n",
              "    li.append(span(\n",
              "        `(${file.type || 'n/a'}) - ${file.size} bytes, ` +\n",
              "        `last modified: ${\n",
              "            file.lastModifiedDate ? file.lastModifiedDate.toLocaleDateString() :\n",
              "                                    'n/a'} - `));\n",
              "    const percent = span('0% done');\n",
              "    li.appendChild(percent);\n",
              "\n",
              "    outputElement.appendChild(li);\n",
              "\n",
              "    const fileDataPromise = new Promise((resolve) => {\n",
              "      const reader = new FileReader();\n",
              "      reader.onload = (e) => {\n",
              "        resolve(e.target.result);\n",
              "      };\n",
              "      reader.readAsArrayBuffer(file);\n",
              "    });\n",
              "    // Wait for the data to be ready.\n",
              "    let fileData = yield {\n",
              "      promise: fileDataPromise,\n",
              "      response: {\n",
              "        action: 'continue',\n",
              "      }\n",
              "    };\n",
              "\n",
              "    // Use a chunked sending to avoid message size limits. See b/62115660.\n",
              "    let position = 0;\n",
              "    do {\n",
              "      const length = Math.min(fileData.byteLength - position, MAX_PAYLOAD_SIZE);\n",
              "      const chunk = new Uint8Array(fileData, position, length);\n",
              "      position += length;\n",
              "\n",
              "      const base64 = btoa(String.fromCharCode.apply(null, chunk));\n",
              "      yield {\n",
              "        response: {\n",
              "          action: 'append',\n",
              "          file: file.name,\n",
              "          data: base64,\n",
              "        },\n",
              "      };\n",
              "\n",
              "      let percentDone = fileData.byteLength === 0 ?\n",
              "          100 :\n",
              "          Math.round((position / fileData.byteLength) * 100);\n",
              "      percent.textContent = `${percentDone}% done`;\n",
              "\n",
              "    } while (position < fileData.byteLength);\n",
              "  }\n",
              "\n",
              "  // All done.\n",
              "  yield {\n",
              "    response: {\n",
              "      action: 'complete',\n",
              "    }\n",
              "  };\n",
              "}\n",
              "\n",
              "scope.google = scope.google || {};\n",
              "scope.google.colab = scope.google.colab || {};\n",
              "scope.google.colab._files = {\n",
              "  _uploadFiles,\n",
              "  _uploadFilesContinue,\n",
              "};\n",
              "})(self);\n",
              "</script> "
            ]
          },
          "metadata": {}
        },
        {
          "output_type": "stream",
          "name": "stdout",
          "text": [
            "Saving test2020_90_jpg.rf.2052e791cb24abb6c02c003e0b6d2397.jpg to test2020_90_jpg.rf.2052e791cb24abb6c02c003e0b6d2397.jpg\n"
          ]
        }
      ]
    },
    {
      "cell_type": "code",
      "source": [
        "import os\n",
        "\n",
        "for root, dirs, files in os.walk(\"/content\"):\n",
        "    for file in files:\n",
        "        if file == \"best.pt\":\n",
        "            print(os.path.join(root, file))\n"
      ],
      "metadata": {
        "colab": {
          "base_uri": "https://localhost:8080/"
        },
        "id": "ZvCPSG3heqYB",
        "outputId": "ba332a70-7f6c-4691-974f-25e52c8e718e"
      },
      "execution_count": 21,
      "outputs": [
        {
          "output_type": "stream",
          "name": "stdout",
          "text": [
            "/content/runs/detect/train/weights/best.pt\n"
          ]
        }
      ]
    },
    {
      "cell_type": "code",
      "source": [
        "from ultralytics import YOLO\n",
        "\n",
        "# Load the trained model\n",
        "model = YOLO(\"/content/runs/detect/train/weights/best.pt\")\n",
        "\n",
        "# Run prediction on uploaded image\n",
        "results = model.predict(source=\"/content/test2020_90_jpg.rf.2052e791cb24abb6c02c003e0b6d2397.jpg\", save=True, conf=0.5)\n"
      ],
      "metadata": {
        "colab": {
          "base_uri": "https://localhost:8080/"
        },
        "id": "MNdBbciJO5G0",
        "outputId": "0f84c197-7690-400e-8159-f54d4056e336"
      },
      "execution_count": 22,
      "outputs": [
        {
          "output_type": "stream",
          "name": "stdout",
          "text": [
            "\n",
            "image 1/1 /content/test2020_90_jpg.rf.2052e791cb24abb6c02c003e0b6d2397.jpg: 640x640 3 empty_shelfs, 7.4ms\n",
            "Speed: 1.8ms preprocess, 7.4ms inference, 1.4ms postprocess per image at shape (1, 3, 640, 640)\n",
            "Results saved to \u001b[1mruns/detect/predict2\u001b[0m\n"
          ]
        }
      ]
    },
    {
      "cell_type": "code",
      "source": [
        "from IPython.display import Image, display\n",
        "\n",
        "display(Image(filename=\"/content/runs/detect/predict2/test2020_90_jpg.rf.2052e791cb24abb6c02c003e0b6d2397.jpg\"))\n"
      ],
      "metadata": {
        "colab": {
          "base_uri": "https://localhost:8080/",
          "height": 657
        },
        "id": "Tzz4alx2aTB0",
        "outputId": "b3cfa9cf-4a7b-442a-8369-17b0ff89508d"
      },
      "execution_count": 23,
      "outputs": [
        {
          "output_type": "display_data",
          "data": {
            "image/jpeg": "[encoded data removed]",
            "text/plain": [
              "<IPython.core.display.Image object>"
            ]
          },
          "metadata": {}
        }
      ]
    },
    {
      "cell_type": "code",
      "source": [],
      "metadata": {
        "id": "rOTs4IN5oOaW"
      },
      "execution_count": null,
      "outputs": []
    }
  ]
}